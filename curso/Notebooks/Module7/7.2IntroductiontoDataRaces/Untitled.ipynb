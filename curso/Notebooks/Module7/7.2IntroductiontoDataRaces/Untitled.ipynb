{
 "cells": [
  {
   "cell_type": "markdown",
   "metadata": {},
   "source": [
    "# <span style=\"color:green\">Objective</span>\n",
    "<h2>\n",
    "To understand data races in parallel computing\n",
    "<ul>\n",
    "<li>Data races can occur when performing read-modify-write operations</li>\n",
    "<li>Data races can cause errors that are hard to reproduce</li>\n",
    "<li>Atomic operations are designed to eliminate such data races</li>\n",
    "</ul>\n",
    "</h2>\n",
    "<hr style=\"height:2px\">"
   ]
  },
  {
   "cell_type": "markdown",
   "metadata": {},
   "source": [
    "# <span style=\"color:green\">Read-modify-write in the Text Histogram Example</span>\n",
    "\n",
    "\n",
    "<br></br>\n",
    "<div style=\"text-align:justify\">\n",
    "        <ul>\n",
    "            <h2>\n",
    "                    <li>For coalescing and better memory access performance</li>\n",
    "            </h2>\n",
    "        </ul>\n",
    "        <br></br>\n",
    "        <span style=\"float:center;clear:center\">![alt tag](img/8.png)</span>\n",
    "\n",
    "</div>\n",
    "\n",
    "<hr style=\"height:2px\">"
   ]
  },
  {
   "cell_type": "markdown",
   "metadata": {},
   "source": [
    "# <span style=\"color:green\">Read-Modify-Write Used in Collaboration Patterns</span>\n",
    "\n",
    "<br></br>\n",
    "<div style=\"text-align:justify\">\n",
    "        <ul>\n",
    "            <h2>\n",
    "            \n",
    "            <li>For example, multiple bank tellers count the total amount of cash in the\n",
    "safe</li>\n",
    "            <li>Each grab a pile and count</li>\n",
    "            <li>Have a central display of the running total</li>\n",
    "            <li>Whenever someone finishes counting a pile, read the current running\n",
    "total (read) and add the subtotal of the pile to the running total (modify-\n",
    "write)</li>\n",
    "            <li>A bad outcome\n",
    "                <ul>\n",
    "                    <li>Some of the piles were not accounted for in the final total</li>\n",
    "                </ul>\n",
    "            </li>\n",
    "            </h2>\n",
    "        </ul>\n",
    "</div>\n",
    "\n",
    "<hr style=\"height:2px\">"
   ]
  },
  {
   "cell_type": "markdown",
   "metadata": {},
   "source": [
    "# <span style=\"color:green\">A Common Parallel Service Pattern</span>\n",
    "\n",
    "<br></br>\n",
    "<div style=\"text-align:justify\">\n",
    "        <ul>\n",
    "            <h2>\n",
    "            \n",
    "            <li>For example, multiple customer service agents serving waiting customers</li>\n",
    "            <li>The system maintains two numbers,\n",
    "                <ul>\n",
    "                    <li>the number to be given to the next incoming customer (I)</li>\n",
    "                    <li>the number for the customer to be served next (S)</li>\n",
    "                </ul>\n",
    "            </li>\n",
    "            <li>The system gives each incoming customer a number (read I) and\n",
    "increments the number to be given to the next customer by 1 (modify-\n",
    "write I)</li>\n",
    "            <li>A central display shows the number for the customer to be served next</li>\n",
    "            <li>When an agent becomes available, he/she calls the number (read S) and\n",
    "increments the display number by 1 (modify-write S)</li>\n",
    "            <li>Bad outcomes\n",
    "                <ul>\n",
    "                    <li>Multiple customers receive the same number, only one of them receives service</li>\n",
    "                    <li>Multiple agents serve the same number</li>\n",
    "                </ul>\n",
    "            </li>\n",
    "            </h2>\n",
    "        </ul>\n",
    "</div>\n",
    "\n",
    "<hr style=\"height:2px\">"
   ]
  },
  {
   "cell_type": "markdown",
   "metadata": {},
   "source": [
    "# <span style=\"color:green\">A Common Arbitration Pattern</span>\n",
    "\n",
    "<br></br>\n",
    "<div style=\"text-align:justify\">\n",
    "        <ul>\n",
    "            <h2>\n",
    "            \n",
    "            <li>For example, multiple customers booking airline tickets in parallel</li>\n",
    "            <li>Each\n",
    "                <ul>\n",
    "                    <li>Brings up a flight seat map (read)</li>\n",
    "                    <li>Decides on a seat</li>\n",
    "                    <li>Updates the seat map and marks the selected seat as taken (modify-\n",
    "write)</li>\n",
    "                </ul>\n",
    "            </li>\n",
    "            <li>A bad outcome\n",
    "                <ul>\n",
    "                    <li>Multiple passengers ended up booking the same seat</li>\n",
    "                </ul>\n",
    "            </li>\n",
    "            </h2>\n",
    "        </ul>\n",
    "</div>\n",
    "\n",
    "<hr style=\"height:2px\">"
   ]
  },
  {
   "cell_type": "markdown",
   "metadata": {},
   "source": [
    "# <span style=\"color:green\">Data Race in Parallel Thread Execution</span>\n",
    "\n",
    "\n",
    "<br></br>\n",
    "<div style=\"text-align:justify;font-size:23px\">\n",
    "\n",
    "        <span style=\"float:center;clear:center\">![alt tag](img/2.png)</span>\n",
    "        \n",
    "        <p>Old and New are per-thread register variables.</p>\n",
    "        <p>Question 1: If Mem[x] was initially 0, what would the value of Mem[x] be\n",
    "after threads 1 and 2 have completed?<p>\n",
    "        <p>Question 2: What does each thread get in their Old variable?</p>\n",
    "        <p>Unfortunately, the answers may vary according to the relative execution\n",
    "timing between the two threads, which is referred to as a <strong>data race</strong>.</p>\n",
    "\n",
    "</div>\n",
    "\n",
    "<hr style=\"height:2px\">"
   ]
  },
  {
   "cell_type": "markdown",
   "metadata": {},
   "source": [
    "# <span style=\"color:green\">Timing Scenario #1</span>\n",
    "\n",
    "\n",
    "<br></br>\n",
    "<div style=\"text-align:justify\">\n",
    "\n",
    "        <br></br>\n",
    "        <span style=\"float:center;clear:center\">![alt tag](img/3.png)</span>\n",
    "\n",
    "</div>\n",
    "\n",
    "<hr style=\"height:2px\">"
   ]
  },
  {
   "cell_type": "markdown",
   "metadata": {},
   "source": [
    "# <span style=\"color:green\">Timing Scenario #2</span>\n",
    "\n",
    "\n",
    "<br></br>\n",
    "<div style=\"text-align:justify\">\n",
    "\n",
    "        <br></br>\n",
    "        <span style=\"float:center;clear:center\">![alt tag](img/4.png)</span>\n",
    "\n",
    "</div>\n",
    "\n",
    "<hr style=\"height:2px\">"
   ]
  },
  {
   "cell_type": "markdown",
   "metadata": {},
   "source": [
    "# <span style=\"color:green\">Timing Scenario #3</span>\n",
    "\n",
    "\n",
    "<br></br>\n",
    "<div style=\"text-align:justify\">\n",
    "\n",
    "        <br></br>\n",
    "        <span style=\"float:center;clear:center\">![alt tag](img/5.png)</span>\n",
    "\n",
    "</div>\n",
    "\n",
    "<hr style=\"height:2px\">"
   ]
  },
  {
   "cell_type": "markdown",
   "metadata": {},
   "source": [
    "# <span style=\"color:green\">Timing Scenario #4</span>\n",
    "\n",
    "\n",
    "<br></br>\n",
    "<div style=\"text-align:justify\">\n",
    "\n",
    "        <br></br>\n",
    "        <span style=\"float:center;clear:center\">![alt tag](img/6.png)</span>\n",
    "\n",
    "</div>\n",
    "\n",
    "<hr style=\"height:2px\">"
   ]
  },
  {
   "cell_type": "markdown",
   "metadata": {},
   "source": [
    "# <span style=\"color:green\">Purpose of Atomic Operations – To Ensure Good Outcomes</span>\n",
    "\n",
    "\n",
    "<br></br>\n",
    "<div style=\"text-align:justify\">\n",
    "\n",
    "        <br></br>\n",
    "        <span style=\"float:center;clear:center\">![alt tag](img/7.png)</span>\n",
    "\n",
    "</div>\n",
    "\n",
    "<hr style=\"height:2px\">"
   ]
  },
  {
   "cell_type": "markdown",
   "metadata": {},
   "source": [
    "<footer>\n",
    "<cite> GPU NVIDIA Teaching Kit - University of Illinois </cite>\n",
    "</footer>\n",
    "<hr style=\"height:2px\">"
   ]
  }
 ],
 "metadata": {
  "kernelspec": {
   "display_name": "Python 2",
   "language": "python",
   "name": "python2"
  },
  "language_info": {
   "codemirror_mode": {
    "name": "ipython",
    "version": 2
   },
   "file_extension": ".py",
   "mimetype": "text/x-python",
   "name": "python",
   "nbconvert_exporter": "python",
   "pygments_lexer": "ipython2",
   "version": "2.7.6"
  }
 },
 "nbformat": 4,
 "nbformat_minor": 1
}
