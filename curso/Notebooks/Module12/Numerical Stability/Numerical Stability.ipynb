{
 "cells": [
  {
   "cell_type": "markdown",
   "metadata": {},
   "source": [
    "# <span style=\"color:green\"> Objectives </span>\n",
    "\n",
    "- Understand numerical stability in linear system solver algorithms\n",
    "    - Cause of numerical instability\n",
    "    - Pivoting for increased stability\n",
    "\n",
    "<hr style=\"height:2px\">"
   ]
  },
  {
   "cell_type": "markdown",
   "metadata": {},
   "source": [
    "# <span style=\"color:green\"> Numerical Stability </span>\n",
    "\n",
    "- Some order of floating-point operations may cause some applications to fail\n",
    "- Linear system solvers may require different ordering of floating-point operations for different input values\n",
    "- An algorithm that can always find an appropriate operation order and thus a solution to the problem is a numerically stable algorithm\n",
    "    - An algorithm that falls short is numerically unstable\n",
    "\n",
    "<hr style=\"height:2px\">"
   ]
  },
  {
   "cell_type": "markdown",
   "metadata": {},
   "source": [
    "# <span style=\"color:green\"> Gaussian Elimination Example </span>\n",
    "\n",
    "![alt tag](img/4.png)\n",
    "\n",
    "![alt tag](img/5.png)\n",
    "\n",
    "![alt tag](img/6.png)\n",
    "\n",
    "### Then\n",
    "\n",
    "![alt tag](img/7.png)\n",
    "\n",
    "<hr style=\"height:2px\">"
   ]
  },
  {
   "cell_type": "markdown",
   "metadata": {},
   "source": [
    "# <span style=\"color:green\"> Basic Gaussian Elimination is Easy to Parallelize </span>\n",
    "\n",
    "- Have each thread to perform all calculations for a row\n",
    "    - Have each thread to perform all calculations for a row\n",
    "    - All subtractions in a subtraction step can be done in parallel\n",
    "    - Will need barrier synchronization after each step\n",
    "- However, there is a problem with numerical stability\n",
    "\n",
    "<hr style=\"height:2px\">"
   ]
  },
  {
   "cell_type": "markdown",
   "metadata": {},
   "source": [
    "# <span style=\"color:green\"> Pivoting </span>\n",
    "\n",
    "![alt tag](img/9.png)\n",
    "\n",
    "![alt tag](img/10.png)\n",
    "\n",
    "![alt tag](img/11.png)\n",
    "\n",
    "![alt tag](img/12.png)\n",
    "\n",
    "### Then\n",
    "\n",
    "![alt tag](img/13.png)\n",
    "\n",
    "<hr style=\"height:2px\">"
   ]
  },
  {
   "cell_type": "markdown",
   "metadata": {},
   "source": [
    "# <span style=\"color:green\"> Why is Pivoting Hard to Parallelize? </span>\n",
    "\n",
    "- Need to scan through all rows (in fact columns in general) to find the best pivoting candidate\n",
    "    - A major disruption to the parallel computation steps\n",
    "    - Most parallel algorithms avoid full pivoting\n",
    "    - Thus most parallel algorithms have some level of numerical instability\n",
    "\n",
    "<hr style=\"height:2px\">"
   ]
  },
  {
   "cell_type": "markdown",
   "metadata": {},
   "source": [
    "<footer>\n",
    "<cite> GPU NVIDIA Teaching Kit - University of Illinois </cite>\n",
    "</footer>"
   ]
  }
 ],
 "metadata": {
  "kernelspec": {
   "display_name": "Python 3",
   "language": "python",
   "name": "python3"
  },
  "language_info": {
   "codemirror_mode": {
    "name": "ipython",
    "version": 3
   },
   "file_extension": ".py",
   "mimetype": "text/x-python",
   "name": "python",
   "nbconvert_exporter": "python",
   "pygments_lexer": "ipython3",
   "version": "3.5.2"
  }
 },
 "nbformat": 4,
 "nbformat_minor": 1
}
