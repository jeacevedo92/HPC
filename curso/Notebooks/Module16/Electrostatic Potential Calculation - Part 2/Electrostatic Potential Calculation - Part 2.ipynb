{
 "cells": [
  {
   "cell_type": "markdown",
   "metadata": {},
   "source": [
    "# <span style=\"color:green\"> Objective </span>\n",
    "\n",
    "- To learn how to apply parallel programming techniques to an application\n",
    "    - A fast gather kernel\n",
    "    - Thread coarsening for more work efficiency\n",
    "    - Data structure padding for reduced divergence\n",
    "    - Memory access locality and pre-computation techniques\n",
    "\n",
    "<hr style=\"height:2px\">"
   ]
  },
  {
   "cell_type": "markdown",
   "metadata": {},
   "source": [
    "# <span style=\"color:green\"> A Slower Sequential C Version </span>\n",
    "\n",
    "```cpp\n",
    "\n",
    "void cenergy(float *energygrid, dim3 grid, float gridspacing, float z, const float *atoms, int\n",
    "numatoms) {\n",
    "    int atomarrdim = numatoms * 4;\n",
    "    int k = z / gridspacing;\n",
    "    // OUTPUT ORIENTED\n",
    "    for (int j=0; j<grid.y; j++) {\n",
    "        float y = gridspacing * (float) j;\n",
    "        for (int i=0; i<grid.x; i++) {\n",
    "            float x = gridspacing * (float) i;\n",
    "            float energy = 0.0f;\n",
    "            for (int n=0; n<atomarrdim; n+=4) {\n",
    "                // calculate potential contribution of each atom\n",
    "                float dx = x - atoms[n];\n",
    "                float dy = y - atoms[n+1];\n",
    "                float dz = z - atoms[n+2];\n",
    "                energy += atoms[n+3] / sqrtf(dx*dx + dy*dy + dz*dz);\n",
    "            }\n",
    "            energygrid[grid.x*grid.y*k + grid.x*j + i] += energy;\n",
    "        }\n",
    "    }\n",
    "}\n",
    "\n",
    "```\n",
    "\n",
    "<hr style=\"height:2px\">"
   ]
  },
  {
   "cell_type": "markdown",
   "metadata": {},
   "source": [
    "# <span style=\"color:green\"> A Slower Sequential C Version </span>\n",
    "\n",
    "```cpp\n",
    "\n",
    "void cenergy(float *energygrid, dim3 grid, float gridspacing, float z, const\n",
    "float *atoms, int numatoms) {\n",
    "    int atomarrdim = numatoms * 4;\n",
    "    int k = z / gridspacing;\n",
    "    for (int j=0; j<grid.y; j++) {\n",
    "        float y = gridspacing * (float) j;\n",
    "        for (int i=0; i<grid.x; i++) {\n",
    "            float x = gridspacing * (float) i;\n",
    "            float energy = 0.0f\n",
    "            for (int n=0; n<atomarrdim; n+=4) {\n",
    "                // calculate potential contribution of each atom - REDUNDANT WORK\n",
    "                float dx = x - atoms[n];\n",
    "                float dy = y - atoms[n+1];\n",
    "                float dz = z - atoms[n+2];\n",
    "                energy += atoms[n+3] / sqrtf(dx*dx + dy*dy + dz*dz);\n",
    "            }\n",
    "            energygrid[grid.x*grid.y*k + grid.x*j + i] += energy;\n",
    "        }\n",
    "    }\n",
    "}\n",
    "\n",
    "```\n",
    "\n",
    "<hr style=\"height:2px\">"
   ]
  },
  {
   "cell_type": "markdown",
   "metadata": {},
   "source": [
    "# <span style=\"color:green\"> Pros and Cons of the Slower Sequential Code </span>\n",
    "\n",
    "- Pros\n",
    "    - Fewer access to the energygrid array\n",
    "    - Simpler code structure\n",
    "- Cons\n",
    "    - Many more calculations on the coordinates\n",
    "    - More access to the atom array\n",
    "    - Overall, much slower sequential execution due to the sheer number of calculations performed\n",
    "\n",
    "<hr style=\"height:2px\">"
   ]
  },
  {
   "cell_type": "markdown",
   "metadata": {},
   "source": [
    "# <span style=\"color:green\"> Simple DCS CUDA Block/Grid Decomposition </span>\n",
    "\n",
    "![alt tag](img/6.png)\n",
    "<hr style=\"height:2px\">"
   ]
  },
  {
   "cell_type": "markdown",
   "metadata": {},
   "source": [
    "# <span style=\"color:green\"> Gather Parallelization </span>\n",
    "\n",
    "![alt tag](img/7.png)\n",
    "<hr style=\"height:2px\">"
   ]
  },
  {
   "cell_type": "markdown",
   "metadata": {},
   "source": [
    "# <span style=\"color:green\"> A Fast DCS CUDA Gather Kernel </span>\n",
    "\n",
    "```cpp\n",
    "\n",
    "void __global__ cenergy(float *energygrid, dim3 grid, float gridspacing, float z, float *atoms,\n",
    "int numatoms) {\n",
    "    // --- One thread per grid ---\n",
    "    int i = blockIdx.x * blockDim.x + threadIdx.x;\n",
    "    int j = blockIdx.y * blockDim.y + threadIdx.y;\n",
    "    int atomarrdim = numatoms * 4;\n",
    "    int k = z / gridspacing;\n",
    "    float y = gridspacing * (float) j;\n",
    "    float x = gridspacing * (float) i;\n",
    "    // --- One thread per grid ---\n",
    "    \n",
    "    // --- All threads access all atoms. Consolidated writes to grid points ---\n",
    "    float energy = 0.0f;\n",
    "    for (int n=0; n<atomarrdim; n+=4) {\n",
    "        // calculate potential contribution of each atom\n",
    "        float dx = x - atoms[n];\n",
    "        float dy = y - atoms[n+1];\n",
    "        float dz = z - atoms[n+2];\n",
    "        energy += atoms[n+3] / sqrtf(dx*dx + dy*dy + dz*dz);\n",
    "    }\n",
    "    energygrid[grid.x*grid.y*k + grid.x*j + i] += energy;\n",
    "    // --- All threads access all atoms. Consolidated writes to grid points ---\n",
    "}\n",
    "\n",
    "```\n",
    "\n",
    "<hr style=\"height:2px\">"
   ]
  },
  {
   "cell_type": "markdown",
   "metadata": {},
   "source": [
    "# <span style=\"color:green\"> Additional Comments </span>\n",
    "\n",
    "- Gather kernel is much faster than a scatter kernel\n",
    "    - No serialization due to atomic operations\n",
    "- Compute efficient sequential algorithm does not translate into the fast parallel algorithm\n",
    "    - Gather vs. scatter is a big factor\n",
    "    - But we will come back to this point later!\n",
    "\n",
    "<hr style=\"height:2px\">"
   ]
  },
  {
   "cell_type": "markdown",
   "metadata": {},
   "source": [
    "# <span style=\"color:green\"> Even More Comments </span>\n",
    "\n",
    "- In modern CPUs, cache effectiveness is often more important than compute efficiency\n",
    "- The input oriented (scatter) sequential code actually has bad cache performance\n",
    "    - energygrid[] is a very large array, typically 20X or more larger than atom[]\n",
    "    - The input oriented sequential code sweeps through the large data structure for each atom, trashing cache.\n",
    "\n",
    "<hr style=\"height:2px\">"
   ]
  },
  {
   "cell_type": "markdown",
   "metadata": {},
   "source": [
    "# <span style=\"color:green\"> Outline of A Fast Sequential Code </span>\n",
    "\n",
    "```\n",
    "for all z {\n",
    "    for all atoms {pre-compute dz2 }\n",
    "        for all y {\n",
    "            for all atoms {pre-compute dy2 (+ dz2) }\n",
    "                for all x {\n",
    "                    for all atoms {\n",
    "                        compute contribution to current x,y,z point\n",
    "                        using pre-computed dy2 + dz2\n",
    "                    }\n",
    "                }\n",
    "            }\n",
    "        }\n",
    "    }\n",
    "}\n",
    "```\n",
    "\n",
    "<hr style=\"height:2px\">"
   ]
  },
  {
   "cell_type": "markdown",
   "metadata": {},
   "source": [
    "# <span style=\"color:green\"> More Thoughts on Fast Sequential Code </span>\n",
    "\n",
    "- Need temporary arrays for pre-calculated dz2 and dy2 + dz2 values\n",
    "- So, why does this code has better cache behaior on CPUs?\n",
    "\n",
    "<hr style=\"height:2px\">"
   ]
  },
  {
   "cell_type": "markdown",
   "metadata": {},
   "source": [
    "# <span style=\"color:green\"> Reuse Distance Calculation for More Computation Efficiency </span>\n",
    "\n",
    "![alt tag](img/14.png)\n",
    "<hr style=\"height:2px\">"
   ]
  },
  {
   "cell_type": "markdown",
   "metadata": {},
   "source": [
    "# <span style=\"color:green\"> Thread Coarsening </span>\n",
    "\n",
    "![alt tag](img/15.png)\n",
    "<hr style=\"height:2px\">"
   ]
  },
  {
   "cell_type": "markdown",
   "metadata": {},
   "source": [
    "# <span style=\"color:green\"> A Compute Efficient Gather Kernel </span>\n",
    "\n",
    "![alt tag](img/16.png)\n",
    "<hr style=\"height:2px\">"
   ]
  },
  {
   "cell_type": "markdown",
   "metadata": {},
   "source": [
    "# <span style=\"color:green\"> Thread Coarsening for More Computation Efficiency </span>\n",
    "\n",
    "![alt tag](img/17.png)\n",
    "<hr style=\"height:2px\">"
   ]
  },
  {
   "cell_type": "markdown",
   "metadata": {},
   "source": [
    "# <span style=\"color:green\"> Performance Comparison </span>\n",
    "\n",
    "![alt tag](img/18.png)\n",
    "<hr style=\"height:2px\">"
   ]
  },
  {
   "cell_type": "markdown",
   "metadata": {},
   "source": [
    "# <span style=\"color:green\"> More Work is Needed to Feed a GPU </span>\n",
    "\n",
    "![alt tag](img/19.png)\n",
    "<hr style=\"height:2px\">"
   ]
  },
  {
   "cell_type": "markdown",
   "metadata": {},
   "source": [
    "<footer>\n",
    "<cite> GPU NVIDIA Teaching Kit - University of Illinois </cite>\n",
    "</footer>"
   ]
  }
 ],
 "metadata": {
  "kernelspec": {
   "display_name": "Python 3",
   "language": "python",
   "name": "python3"
  },
  "language_info": {
   "codemirror_mode": {
    "name": "ipython",
    "version": 3
   },
   "file_extension": ".py",
   "mimetype": "text/x-python",
   "name": "python",
   "nbconvert_exporter": "python",
   "pygments_lexer": "ipython3",
   "version": "3.5.2"
  }
 },
 "nbformat": 4,
 "nbformat_minor": 1
}
