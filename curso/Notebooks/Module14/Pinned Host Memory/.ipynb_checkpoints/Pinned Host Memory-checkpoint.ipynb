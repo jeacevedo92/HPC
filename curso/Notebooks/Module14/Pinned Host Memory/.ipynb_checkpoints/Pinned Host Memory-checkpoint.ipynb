{
 "cells": [
  {
   "cell_type": "markdown",
   "metadata": {},
   "source": [
    "# <span style=\"color:green\"> Objective </span>\n",
    "\n",
    "- To learn the important concepts involved in copying (transferring) data between host and device\n",
    "    - System Interconnect\n",
    "    - Direct Memory Access\n",
    "    - Pinned memory\n",
    "\n",
    "<hr style=\"height:2px\">"
   ]
  },
  {
   "cell_type": "markdown",
   "metadata": {},
   "source": [
    "# <span style=\"color:green\"> CPU-GPU Data Transfer using DMA </span>\n",
    "\n",
    "- DMA (Direct Memory Access) hardware is used for ```cudaMemcpy()``` for better efficiency\n",
    "    - Frees CPU for other tasks\n",
    "    - Hardware unit specialized to transfer a number of bytes requested by OS\n",
    "    - Between physical memory address space regions (some can be mapped I/O memory locations)\n",
    "    - Uses system interconnect, typically PCIe in today’s systems\n",
    "\n",
    "![alt tag](img/3.png)\n",
    "\n",
    "\n",
    "<hr style=\"height:2px\">"
   ]
  },
  {
   "cell_type": "markdown",
   "metadata": {},
   "source": [
    "# <span style=\"color:green\"> Virtual Memory Management </span>\n",
    "\n",
    "- Modern computers use virtual memory management\n",
    "    - Many virtual memory spaces mapped into a single physical memory\n",
    "    - Virtual addresses (pointer values) are translated into physical addresses\n",
    "- Not all variables and data structures are always in the physical memory\n",
    "    - Each virtual address space is divided into pages that are mapped into the physical memory\n",
    "    - Memory pages can be paged out to make room\n",
    "    - Whether or not a variable is in the physical memory is checked at address translation time\n",
    "\n",
    "<hr style=\"height:2px\">"
   ]
  },
  {
   "cell_type": "markdown",
   "metadata": {},
   "source": [
    "# <span style=\"color:green\"> Data Transfer and Virtual Memory </span>\n",
    "\n",
    "- DMA uses physical addresses\n",
    "    - When ```cudaMemcpy()``` copies an array, it is implemented as one or more DMA transfers\n",
    "    - Address is translated and page presence checked for the entire source and desitination regions at the beginning of each DMA transfer\n",
    "    - No address translation for the rest of the same DMA transfer so that high efficiency can be achieved\n",
    "    \n",
    "    \n",
    "- The OS could accidentally page-out the data that is being read or written by a DMA and page-in another virtual page into the same physical location\n",
    "<hr style=\"height:2px\">"
   ]
  },
  {
   "cell_type": "markdown",
   "metadata": {},
   "source": [
    "# <span style=\"color:green\"> Pinned Memory and DMA Data Transfer </span>\n",
    "\n",
    "- Pinned memory are virtual memory pages that are specially marked so that they cannot be paged out\n",
    "- Allocated with a special system API function call\n",
    "- a.k.a. Page Locked Memory, Locked Pages, etc.\n",
    "- CPU memory that serve as the source or destination of a DMA transfer must be allocated as pinned memory\n",
    "\n",
    "<hr style=\"height:2px\">"
   ]
  },
  {
   "cell_type": "markdown",
   "metadata": {},
   "source": [
    "# <span style=\"color:green\"> CUDA data transfer uses pinned memory </span>\n",
    "\n",
    "- ```cudaMemcpy()``` assumes that any source or destination in the host memory is allocated as pinned memory\n",
    "- If a source or destination of a ```cudaMemcpy()``` in the host memory is not allocated in pinned memory, it needs to be first copied to a pinned memory extra overhead\n",
    "- ```cudaMemcpy()``` is faster if the host memory source or destination is allocated in pinned memory since no extra copy is needed\n",
    "\n",
    "<hr style=\"height:2px\">"
   ]
  },
  {
   "cell_type": "markdown",
   "metadata": {},
   "source": [
    "# <span style=\"color:green\"> Allocate/Free Pinned Memory </span>\n",
    "\n",
    "- ```cudaHostAlloc()```, three parameters\n",
    "    - Address of pointer to the allocated memory\n",
    "    - Size of the allocated memory in bytes\n",
    "    - Option, use cudaHostAllocDefault for now\n",
    "    \n",
    "- ```cudaFreeHost()```, one parameter\n",
    "    - Pointer to the memory to be freed\n",
    "\n",
    "<hr style=\"height:2px\">"
   ]
  },
  {
   "cell_type": "markdown",
   "metadata": {},
   "source": [
    "# <span style=\"color:green\"> Using Pinned Memory in CUDA </span>\n",
    "\n",
    "- Use the allocated pinned memory and its pointer the same way as those returned by ```malloc()```\n",
    "- The only difference is that the allocated memory cannot be paged by the OS\n",
    "    - The ```cudaMemcpy()``` function should be about 2X faster with pinned memory\n",
    "- Pinned memory is a limited resource\n",
    "    - over-subscription can have serious consequences\n",
    "\n",
    "<hr style=\"height:2px\">"
   ]
  },
  {
   "cell_type": "markdown",
   "metadata": {},
   "source": [
    "# <span style=\"color:green\"> Putting It Together - Vector Addition Host Code Example </span>\n",
    "\n",
    "```cpp\n",
    "\n",
    "int main()\n",
    "{\n",
    "    float *h_A, *h_B, *h_C;\n",
    "    ...\n",
    "    cudaHostAlloc((void **) &h_A, N* sizeof(float),\n",
    "    cudaHostAllocDefault);\n",
    "    cudaHostAlloc((void **) &h_B, N* sizeof(float),\n",
    "    cudaHostAllocDefault);\n",
    "    cudaHostAlloc((void **) &h_C, N* sizeof(float),\n",
    "    cudaHostAllocDefault);\n",
    "    ...\n",
    "    vecAdd(h_A, h_B, h_C, N);\n",
    "}\n",
    "\n",
    "\n",
    "```\n",
    "\n",
    "\n",
    "<hr style=\"height:2px\">"
   ]
  },
  {
   "cell_type": "markdown",
   "metadata": {},
   "source": [
    "<footer>\n",
    "<cite> GPU NVIDIA Teaching Kit - University of Illinois </cite>\n",
    "</footer>"
   ]
  }
 ],
 "metadata": {
  "kernelspec": {
   "display_name": "Python 3",
   "language": "python",
   "name": "python3"
  },
  "language_info": {
   "codemirror_mode": {
    "name": "ipython",
    "version": 3
   },
   "file_extension": ".py",
   "mimetype": "text/x-python",
   "name": "python",
   "nbconvert_exporter": "python",
   "pygments_lexer": "ipython3",
   "version": "3.5.2"
  }
 },
 "nbformat": 4,
 "nbformat_minor": 1
}
