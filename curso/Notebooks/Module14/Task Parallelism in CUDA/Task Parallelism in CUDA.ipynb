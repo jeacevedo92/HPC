{
 "cells": [
  {
   "cell_type": "markdown",
   "metadata": {},
   "source": [
    "# <span style=\"color:green\"> Objective </span>\n",
    "\n",
    "- To learn task parallelism in CUDA\n",
    "    - CUDA Streams\n",
    "\n",
    "<hr style=\"height:2px\">"
   ]
  },
  {
   "cell_type": "markdown",
   "metadata": {},
   "source": [
    "# <span style=\"color:green\"> Serialized Data Transfer and Computation </span>\n",
    "\n",
    "- So far, the way we use cudaMemcp serializes data transfer and GPU computation for ```VecAddKernel()```\n",
    "\n",
    "![alt tag](img/3.png)\n",
    "<hr style=\"height:2px\">"
   ]
  },
  {
   "cell_type": "markdown",
   "metadata": {},
   "source": [
    "# <span style=\"color:green\"> Device Overlap </span>\n",
    "\n",
    "- Some CUDA devices support device overlap\n",
    "    - Simultaneously execute a kernel while copying data between device and host memory\n",
    "    \n",
    "```cpp\n",
    "\n",
    "int dev_count;\n",
    "cudaDeviceProp prop;\n",
    "cudaGetDeviceCount( &dev_count);\n",
    "for (int i = 0; i < dev_count; i++) {\n",
    "cudaGetDeviceProperties(&prop, i);\n",
    "if (prop.deviceOverlap) ...\n",
    "\n",
    "\n",
    "```\n",
    "\n",
    "![alt tag](img/3.png)\n",
    "<hr style=\"height:2px\">"
   ]
  },
  {
   "cell_type": "markdown",
   "metadata": {},
   "source": [
    "# <span style=\"color:green\"> Ideal, Pipelined Timing </span>\n",
    "\n",
    "- Divide large vectors into segments\n",
    "- Overlap transfer and compute of adjacent segments\n",
    "\n",
    "![alt tag](img/5.png)\n",
    "<hr style=\"height:2px\">"
   ]
  },
  {
   "cell_type": "markdown",
   "metadata": {},
   "source": [
    "# <span style=\"color:green\"> CUDA Streams </span>\n",
    "\n",
    "- CUDA supports parallel execution of kernels and ```cudaMemcpy()``` with “Streams”\n",
    "- Each stream is a queue of operations (kernel launches and ```cudaMemcpy()``` calls)\n",
    "- Operations (tasks) in different streams can go in parallel\n",
    "    - “Task parallelism”\n",
    "\n",
    "\n",
    "\n",
    "<hr style=\"height:2px\">"
   ]
  },
  {
   "cell_type": "markdown",
   "metadata": {},
   "source": [
    "# <span style=\"color:green\"> Streams </span>\n",
    "\n",
    "- Requests made from the host code are put into First-In-First-Out queues\n",
    "    - Queues are read and processed asynchronously by the driver and device\n",
    "    - Driver ensures that commands in a queue are processed in sequence. E.g., Memory copies end before kernel launch, etc.\n",
    "    \n",
    "\n",
    "![alt tag](img/7.png)\n",
    "\n",
    "- To allow concurrent copying and kernel execution, use multiple queues, called “streams”\n",
    "    - CUDA “events” allow the host thread to query and synchronize with individual queues (i.e. streams).\n",
    "\n",
    "![alt tag](img/8.png)\n",
    "\n",
    "<hr style=\"height:2px\">"
   ]
  },
  {
   "cell_type": "markdown",
   "metadata": {},
   "source": [
    "# <span style=\"color:green\"> Conceptual View of Streams </span>\n",
    "\n",
    "![alt tag](img/9.png)\n",
    "<hr style=\"height:2px\">"
   ]
  },
  {
   "cell_type": "markdown",
   "metadata": {},
   "source": [
    "<footer>\n",
    "<cite> GPU NVIDIA Teaching Kit - University of Illinois </cite>\n",
    "</footer>"
   ]
  }
 ],
 "metadata": {
  "kernelspec": {
   "display_name": "Python 3",
   "language": "python",
   "name": "python3"
  },
  "language_info": {
   "codemirror_mode": {
    "name": "ipython",
    "version": 3
   },
   "file_extension": ".py",
   "mimetype": "text/x-python",
   "name": "python",
   "nbconvert_exporter": "python",
   "pygments_lexer": "ipython3",
   "version": "3.5.2"
  }
 },
 "nbformat": 4,
 "nbformat_minor": 1
}
