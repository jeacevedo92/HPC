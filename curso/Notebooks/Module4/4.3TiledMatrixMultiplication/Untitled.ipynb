{
 "cells": [
  {
   "cell_type": "markdown",
   "metadata": {},
   "source": [
    "# <span style=\"color:green\">Objective</span>\n",
    "<h2>\n",
    "To understand the design of a tiled parallel algorithm for matrix multiplication\n",
    "<ul>\n",
    "<li>Loading a tile</li>\n",
    "<li>Phased execution</li>\n",
    "<li>Barrier Synchronization</li>\n",
    "</ul>\n",
    "</h2>\n",
    "<hr style=\"height:2px\">"
   ]
  },
  {
   "cell_type": "markdown",
   "metadata": {},
   "source": [
    "# <span style=\"color:green\">Matrix Multiplication</span>\n",
    "\n",
    "<br></br>\n",
    "<div style=\"text-align:justify\">\n",
    "        <ul>\n",
    "            <h2>\n",
    "            <li>Data access pattern\n",
    "                <ul>\n",
    "                    <li>Each thread - a row of M and a column of N</li>\n",
    "                    <li>Each thread block – a strip of M and a strip of N</li>\n",
    "                </ul>\n",
    "            </li>\n",
    "            </h2>\n",
    "        </ul>\n",
    "</div>\n",
    "<br></br>\n",
    "<span style=\"float:center;clear:center\">![alt tag](img/1.png)</span>\n",
    "<br></br>\n",
    "<br></br>\n",
    "<hr style=\"height:2px\">"
   ]
  },
  {
   "cell_type": "markdown",
   "metadata": {},
   "source": [
    "# <span style=\"color:green\">Matrix Multiplication</span>\n",
    "\n",
    "<br></br>\n",
    "<div style=\"text-align:justify\">\n",
    "        <ul>\n",
    "            <h2>\n",
    "            <li>Break up the execution of each thread into phases</li>\n",
    "            <li>so that the data accesses by the thread block in each phase are focused on one tile of M and one tile of N</li>\n",
    "            <li>The tile is of BLOCK_SIZE elements in each dimension</li>\n",
    "            </h2>\n",
    "        </ul>\n",
    "</div>\n",
    "<br></br>\n",
    "<span style=\"float:center;clear:center\">![alt tag](img/3.png)</span>\n",
    "<br></br>\n",
    "<br></br>\n",
    "<hr style=\"height:2px\">"
   ]
  },
  {
   "cell_type": "markdown",
   "metadata": {},
   "source": [
    "# <span style=\"color:green\">Loading a Tile</span>\n",
    "<h2>\n",
    "All threads in a block participate\n",
    "<ul>\n",
    "<li>Each thread loads one M element and one N element in tiled code</li>\n",
    "</ul>\n",
    "</h2>\n",
    "<hr style=\"height:2px\">"
   ]
  },
  {
   "cell_type": "markdown",
   "metadata": {},
   "source": [
    "# <span style=\"color:green\">Phase 0 Load for Block (0,0)</span>\n",
    "\n",
    "<br></br>\n",
    "<span style=\"float:center;clear:center\">![alt tag](img/4.png)</span>\n",
    "<br></br>\n",
    "<br></br>\n",
    "<hr style=\"height:2px\">"
   ]
  },
  {
   "cell_type": "markdown",
   "metadata": {},
   "source": [
    "# <span style=\"color:green\">Phase 0 Use for Block (0,0) (iteration 0)</span>\n",
    "\n",
    "<br></br>\n",
    "<span style=\"float:center;clear:center\">![alt tag](img/5.png)</span>\n",
    "<br></br>\n",
    "<br></br>\n",
    "<hr style=\"height:2px\">"
   ]
  },
  {
   "cell_type": "markdown",
   "metadata": {},
   "source": [
    "# <span style=\"color:green\">Phase 0 Use for Block (0,0) (iteration 1)</span>\n",
    "\n",
    "<br></br>\n",
    "<span style=\"float:center;clear:center\">![alt tag](img/7.png)</span>\n",
    "<br></br>\n",
    "<br></br>\n",
    "<hr style=\"height:2px\">"
   ]
  },
  {
   "cell_type": "markdown",
   "metadata": {},
   "source": [
    "# <span style=\"color:green\">Phase 1 Load for Block (0,0)</span>\n",
    "\n",
    "<br></br>\n",
    "<span style=\"float:center;clear:center\">![alt tag](img/8.png)</span>\n",
    "<br></br>\n",
    "<br></br>\n",
    "<hr style=\"height:2px\">"
   ]
  },
  {
   "cell_type": "markdown",
   "metadata": {},
   "source": [
    "# <span style=\"color:green\">Phase 1 Use for Block (0,0) (iteration 0)</span>\n",
    "\n",
    "<br></br>\n",
    "<span style=\"float:center;clear:center\">![alt tag](img/9.png)</span>\n",
    "<br></br>\n",
    "<br></br>\n",
    "<hr style=\"height:2px\">"
   ]
  },
  {
   "cell_type": "markdown",
   "metadata": {},
   "source": [
    "# <span style=\"color:green\">Phase 1 Use for Block (0,0) (iteration 1)</span>\n",
    "\n",
    "<br></br>\n",
    "<span style=\"float:center;clear:center\">![alt tag](img/10.png)</span>\n",
    "<br></br>\n",
    "<br></br>\n",
    "<hr style=\"height:2px\">"
   ]
  },
  {
   "cell_type": "markdown",
   "metadata": {},
   "source": [
    "# <span style=\"color:green\">Execution Phases of Toy Example</span>\n",
    "\n",
    "<br></br>\n",
    "<span style=\"float:center;clear:center\">![alt tag](img/11.png)</span>\n",
    "<br></br>\n",
    "<br></br>\n",
    "<hr style=\"height:2px\">"
   ]
  },
  {
   "cell_type": "markdown",
   "metadata": {},
   "source": [
    "# <span style=\"color:green\">Execution Phases of Toy Example (cont.)</span>\n",
    "\n",
    "\n",
    "\n",
    "\n",
    "<span style=\"float:center;clear:center\">![alt tag](img/12.png)</span>\n",
    "<div style =\"text-align:center\">\n",
    "<h2>\n",
    "Shared memory allows each value to be accessed by multiple\n",
    "threadson.\n",
    "</h2>\n",
    "</div>\n",
    "\n",
    "\n",
    "<hr style=\"height:2px\">"
   ]
  },
  {
   "cell_type": "markdown",
   "metadata": {},
   "source": [
    "# <span style=\"color:green\">Barrier Synchronization</span>\n",
    "\n",
    "<br></br>\n",
    "<div style=\"text-align:justify\">\n",
    "        <ul>\n",
    "            <h2>\n",
    "            <li>Synchronize all threads in a block\n",
    "                <ul>\n",
    "                    <li> ```__syncthreads()```</li>\n",
    "                </ul>\n",
    "            </li>\n",
    "            <li>All threads in the same block must reach the __syncthreads() before\n",
    "any of the them can move on</li>\n",
    "            <li>Best used to coordinate the phased execution tiled algorithms\n",
    "                <ul>\n",
    "                    <li>To ensure that all elements of a tile are loaded at the beginning of a phase</li>\n",
    "                    <li>To ensure that all elements of a tile are consumed at the end of a phase</li>\n",
    "                </ul>\n",
    "            </li>\n",
    "            </h2>\n",
    "        </ul>\n",
    "</div>\n",
    "\n",
    "<hr style=\"height:2px\">"
   ]
  },
  {
   "cell_type": "markdown",
   "metadata": {},
   "source": [
    "<footer>\n",
    "<cite> GPU NVIDIA Teaching Kit - University of Illinois </cite>\n",
    "</footer>\n",
    "<hr style=\"height:2px\">"
   ]
  }
 ],
 "metadata": {
  "kernelspec": {
   "display_name": "Python 2",
   "language": "python",
   "name": "python2"
  },
  "language_info": {
   "codemirror_mode": {
    "name": "ipython",
    "version": 2
   },
   "file_extension": ".py",
   "mimetype": "text/x-python",
   "name": "python",
   "nbconvert_exporter": "python",
   "pygments_lexer": "ipython2",
   "version": "2.7.6"
  }
 },
 "nbformat": 4,
 "nbformat_minor": 1
}
