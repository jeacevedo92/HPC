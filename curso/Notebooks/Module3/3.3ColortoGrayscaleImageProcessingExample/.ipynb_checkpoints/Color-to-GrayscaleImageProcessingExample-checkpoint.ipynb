{
 "cells": [
  {
   "cell_type": "markdown",
   "metadata": {},
   "source": [
    "# <span style=\"color:green\">Objective</span>\n",
    "<h2>\n",
    "To gain deeper understanding of multi-dimensional grid kernel\n",
    "configurations through a real-world use case\n",
    "</h2>\n",
    "<hr style=\"height:2px\">"
   ]
  },
  {
   "cell_type": "markdown",
   "metadata": {},
   "source": [
    "# <span style=\"color:green\">RGB Color Image Representation</span>\n",
    "\n",
    "<div style=\"text-align:justify\">\n",
    "<h2>\n",
    "* Each pixel in an image is an RGB value\n",
    "* The format of an image’s row is\n",
    "(r g b) (r g b) ... (r g b)\n",
    "* RGB ranges are not distributed uniformly\n",
    "* Many different color spaces, here we show the\n",
    "constants to convert to AdbobeRGB color space\n",
    "    * The vertical axis (y value) and horizontal axis (x value) show\n",
    "the fraction of the pixel intensity that should be allocated to G\n",
    "and B. The remaining fraction (1-y–x) of the pixel intensity that\n",
    "should be assigned to R\n",
    "    * The triangle contains all the representable colors in this color\n",
    "space\n",
    "</h2>\n",
    "</div>\n",
    "<br></br>\n",
    "\n",
    "<span style=\"float:left;clear:left\">![alt tag](img/1.png)</span>\n",
    "<span style=\"float:center;clear:right\">![alt tag](img/2.png)</span>\n",
    "\n",
    "\n",
    "<br></br>\n",
    "<br></br>\n",
    "\n",
    "<hr style=\"height:2px\">"
   ]
  },
  {
   "cell_type": "markdown",
   "metadata": {},
   "source": [
    "# <span style=\"color:green\">RGB to Grayscale Conversion</span>\n",
    "\n",
    "\n",
    "\n",
    "\n",
    "<span style=\"float:center;clear:center\">![alt tag](img/3.png)</span>\n",
    "<div style =\"text-align:center\">\n",
    "<h2>\n",
    "A grayscale digital image is an image in which the value of\n",
    "each pixel carries only intensity information.\n",
    "</h2>\n",
    "</div>\n",
    "\n",
    "\n",
    "<hr style=\"height:2px\">"
   ]
  },
  {
   "cell_type": "markdown",
   "metadata": {},
   "source": [
    "# <span style=\"color:green\">Color Calculating Formula</span>\n",
    "<br></br>\n",
    "<div style=\"font-size:19px\">\n",
    "<br></br>\n",
    "```\n",
    "    For each pixel (r g b) at (I, J) do:  \n",
    "        grayPixel[I,J] = 0.21*r + 0.71*g + 0.07*b\n",
    "``` \n",
    "<br></br>\n",
    "<br></br>\n",
    "This is just a dot product <[r,g,b],[0.21,0.71,0.07]> with the constants being specific to input RGB space\n",
    "<br></br>\n",
    "<br></br>\n",
    "<span style=\"float:center;clear:center\">![alt tag](img/4.png)</span>\n",
    "</div>\n",
    "\n",
    "\n",
    "<hr style=\"height:2px\">"
   ]
  },
  {
   "cell_type": "markdown",
   "metadata": {},
   "source": [
    "# <span style=\"color:green\">RGB to Grayscale Conversion Code</span>\n",
    "```c++\n",
    "#define CHANNELS 3 \n",
    "// we have 3 channels corresponding to RGB\n",
    "// The input image is encoded as unsigned characters [0, 255]\n",
    "\n",
    "__global__ void colorConvert(unsigned char * grayImage,unsigned char * rgbImage,int width, int height) {\n",
    "    int x = threadIdx.x + blockIdx.x * blockDim.x;\n",
    "    int y = threadIdx.y + blockIdx.y * blockDim.y;\n",
    "    if (x < width && y < height) {\n",
    "        // get 1D coordinate for the grayscale image\n",
    "        int grayOffset = y*width + x;\n",
    "        // one can think of the RGB image having\n",
    "        // CHANNEL times columns than the gray scale image\n",
    "        int rgbOffset = grayOffset*CHANNELS;\n",
    "        unsigned char r = rgbImage[rgbOffset]; // red value for pixel\n",
    "        unsigned char g = rgbImage[rgbOffset + 2]; // green value for pixel\n",
    "        unsigned char b = rgbImage[rgbOffset + 3]; // blue value for pixel\n",
    "        // perform the rescaling and store it\n",
    "        // We multiply by floating point constants\n",
    "        grayImage[grayOffset] = 0.21f*r + 0.71f*g + 0.07f*b;\n",
    "    }\n",
    "}\n",
    "```\n",
    "<hr style=\"height:2px\">"
   ]
  },
  {
   "cell_type": "markdown",
   "metadata": {},
   "source": [
    "<footer>\n",
    "<cite> GPU NVIDIA Teaching Kit - University of Illinois </cite>\n",
    "</footer>\n",
    "<hr style=\"height:2px\">"
   ]
  }
 ],
 "metadata": {
  "kernelspec": {
   "display_name": "Python 2",
   "language": "python",
   "name": "python2"
  },
  "language_info": {
   "codemirror_mode": {
    "name": "ipython",
    "version": 2
   },
   "file_extension": ".py",
   "mimetype": "text/x-python",
   "name": "python",
   "nbconvert_exporter": "python",
   "pygments_lexer": "ipython2",
   "version": "2.7.6"
  }
 },
 "nbformat": 4,
 "nbformat_minor": 1
}
