{
 "cells": [
  {
   "cell_type": "markdown",
   "metadata": {},
   "source": [
    "# <span style=\"color:green\">Objective</span>\n",
    "<h2>\n",
    "To learn a 2D kernel with more complex computation and memory\n",
    "access patterns\n",
    "</h2>\n",
    "<hr style=\"height:2px\">"
   ]
  },
  {
   "cell_type": "markdown",
   "metadata": {},
   "source": [
    "# <span style=\"color:green\">Image Blurring</span>\n",
    "\n",
    "\n",
    "\n",
    "\n",
    "<span style=\"float:center;clear:center\">![alt tag](img/1.png)</span>\n",
    "\n",
    "\n",
    "<hr style=\"height:2px\">"
   ]
  },
  {
   "cell_type": "markdown",
   "metadata": {},
   "source": [
    "# <span style=\"color:green\">Blurring Box</span>\n",
    "\n",
    "\n",
    "\n",
    "\n",
    "<span style=\"float:center;clear:center\">![alt tag](img/2.png)</span>\n",
    "\n",
    "\n",
    "<hr style=\"height:2px\">"
   ]
  },
  {
   "cell_type": "markdown",
   "metadata": {},
   "source": [
    "# <span style=\"color:green\">Image Blur as a 2D Kernel</span>\n",
    "\n",
    "```c++\n",
    "__global__ void blurKernel(unsigned char * in, unsigned char * out, int w, int h) {\n",
    "    int Col = blockIdx.x * blockDim.x + threadIdx.x;\n",
    "    int Row = blockIdx.y * blockDim.y + threadIdx.y;\n",
    "    if (Col < w && Row < h) {\n",
    "            ... // Rest of our kernel\n",
    "    }\n",
    "}\n",
    "```\n",
    "\n",
    "<hr style=\"height:2px\">"
   ]
  },
  {
   "cell_type": "markdown",
   "metadata": {},
   "source": [
    "# <span style=\"color:green\">Image Blur as a 2D Kernel</span>\n",
    "\n",
    "```c++\n",
    "__global__ void blurKernel(unsigned char * in, unsigned char * out, int w, int h) {\n",
    "    int Col = blockIdx.x * blockDim.x + threadIdx.x;\n",
    "    int Row = blockIdx.y * blockDim.y + threadIdx.y;\n",
    "    if (Col < w && Row < h) {\n",
    "        int pixVal = 0;\n",
    "        int pixels = 0;\n",
    "        // Get the average of the surrounding 2xBLUR_SIZE x 2xBLUR_SIZE box\n",
    "        for(int blurRow = -BLUR_SIZE; blurRow < BLUR_SIZE+1; ++blurRow) {\n",
    "            for(int blurCol = -BLUR_SIZE; blurCol < BLUR_SIZE+1; ++blurCol) {\n",
    "                int curRow = Row + blurRow;\n",
    "                int curCol = Col + blurCol;\n",
    "                // Verify we have a valid image pixel\n",
    "                if(curRow > -1 && curRow < h && curCol > -1 && curCol < w) {\n",
    "                        pixVal += in[curRow * w + curCol];\n",
    "                        pixels++; // Keep track of number of pixels in the accumulated total\n",
    "                }\n",
    "            }\n",
    "        }\n",
    "        // Write our new pixel value out\n",
    "        out[Row * w + Col] = (unsigned char)(pixVal / pixels);\n",
    "    }\n",
    "}\n",
    "```\n",
    "\n",
    "<hr style=\"height:2px\">"
   ]
  },
  {
   "cell_type": "markdown",
   "metadata": {},
   "source": [
    "<footer>\n",
    "<cite> GPU NVIDIA Teaching Kit - University of Illinois </cite>\n",
    "</footer>\n",
    "<hr style=\"height:2px\">"
   ]
  }
 ],
 "metadata": {
  "kernelspec": {
   "display_name": "Python 2",
   "language": "python",
   "name": "python2"
  },
  "language_info": {
   "codemirror_mode": {
    "name": "ipython",
    "version": 2
   },
   "file_extension": ".py",
   "mimetype": "text/x-python",
   "name": "python",
   "nbconvert_exporter": "python",
   "pygments_lexer": "ipython2",
   "version": "2.7.6"
  }
 },
 "nbformat": 4,
 "nbformat_minor": 1
}
