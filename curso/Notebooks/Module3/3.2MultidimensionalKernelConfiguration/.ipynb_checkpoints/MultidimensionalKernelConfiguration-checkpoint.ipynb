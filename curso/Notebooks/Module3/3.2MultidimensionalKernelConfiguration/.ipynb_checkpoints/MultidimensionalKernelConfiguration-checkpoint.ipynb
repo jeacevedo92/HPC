{
 "cells": [
  {
   "cell_type": "markdown",
   "metadata": {},
   "source": [
    "# <span style=\"color:green\">Objective</span>\n",
    "<h2>\n",
    "To understand multidimensional Grids  \n",
    "* Multi-dimensional block and thread indices\n",
    "* Mapping block/thread indices to data indices\n",
    "</h2>\n",
    "<hr style=\"height:2px\">\n",
    "\n"
   ]
  },
  {
   "cell_type": "markdown",
   "metadata": {},
   "source": [
    "\n",
    "# <span style=\"color:green\">A Multi-Dimensional Grid Example</span>\n",
    "\n",
    "![alt tag](img/1.png)\n",
    "\n",
    "<hr style=\"height:2px\">"
   ]
  },
  {
   "cell_type": "markdown",
   "metadata": {},
   "source": [
    "\n",
    "# <span style=\"color:green\">Processing a Picture with a 2D Grid</span>\n",
    "\n",
    "![alt tag](img/2.png)\n",
    "\n",
    "<hr style=\"height:2px\">"
   ]
  },
  {
   "cell_type": "markdown",
   "metadata": {},
   "source": [
    "\n",
    "# <span style=\"color:green\">Row-Major Layout in C/C++</span>\n",
    "\n",
    "![alt tag](img/3.png)\n",
    "\n",
    "<hr style=\"height:2px\">"
   ]
  },
  {
   "cell_type": "markdown",
   "metadata": {},
   "source": [
    "# <span style=\"color:green\">Source Code of a PictureKernel</span>\n",
    "\n",
    "![alt tag](img/4.png)\n",
    "\n",
    "<hr style=\"height:2px\">"
   ]
  },
  {
   "cell_type": "markdown",
   "metadata": {},
   "source": [
    "# <span style=\"color:green\">Host Code for Launching PictureKernel</span>\n",
    "\n",
    "<h2>\n",
    "// assume that the picture is m $\\times$ n,  \n",
    "// m pixels in y dimension and n pixels in x dimension  \n",
    "// input d_Pin has been allocated on and copied to device  \n",
    "// output d_Pout has been allocated on device  \n",
    "...  \n",
    "dim3 DimGrid((n-1)/16 + 1, (m-1)/16+1, 1);  \n",
    "dim3 DimBlock(16, 16, 1);  \n",
    "PictureKernel<<<DimGrid,DimBlock>>>(d_Pin, d_Pout, m, n);  \n",
    "...  \n",
    "</h2>\n",
    "<hr style=\"height:2px\">"
   ]
  },
  {
   "cell_type": "markdown",
   "metadata": {},
   "source": [
    "# <span style=\"color:green\">Covering a 62 76 Picture with 16 16 Blocks</span>\n",
    "\n",
    "![alt tag](img/5.png)\n",
    "\n",
    "<hr style=\"height:2px\">"
   ]
  },
  {
   "cell_type": "markdown",
   "metadata": {},
   "source": [
    "<footer>\n",
    "<cite> GPU NVIDIA Teaching Kit - University of Illinois </cite>\n",
    "</footer>\n",
    "<hr style=\"height:2px\">"
   ]
  }
 ],
 "metadata": {
  "kernelspec": {
   "display_name": "Python 2",
   "language": "python",
   "name": "python2"
  },
  "language_info": {
   "codemirror_mode": {
    "name": "ipython",
    "version": 2
   },
   "file_extension": ".py",
   "mimetype": "text/x-python",
   "name": "python",
   "nbconvert_exporter": "python",
   "pygments_lexer": "ipython2",
   "version": "2.7.6"
  }
 },
 "nbformat": 4,
 "nbformat_minor": 1
}
