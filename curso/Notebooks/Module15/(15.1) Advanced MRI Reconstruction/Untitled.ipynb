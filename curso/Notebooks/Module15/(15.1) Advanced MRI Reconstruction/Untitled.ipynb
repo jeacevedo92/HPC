{
 "cells": [
  {
   "cell_type": "markdown",
   "metadata": {},
   "source": [
    "# <span style=\"color:green\">Objective</span>\n",
    "<div style=\"text-align:justify;font-size:20px\">\n",
    "<body>\n",
    "To learn how to apply parallel programming techniques to an\n",
    "application\n",
    "<ul>\n",
    "<li>Determining parallelism structure</li>\n",
    "<li>Loop transformations</li>\n",
    "<li>Memory layout considerations</li>\n",
    "<li>Validation</li>\n",
    "</ul>\n",
    "</body>\n",
    "</div>\n",
    "<hr style=\"height:2px\">"
   ]
  },
  {
   "cell_type": "markdown",
   "metadata": {},
   "source": [
    "# <span style=\"color:green\">Non-Cartiesian MRI Scan</span>\n",
    "\n",
    "\n",
    "<br></br>\n",
    "<div style=\"text-align:justify\">\n",
    "\n",
    "        <br></br>\n",
    "        <span style=\"float:center;clear:center\">![alt tag](img/1.png)</span>\n",
    "\n",
    "</div>\n",
    "\n",
    "<hr style=\"height:2px\">"
   ]
  },
  {
   "cell_type": "markdown",
   "metadata": {},
   "source": [
    "# <span style=\"color:green\">Non-Cartesian Scan</span>\n",
    "\n",
    "\n",
    "<br></br>\n",
    "<div style=\"text-align:justify\">\n",
    "\n",
    "        <br></br>\n",
    "        <span style=\"float:center;clear:center\">![alt tag](img/2.png)</span>\n",
    "\n",
    "</div>\n",
    "\n",
    "<hr style=\"height:2px\">"
   ]
  },
  {
   "cell_type": "markdown",
   "metadata": {},
   "source": [
    "# <span style=\"color:green\">An Iterative Solver Based Approach to Image Reconstruction</span>\n",
    "\n",
    "\n",
    "<br></br>\n",
    "<div style=\"text-align:justify\">\n",
    "\n",
    "        <br></br>\n",
    "        <span style=\"float:center;clear:center\">![alt tag](img/3.png)</span>\n",
    "\n",
    "</div>\n",
    "\n",
    "<hr style=\"height:2px\">"
   ]
  },
  {
   "cell_type": "markdown",
   "metadata": {},
   "source": [
    "# <span style=\"color:green\">Computation of Q and FHD</span>\n",
    "\n",
    "\n",
    "<br></br>\n",
    "<div style=\"text-align:justify\">\n",
    "\n",
    "        <br></br>\n",
    "        <span style=\"float:center;clear:center\">![alt tag](img/4.png)</span>\n",
    "\n",
    "</div>\n",
    "\n",
    "<hr style=\"height:2px\">"
   ]
  },
  {
   "cell_type": "markdown",
   "metadata": {},
   "source": [
    "# <span style=\"color:green\">First Version of the FHD Kernel.</span>\n",
    "\n",
    "\n",
    "<br></br>\n",
    "<div style=\"text-align:justify\">\n",
    "\n",
    "        <br></br>\n",
    "        <span style=\"float:center;clear:center\">![alt tag](img/5.png)</span>\n",
    "\n",
    "</div>\n",
    "\n",
    "<hr style=\"height:2px\">"
   ]
  },
  {
   "cell_type": "markdown",
   "metadata": {},
   "source": [
    "# <span style=\"color:green\">Loop Fission</span>\n",
    "\n",
    "\n",
    "<br></br>\n",
    "<div style=\"text-align:justify\">\n",
    "\n",
    "        <br></br>\n",
    "        <span style=\"float:center;clear:center\">![alt tag](img/6.png)</span>\n",
    "\n",
    "</div>\n",
    "\n",
    "<hr style=\"height:2px\">"
   ]
  },
  {
   "cell_type": "markdown",
   "metadata": {},
   "source": [
    "# <span style=\"color:green\">cmpMu Kernel</span>\n",
    "\n",
    "\n",
    "<br></br>\n",
    "<div style=\"text-align:justify\">\n",
    "\n",
    "        <br></br>\n",
    "        <span style=\"float:center;clear:center\">![alt tag](img/7.png)</span>\n",
    "\n",
    "</div>\n",
    "\n",
    "<hr style=\"height:2px\">"
   ]
  },
  {
   "cell_type": "markdown",
   "metadata": {},
   "source": [
    "# <span style=\"color:green\">Second Option of the FHD Kernel</span>\n",
    "\n",
    "\n",
    "<br></br>\n",
    "<div style=\"text-align:justify\">\n",
    "\n",
    "        <br></br>\n",
    "        <span style=\"float:center;clear:center\">![alt tag](img/8.png)</span>\n",
    "\n",
    "</div>\n",
    "\n",
    "<hr style=\"height:2px\">"
   ]
  },
  {
   "cell_type": "markdown",
   "metadata": {},
   "source": [
    "# <span style=\"color:green\">Loop Interchange of the FHD Computationl</span>\n",
    "\n",
    "\n",
    "<br></br>\n",
    "<div style=\"text-align:justify\">\n",
    "\n",
    "        <br></br>\n",
    "        <span style=\"float:center;clear:center\">![alt tag](img/9.png)</span>\n",
    "\n",
    "</div>\n",
    "\n",
    "<hr style=\"height:2px\">"
   ]
  },
  {
   "cell_type": "markdown",
   "metadata": {},
   "source": [
    "# <span style=\"color:green\">Third Option of the FHD Kernel</span>\n",
    "\n",
    "\n",
    "<br></br>\n",
    "<div style=\"text-align:justify\">\n",
    "\n",
    "        <br></br>\n",
    "        <span style=\"float:center;clear:center\">![alt tag](img/10.png)</span>\n",
    "\n",
    "</div>\n",
    "\n",
    "<hr style=\"height:2px\">"
   ]
  },
  {
   "cell_type": "markdown",
   "metadata": {},
   "source": [
    "# <span style=\"color:green\">Using Registers to Reduce Memory Accesses</span>\n",
    "\n",
    "\n",
    "<br></br>\n",
    "<div style=\"text-align:justify\">\n",
    "\n",
    "        <br></br>\n",
    "        <span style=\"float:center;clear:center\">![alt tag](img/11.png)</span>\n",
    "\n",
    "</div>\n",
    "\n",
    "<hr style=\"height:2px\">"
   ]
  },
  {
   "cell_type": "markdown",
   "metadata": {},
   "source": [
    "# <span style=\"color:green\">Chunking k-space Data to Fit into Constant Memory</span>\n",
    "\n",
    "\n",
    "<br></br>\n",
    "<div style=\"text-align:justify\">\n",
    "\n",
    "        <br></br>\n",
    "        <span style=\"float:center;clear:center\">![alt tag](img/12.png)</span>\n",
    "\n",
    "</div>\n",
    "\n",
    "<hr style=\"height:2px\">"
   ]
  },
  {
   "cell_type": "markdown",
   "metadata": {},
   "source": [
    "# <span style=\"color:green\">Revised FHD Kernel – Constant Memory</span>\n",
    "\n",
    "\n",
    "<br></br>\n",
    "<div style=\"text-align:justify\">\n",
    "\n",
    "        <br></br>\n",
    "        <span style=\"float:center;clear:center\">![alt tag](img/13.png)</span>\n",
    "\n",
    "</div>\n",
    "\n",
    "<hr style=\"height:2px\">"
   ]
  },
  {
   "cell_type": "markdown",
   "metadata": {},
   "source": [
    "# <span style=\"color:green\">Constant Memory Layout Consideration</span>\n",
    "\n",
    "\n",
    "<br></br>\n",
    "<div style=\"text-align:justify;font-size:30px\">\n",
    "\n",
    "        <br></br>\n",
    "        <span style=\"float:center;clear:center\">![alt tag](img/14.png)</span>\n",
    "        <ul>\n",
    "            <li>Storing k-space samples in three separate arrays\n",
    "requires 3 cache lines for each warp\n",
    "                <ul>\n",
    "                    <li>Interleaving x, y, z values of the same sample in the same array reduces\n",
    "the cache line requirement to 1 per warp</li>\n",
    "                </ul>\n",
    "            </li>\n",
    "        </ul>\n",
    "\n",
    "</div>\n",
    "\n",
    "<hr style=\"height:2px\">"
   ]
  },
  {
   "cell_type": "markdown",
   "metadata": {},
   "source": [
    "# <span style=\"color:green\">Host Code with Adjusted Constant Memory Layouty</span>\n",
    "\n",
    "\n",
    "<br></br>\n",
    "<div style=\"text-align:justify\">\n",
    "\n",
    "        <br></br>\n",
    "        <span style=\"float:center;clear:center\">![alt tag](img/15.png)</span>\n",
    "\n",
    "</div>\n",
    "\n",
    "<hr style=\"height:2px\">"
   ]
  },
  {
   "cell_type": "markdown",
   "metadata": {},
   "source": [
    "# <span style=\"color:green\">Adjusted k-space data constant memory layout in the FHD kernel</span>\n",
    "\n",
    "\n",
    "<br></br>\n",
    "<div style=\"text-align:justify\">\n",
    "\n",
    "        <br></br>\n",
    "        <span style=\"float:center;clear:center\">![alt tag](img/16.png)</span>\n",
    "\n",
    "</div>\n",
    "\n",
    "<hr style=\"height:2px\">"
   ]
  },
  {
   "cell_type": "markdown",
   "metadata": {},
   "source": [
    "# <span style=\"color:green\">Using Hardware __sin() and __cos()</span>\n",
    "\n",
    "\n",
    "<br></br>\n",
    "<div style=\"text-align:justify\">\n",
    "\n",
    "        <br></br>\n",
    "        <span style=\"float:center;clear:center\">![alt tag](img/17.png)</span>\n",
    "\n",
    "</div>\n",
    "\n",
    "<hr style=\"height:2px\">"
   ]
  },
  {
   "cell_type": "markdown",
   "metadata": {},
   "source": [
    "# <span style=\"color:green\">Validating Reconstructed Image Using Peak Signal-to-Noise Ratio</span>\n",
    "\n",
    "\n",
    "<br></br>\n",
    "<div style=\"text-align:justify\">\n",
    "\n",
    "        <br></br>\n",
    "        <span style=\"float:center;clear:center\">![alt tag](img/18.png)</span>\n",
    "\n",
    "</div>\n",
    "\n",
    "<hr style=\"height:2px\">"
   ]
  },
  {
   "cell_type": "markdown",
   "metadata": {},
   "source": [
    "# <span style=\"color:green;font-size:35px\">Title ???</span>\n",
    "\n",
    "\n",
    "<br></br>\n",
    "<div style=\"text-align:justify;font-size:25px\">\n",
    "        <p>Validation of floating-point\n",
    "precision and accuracy of the\n",
    "different\n",
    "F H D implementations.</p>\n",
    "        <p>(1) Is the known image answer\n",
    "(sometimes called a phantom image)</p>\n",
    "        <p>Note that all GPU optimized versions\n",
    "have comparable PSNR as (3) the\n",
    "CPU double-precision version</p>\n",
    "        <br></br>\n",
    "        <span style=\"float:center;clear:center\">![alt tag](img/19.png)</span>\n",
    "\n",
    "</div>\n",
    "\n",
    "<hr style=\"height:2px\">"
   ]
  },
  {
   "cell_type": "markdown",
   "metadata": {},
   "source": [
    "# <span style=\"color:green\">Component and Whole-Application Speedup</span>\n",
    "\n",
    "\n",
    "<br></br>\n",
    "<div style=\"text-align:justify\">\n",
    "\n",
    "        <br></br>\n",
    "        <span style=\"float:center;clear:center\">![alt tag](img/20.png)</span>\n",
    "\n",
    "</div>\n",
    "\n",
    "<hr style=\"height:2px\">"
   ]
  },
  {
   "cell_type": "markdown",
   "metadata": {},
   "source": [
    "<footer>\n",
    "<cite> GPU NVIDIA Teaching Kit - University of Illinois </cite>\n",
    "</footer>\n",
    "<hr style=\"height:2px\">"
   ]
  }
 ],
 "metadata": {
  "kernelspec": {
   "display_name": "Python 2",
   "language": "python",
   "name": "python2"
  },
  "language_info": {
   "codemirror_mode": {
    "name": "ipython",
    "version": 2
   },
   "file_extension": ".py",
   "mimetype": "text/x-python",
   "name": "python",
   "nbconvert_exporter": "python",
   "pygments_lexer": "ipython2",
   "version": "2.7.6"
  }
 },
 "nbformat": 4,
 "nbformat_minor": 1
}
