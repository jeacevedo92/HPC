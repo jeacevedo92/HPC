{
 "cells": [
  {
   "cell_type": "markdown",
   "metadata": {
    "collapsed": true
   },
   "source": [
    "# <span style=\"color:green\"> Objective </span>\n",
    "\n",
    "- To learn convolution, an important method\n",
    "    - Widely used in audio, image and video processing\n",
    "    - Foundational to stencil computation used in many science and engineering applications\n",
    "    - Basic 1D and 2D convolution kernels\n",
    "<hr style=\"height:2px\">"
   ]
  },
  {
   "cell_type": "markdown",
   "metadata": {},
   "source": [
    "# <span style=\"color:green\"> Convolution as a Filter </span>\n",
    "\n",
    "- Often performed as a filter that transforms signal or pixel values into more desirable values.\n",
    "    - Some filters smooth out the signal values so that one can see the big-picture trend\n",
    "    - Others like Gaussian filters can be used to sharpen boundaries and edges of objects in images..\n",
    "<hr style=\"height:2px\">"
   ]
  },
  {
   "cell_type": "markdown",
   "metadata": {},
   "source": [
    "# <span style=\"color:green\"> Convolution – a computational definition </span>\n",
    "\n",
    "- An array operation where each output data element is a weighted sum of a collection of neighboring input elements\n",
    "- The weights used in the weighted sum calculation are defined by an input mask array, commonly referred to as the convolution kernel\n",
    "    - We will refer to these mask arrays as convolution masks to avoid confusion.\n",
    "    - The value pattern of the mask array elements defines the type of filtering done\n",
    "    - Our image blur example in Module 3 is a special case where all mask elements are of the same value and hard coded into the source code.\n",
    "\n",
    "<hr style=\"height:2px\">"
   ]
  },
  {
   "cell_type": "markdown",
   "metadata": {},
   "source": [
    "# <span style=\"color:green\"> 1D Convolution Example </span>\n",
    "\n",
    "- Commonly used for audio processing\n",
    "    - Mask size is usually an odd number of elements for symmetry (5 in this example)\n",
    "- The figure shows calculation of P[2]\n",
    "\n",
    "```P[2] = N[0]*M[0] + N[1]*M[1] + N[2]*M[2] + N[3]*M[3] + N[4]*M[4]```\n",
    "\n",
    "![alt tag](img/5.png)\n",
    "\n",
    "<hr style=\"height:2px\">"
   ]
  },
  {
   "cell_type": "markdown",
   "metadata": {},
   "source": [
    "# <span style=\"color:green\"> Calculation of P[3] </span>\n",
    "\n",
    "![alt tag](img/6.png)\n",
    "<hr style=\"height:2px\">"
   ]
  },
  {
   "cell_type": "markdown",
   "metadata": {},
   "source": [
    "# <span style=\"color:green\"> Convolution Boundary Condition </span>\n",
    "\n",
    "- Calculation of output elements near the boundaries (beginning and end) of the array need to deal with “ghost” elements\n",
    "    - Different policies (0, replicates of boundary values, etc.)\n",
    "\n",
    "![alt tag](img/7.png)\n",
    "<hr style=\"height:2px\">"
   ]
  },
  {
   "cell_type": "markdown",
   "metadata": {},
   "source": [
    "# <span style=\"color:green\"> A 1D Convolution Kernel with Boundary Condition Handling </span>\n",
    "\n",
    "![alt tag](img/8.png)\n",
    "\n",
    "### Would be as\n",
    "\n",
    "![alt tag](img/9.png)\n",
    "\n",
    "\n",
    "<hr style=\"height:2px\">"
   ]
  },
  {
   "cell_type": "markdown",
   "metadata": {},
   "source": [
    "# <span style=\"color:green\"> 2D Convolution</span>\n",
    "\n",
    "![alt tag](img/10.png)\n",
    "<hr style=\"height:2px\">"
   ]
  },
  {
   "cell_type": "markdown",
   "metadata": {},
   "source": [
    "# <span style=\"color:green\"> 2D Convolution – Ghost Cells </span>\n",
    "\n",
    "![alt tag](img/11.png)\n",
    "<hr style=\"height:2px\">"
   ]
  },
  {
   "cell_type": "markdown",
   "metadata": {},
   "source": [
    "# <span style=\"color:green\"> 2D Convolution – Ghost Cells </span>\n",
    "\n",
    "![alt tag](img/12.png)\n",
    "<hr style=\"height:2px\">"
   ]
  },
  {
   "cell_type": "markdown",
   "metadata": {},
   "source": [
    "# <span style=\"color:green\"> 2D Convolution – Ghost Cells </span>\n",
    "\n",
    "![alt tag](img/13.png)\n",
    "<hr style=\"height:2px\">"
   ]
  },
  {
   "cell_type": "markdown",
   "metadata": {},
   "source": [
    "# <span style=\"color:green\"> 2D Convolution – Ghost Cells </span>\n",
    "\n",
    "![alt tag](img/14.png)\n",
    "<hr style=\"height:2px\">"
   ]
  },
  {
   "cell_type": "markdown",
   "metadata": {},
   "source": [
    "<footer>\n",
    "<cite> GPU NVIDIA Teaching Kit - University of Illinois </cite>\n",
    "</footer>"
   ]
  }
 ],
 "metadata": {
  "kernelspec": {
   "display_name": "Python 3",
   "language": "python",
   "name": "python3"
  },
  "language_info": {
   "codemirror_mode": {
    "name": "ipython",
    "version": 3
   },
   "file_extension": ".py",
   "mimetype": "text/x-python",
   "name": "python",
   "nbconvert_exporter": "python",
   "pygments_lexer": "ipython3",
   "version": "3.5.2"
  }
 },
 "nbformat": 4,
 "nbformat_minor": 1
}
