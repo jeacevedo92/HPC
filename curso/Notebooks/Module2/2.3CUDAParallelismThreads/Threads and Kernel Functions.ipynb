{
 "cells": [
  {
   "cell_type": "markdown",
   "metadata": {},
   "source": [
    "# Objective\n",
    "\n",
    "- To learn about CUDA threads, the main mechanism for exploiting of data parallelism\n",
    "  - Hierarchical thread organization\n",
    "  - Launching parallel execution\n",
    "  - Thread index to data index mapping\n",
    "  \n",
    "<hr style=\"height:2px\">"
   ]
  },
  {
   "cell_type": "markdown",
   "metadata": {},
   "source": [
    "# Data Parallelism - Vector Addition Example\n",
    "\n",
    "![alt tag](img/3.png)\n",
    "<hr style=\"height:2px\">"
   ]
  },
  {
   "cell_type": "markdown",
   "metadata": {},
   "source": [
    "# CUDA Execution Model\n",
    "\n",
    "- Heterogeneous host (CPU) + device (GPU) application C program\n",
    "  - Serial parts in host C code\n",
    "  - Parallel parts in device SPMD kernel code\n",
    "\n",
    "![alt tag](img/4.png)\n",
    "<hr style=\"height:2px\">"
   ]
  },
  {
   "cell_type": "markdown",
   "metadata": {},
   "source": [
    "# From Natural Language to Electrons\n",
    "\n",
    "![alt tag](img/5.png)\n",
    "<hr style=\"height:2px\">"
   ]
  },
  {
   "cell_type": "markdown",
   "metadata": {},
   "source": [
    "# A program at the ISA level\n",
    "\n",
    "- A program is a set of instructions stored in memory that can be read, interpreted, and executed by the hardware.\n",
    "  - Both CPUs and GPUs are designed based on (different) instruction sets\n",
    "\n",
    "- Program instructions operate on data stored in memory and/or registers.\n",
    "\n",
    "<hr style=\"height:2px\">"
   ]
  },
  {
   "cell_type": "markdown",
   "metadata": {},
   "source": [
    "# A Thread as a Von-Neumann Processor\n",
    "\n",
    "> A thread is a “virtualized” or “abstracted” Von-Neumann Processor\n",
    "\n",
    "![alt tag](img/7.png)\n",
    "<hr style=\"height:2px\">"
   ]
  },
  {
   "cell_type": "markdown",
   "metadata": {},
   "source": [
    "# Arrays of Parallel Threads\n",
    "\n",
    "- A CUDA kernel is executed by a grid (array) of threads\n",
    "  - All threads in a grid run the same kernel code (Single Program Multiple Data)\n",
    "  - Each thread has indexes that it uses to compute memory addresses and make control decisions\n",
    "\n",
    "![alt tag](img/8.png)\n",
    "<hr style=\"height:2px\">"
   ]
  },
  {
   "cell_type": "markdown",
   "metadata": {},
   "source": [
    "# Thread Blocks: Scalable Cooperation\n",
    "\n",
    "![alt tag](img/3.png)\n",
    "\n",
    "- Divide thread array into multiple blocks\n",
    "  - Threads within a block cooperate via shared memory, atomic operations and barrier synchronization\n",
    "  - Threads in different blocks do not interact\n",
    "  \n",
    "<hr style=\"height:2px\">"
   ]
  },
  {
   "cell_type": "markdown",
   "metadata": {},
   "source": [
    "# blockIdx and threadIdx\n",
    "\n",
    "![alt tag](img/10.png)\n",
    "<hr style=\"height:2px\">"
   ]
  },
  {
   "cell_type": "markdown",
   "metadata": {},
   "source": [
    "<footer>\n",
    "<cite> GPU NVIDIA Teaching Kit - University of Illinois </cite>\n",
    "</footer>"
   ]
  }
 ],
 "metadata": {
  "kernelspec": {
   "display_name": "Bash",
   "language": "bash",
   "name": "bash"
  },
  "language_info": {
   "codemirror_mode": "shell",
   "file_extension": ".sh",
   "mimetype": "text/x-sh",
   "name": "bash"
  }
 },
 "nbformat": 4,
 "nbformat_minor": 1
}
