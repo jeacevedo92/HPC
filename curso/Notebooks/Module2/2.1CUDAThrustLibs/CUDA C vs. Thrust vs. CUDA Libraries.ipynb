{
 "cells": [
  {
   "cell_type": "markdown",
   "metadata": {},
   "source": [
    "# Objectives\n",
    "\n",
    "- To learn the main venues and developer resources for GPU computing\n",
    "  - Where CUDA C fits in the big picture\n",
    "\n",
    "<hr style=\"height:2px\">"
   ]
  },
  {
   "cell_type": "markdown",
   "metadata": {},
   "source": [
    "# 3 Ways to Accelerate Applications\n",
    "\n",
    "![alt tag](img/3.png)\n",
    "<hr style=\"height:2px\">"
   ]
  },
  {
   "cell_type": "markdown",
   "metadata": {},
   "source": [
    "# Libraries: Easy, High-Quality Acceleration\n",
    "\n",
    "- **Ease of use**: Using libraries enables GPU acceleration without in depth knowledge of GPU programming\n",
    "- **“Drop-in”**: Many GPU-accelerated libraries follow standard APIs, thus enabling acceleration with minimal code changes\n",
    "- **Quality**: Libraries offer high-quality implementations of functions encountered in a broad range of applications\n",
    "<hr style=\"height:2px\">"
   ]
  },
  {
   "cell_type": "markdown",
   "metadata": {},
   "source": [
    "# GPU Accelerated Libraries\n",
    "\n",
    "![alt tag](img/5.png)\n",
    "<hr style=\"height:2px\">"
   ]
  },
  {
   "cell_type": "markdown",
   "metadata": {},
   "source": [
    "# Vector Addition in Thrust\n",
    "\n",
    "\n",
    ">```c++\n",
    "thrust::device_vector<float> deviceInput1(inputLength);\n",
    "thrust::device_vector<float> deviceInput2(inputLength);\n",
    "thrust::device_vector<float> deviceOutput(inputLength);\n",
    "thrust::copy(hostInput1, hostInput1 + inputLength,\n",
    "deviceInput1.begin());\n",
    "thrust::copy(hostInput2, hostInput2 + inputLength,\n",
    "deviceInput2.begin());\n",
    "thrust::transform(deviceInput1.begin(), deviceInput1.end(),\n",
    "deviceInput2.begin(), deviceOutput.begin(),\n",
    "thrust::plus<float>());\n",
    "```\n",
    "\n",
    "<hr style=\"height:2px\">"
   ]
  },
  {
   "cell_type": "markdown",
   "metadata": {},
   "source": [
    "# Compiler Directives: Easy, Portable Acceleration\n",
    "\n",
    "- **Ease of use**: Compiler takes care of details of parallelism management and data movement\n",
    "- **Portable**: The code is generic, not specific to any type of hardware and can be deployed into multiple languages\n",
    "- **Uncertain**: Performance of code can vary across compiler versions\n",
    "<hr style=\"height:2px\">"
   ]
  },
  {
   "cell_type": "markdown",
   "metadata": {},
   "source": [
    "# OpenACC\n",
    "\n",
    "```cpp\n",
    "#pragma acc parallel loop\n",
    "copyin(input1[0:inputLength],input2[0:inputLength]),\n",
    "copyout(output[0:inputLength])\n",
    "for(i = 0; i < inputLength; ++i) {\n",
    "  output[i] = input1[i] + input2[i];\n",
    "}\n",
    "\n",
    "```\n",
    "<hr style=\"height:2px\">"
   ]
  },
  {
   "cell_type": "markdown",
   "metadata": {},
   "source": [
    "# Programming Languages: Most Performance and Flexible Acceleration\n",
    "\n",
    "- **Performance**: Programmer has best control of parallelism and data movement\n",
    "- **Flexible**: The computation does not need to fit into a limited set of library patterns or directive types\n",
    "- **Verbose**: The programmer often needs to express more details\n",
    "<hr style=\"height:2px\">"
   ]
  },
  {
   "cell_type": "markdown",
   "metadata": {},
   "source": [
    "# GPU Programming Languages\n",
    "\n",
    "![alt tag](img/10.png)\n",
    "<hr style=\"height:2px\">"
   ]
  },
  {
   "cell_type": "markdown",
   "metadata": {},
   "source": [
    "# CUDA - C\n",
    "\n",
    "![alt tag](img/11.png)\n",
    "<hr style=\"height:2px\">"
   ]
  },
  {
   "cell_type": "markdown",
   "metadata": {},
   "source": [
    "<footer>\n",
    "<cite> GPU NVIDIA Teaching Kit - University of Illinois </cite>\n",
    "</footer>"
   ]
  }
 ],
 "metadata": {
  "kernelspec": {
   "display_name": "Bash",
   "language": "bash",
   "name": "bash"
  },
  "language_info": {
   "codemirror_mode": "shell",
   "file_extension": ".sh",
   "mimetype": "text/x-sh",
   "name": "bash"
  }
 },
 "nbformat": 4,
 "nbformat_minor": 0
}
