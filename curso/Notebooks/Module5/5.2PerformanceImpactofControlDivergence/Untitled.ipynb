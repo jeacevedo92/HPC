{
 "cells": [
  {
   "cell_type": "markdown",
   "metadata": {},
   "source": [
    "# <span style=\"color:green\">Objective</span>\n",
    "<h2>\n",
    "To learn to analyze the performance impact of control divergence\n",
    "<ul>\n",
    "<li>Boundary condition checking</li>\n",
    "<li>Control divergence is data-dependent</li>\n",
    "</ul>\n",
    "</h2>\n",
    "<hr style=\"height:2px\">"
   ]
  },
  {
   "cell_type": "markdown",
   "metadata": {},
   "source": [
    "# <span style=\"color:green\">Performance Impact of Control Divergence</span>\n",
    "\n",
    "\n",
    "<br></br>\n",
    "<div style=\"text-align:justify\">\n",
    "        <ul>\n",
    "            <h2>\n",
    "            <li>Boundary condition checks are vital for complete functionality and robustness of parallel code\n",
    "                <ul>\n",
    "                    <li>The tiled matrix multiplication kernel has many boundary condition checks</li>\n",
    "                    <li>The concern is that these checks may cause significant performance degradation</li>\n",
    "                    <li>For example, see the tile loading code below:</li>\n",
    "                </ul>\n",
    "            </li>\n",
    "            </h2>\n",
    "        </ul>\n",
    "        <br></br>\n",
    "        <span style=\"float:center;clear:center\">![alt tag](img/1.png)</span>\n",
    "\n",
    "</div>\n",
    "\n",
    "<hr style=\"height:2px\">"
   ]
  },
  {
   "cell_type": "markdown",
   "metadata": {},
   "source": [
    "# <span style=\"color:green\">Two types of blocks in loading M Tiles</span>\n",
    "\n",
    "\n",
    "<br></br>\n",
    "<div style=\"text-align:justify\">\n",
    "        <ul>\n",
    "            <h2>\n",
    "            <li>1. Blocks whose tiles are all within valid range until the last phase.</li>\n",
    "            <li>2. Blocks whose tiles are partially outside the valid range all the way</li>\n",
    "            </h2>\n",
    "        </ul>\n",
    "        <br></br>\n",
    "        <span style=\"float:center;clear:center\">![alt tag](img/2.png)</span>\n",
    "\n",
    "</div>\n",
    "\n",
    "<hr style=\"height:2px\">"
   ]
  },
  {
   "cell_type": "markdown",
   "metadata": {},
   "source": [
    "# <span style=\"color:green\">Analysis of Control Divergence Impact</span>\n",
    "\n",
    "<br></br>\n",
    "<div style=\"text-align:justify\">\n",
    "        <ul>\n",
    "            <h2>\n",
    "            \n",
    "            <li>Assume 16x16 tiles and thread blocks</li>\n",
    "            <li>Each thread block has 8 warps (256/32)</li>\n",
    "            <li>Assume square matrices of 100x100</li>\n",
    "            <li>Each thread will go through 7 phases (ceiling of 100/16)</li>\n",
    "            <li>There are 49 thread blocks (7 in each dimension)</li>\n",
    "            </h2>\n",
    "        </ul>\n",
    "</div>\n",
    "\n",
    "<hr style=\"height:2px\">"
   ]
  },
  {
   "cell_type": "markdown",
   "metadata": {},
   "source": [
    "# <span style=\"color:green\">Control Divergence in Loading M Tiles</span>\n",
    "\n",
    "<br></br>\n",
    "<div style=\"text-align:justify\">\n",
    "        <ul>\n",
    "            <h2>\n",
    "            \n",
    "            <li>Assume 16x16 tiles and thread blocks</li>\n",
    "            <li>Each thread block has 8 warps (256/32)</li>\n",
    "            <li>Assume square matrices of 100x100</li>\n",
    "            <li>Each thread will go through 7 phases (ceiling of 100/16)</li>\n",
    "            </h2>\n",
    "        </ul>\n",
    "        <br></br>\n",
    "        <ul>\n",
    "            <h2>\n",
    "            <li>There are 42 (6*7) Type 1 blocks, with a total of 336 (8*42) warps</li>\n",
    "            <li>They all have 7 phases, so there are 2,352 (336*7) warp-phases</li>\n",
    "            <li>The warps have control divergence only in their last phase</li>\n",
    "            <li>336 warp-phases have control divergence</li>\n",
    "            </h2>\n",
    "        </ul>\n",
    "        <br></br>\n",
    "        <span style=\"float:center;clear:center\">![alt tag](img/3.png)</span>\n",
    "</div>\n",
    "\n",
    "<hr style=\"height:2px\">"
   ]
  },
  {
   "cell_type": "markdown",
   "metadata": {},
   "source": [
    "# <span style=\"color:green\">Control Divergence in Loading M Tiles (Type 2)</span>\n",
    "\n",
    "<br></br>\n",
    "<div style=\"text-align:justify\">\n",
    "        <ul>\n",
    "            <h2>\n",
    "            \n",
    "            <li>Type 2: the 7 block assigned to load the bottom tiles, with a total of\n",
    "56 (8*7) warps</li>\n",
    "            <li>They all have 7 phases, so there are 392 (56*7) warp-phases</li>\n",
    "            <li>The first 2 warps in each Type 2 block will stay within the valid range until the last phase</li>\n",
    "            <li>The 6 remaining warps stay outside the valid range</li>\n",
    "            <li>So, only 14 (2*7) warp-phases have control divergence</li>\n",
    "            </h2>\n",
    "        </ul>\n",
    "        <br></br>\n",
    "        <span style=\"float:center;clear:center\">![alt tag](img/4.png)</span>\n",
    "</div>\n",
    "\n",
    "<hr style=\"height:2px\">"
   ]
  },
  {
   "cell_type": "markdown",
   "metadata": {},
   "source": [
    "# <span style=\"color:green\">Overall Impact of Control Divergence</span>\n",
    "\n",
    "<br></br>\n",
    "<div style=\"text-align:justify\">\n",
    "        <ul>\n",
    "            <h2>\n",
    "            \n",
    "            <li>Type 1 Blocks: 336 out of 2,352 warp-phases have control divergence</li>\n",
    "            <li>Type 2 Blocks: 14 out of 392 warp-phases have control divergence</li>\n",
    "            <li>The performance impact is expected to be less than 12% (350/2,944 or (336+14)/(2352+14))</li>\n",
    "            </h2>\n",
    "        </ul>\n",
    "        <br></br>\n",
    "        <span style=\"float:center;clear:center\">![alt tag](img/5.png)</span>\n",
    "</div>\n",
    "\n",
    "<hr style=\"height:2px\">"
   ]
  },
  {
   "cell_type": "markdown",
   "metadata": {},
   "source": [
    "# <span style=\"color:green\">Additional Comments</span>\n",
    "\n",
    "<br></br>\n",
    "<div style=\"text-align:justify\">\n",
    "        <ul>\n",
    "            <h2>\n",
    "            <li>The calculation of impact of control divergence in loading N tiles is somewhat different and is left as an exercise</li>\n",
    "            <li>The estimated performance impact is data dependent.\n",
    "                <ul>\n",
    "                    <li>For larger matrices, the impact will be significantly smaller</li>\n",
    "                </ul>\n",
    "            </li>\n",
    "            <li>In general, the impact of control divergence for boundary condition checking for large input data sets should be insignificant\n",
    "                <ul>\n",
    "                    <li>One should not hesitate to use boundary checks to ensure full functionality</li>\n",
    "                </ul>\n",
    "            </li>\n",
    "            <li>The fact that a kernel is full of control flow constructs does not mean that there will be heavy occurrence of control divergence</li>\n",
    "            <li>We will cover some algorithm patterns that naturally incur control divergence (such as parallel reduction) in the Parallel Algorithm Patterns modules</li>\n",
    "            </h2>\n",
    "        </ul>\n",
    "</div>\n",
    "\n",
    "<hr style=\"height:2px\">"
   ]
  },
  {
   "cell_type": "markdown",
   "metadata": {},
   "source": [
    "<footer>\n",
    "<cite> GPU NVIDIA Teaching Kit - University of Illinois </cite>\n",
    "</footer>\n",
    "<hr style=\"height:2px\">"
   ]
  }
 ],
 "metadata": {
  "kernelspec": {
   "display_name": "Python 2",
   "language": "python",
   "name": "python2"
  },
  "language_info": {
   "codemirror_mode": {
    "name": "ipython",
    "version": 2
   },
   "file_extension": ".py",
   "mimetype": "text/x-python",
   "name": "python",
   "nbconvert_exporter": "python",
   "pygments_lexer": "ipython2",
   "version": "2.7.6"
  }
 },
 "nbformat": 4,
 "nbformat_minor": 1
}
