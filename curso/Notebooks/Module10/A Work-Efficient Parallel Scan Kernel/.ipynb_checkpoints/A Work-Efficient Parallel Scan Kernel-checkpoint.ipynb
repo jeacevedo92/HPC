{
 "cells": [
  {
   "cell_type": "markdown",
   "metadata": {},
   "source": [
    "# <span style=\"color:green\"> Objective </span>\n",
    "\n",
    "- To learn to write a work-efficient scan kernel\n",
    "    - Two-phased balanced tree traversal\n",
    "    - Aggressive re-use of intermediate results\n",
    "    - Reducing control divergence with more complex thread index to data index mapping\n",
    "\n",
    "<hr style=\"height:2px\">"
   ]
  },
  {
   "cell_type": "markdown",
   "metadata": {},
   "source": [
    "# <span style=\"color:green\"> Improving Efficiency </span>\n",
    "\n",
    "- Balanced Trees\n",
    "    - Form a balanced binary tree on the input data and sweep it to and from the root\n",
    "    - Tree is not an actual data structure, but a concept to determine what each thread does at each step\n",
    "\n",
    "- For scan:\n",
    "    - Traverse down from leaves to the root building partial sums at internal nodes in the tree\n",
    "        - The root holds the sum of all leaves\n",
    "    - Traverse back up the tree building the output from the partial sums\n",
    "\n",
    "<hr style=\"height:2px\">"
   ]
  },
  {
   "cell_type": "markdown",
   "metadata": {},
   "source": [
    "# <span style=\"color:green\"> Parallel Scan - Reduction Phase </span>\n",
    "\n",
    "\n",
    "\n",
    "__threadIdx.x+1 = 1, 2, 3, 4....__\n",
    "\n",
    "__stride = 1,__\n",
    "\n",
    "__index = 1, 3, 5, 7, ...__\n",
    "\n",
    "<hr style=\"height:2px\">"
   ]
  },
  {
   "cell_type": "markdown",
   "metadata": {},
   "source": [
    "# <span style=\"color:green\"> Reduction Phase Kernel Code </span>\n",
    "\n",
    "```cpp\n",
    "\n",
    "// XY[2*BLOCK_SIZE] is in shared memory\n",
    "for (unsigned int stride = 1;stride <= BLOCK_SIZE; stride *= 2)\n",
    "{\n",
    "    int index = (threadIdx.x+1)*stride*2 - 1;\n",
    "    if(index < 2*BLOCK_SIZE)\n",
    "    XY[index] += XY[index-stride];\n",
    "    __syncthreads();\n",
    "}\n",
    "\n",
    "```\n",
    "\n",
    "![alt tag](img/3.png)\n",
    "<hr style=\"height:2px\">"
   ]
  },
  {
   "cell_type": "markdown",
   "metadata": {},
   "source": [
    "# <span style=\"color:green\"> Parallel Scan - Post Reduction Reverse Phase </span>\n",
    "\n",
    "![alt tag](img/6.png)\n",
    "\n",
    "![alt tag](img/7.png)\n",
    "\n",
    "<hr style=\"height:2px\">"
   ]
  },
  {
   "cell_type": "markdown",
   "metadata": {},
   "source": [
    "# <span style=\"color:green\"> Putting it Together </span>\n",
    "\n",
    "![alt tag](img/8.png)\n",
    "<hr style=\"height:2px\">"
   ]
  },
  {
   "cell_type": "markdown",
   "metadata": {},
   "source": [
    "# <span style=\"color:green\"> Post Reduction Reverse Phase Kernel Code </span>\n",
    "\n",
    "```cpp\n",
    "\n",
    "for (unsigned int stride = BLOCK_SIZE/2; stride > 0; stride /= 2) {\n",
    "    __syncthreads();\n",
    "    int index = (threadIdx.x+1)*stride*2 - 1;\n",
    "    if(index+stride < 2*BLOCK_SIZE) {\n",
    "        XY[index + stride] += XY[index];\n",
    "    }\n",
    "}\n",
    "__syncthreads();\n",
    "if (i < InputSize) Y[i] = XY[threadIdx.x];\n",
    "\n",
    "```\n",
    "\n",
    "__First iteration for 16-element section__\n",
    "\n",
    "__threadIdx.x = 0__\n",
    "\n",
    "__stride = BLOCK_SIZE/2 = 8/2 = 4__\n",
    "\n",
    "__index = 8-1 = 7__\n",
    "\n",
    "<hr style=\"height:2px\">"
   ]
  },
  {
   "cell_type": "markdown",
   "metadata": {},
   "source": [
    "<footer>\n",
    "<cite> GPU NVIDIA Teaching Kit - University of Illinois </cite>\n",
    "</footer>"
   ]
  }
 ],
 "metadata": {
  "kernelspec": {
   "display_name": "Python 3",
   "language": "python",
   "name": "python3"
  },
  "language_info": {
   "codemirror_mode": {
    "name": "ipython",
    "version": 3
   },
   "file_extension": ".py",
   "mimetype": "text/x-python",
   "name": "python",
   "nbconvert_exporter": "python",
   "pygments_lexer": "ipython3",
   "version": "3.5.2"
  }
 },
 "nbformat": 4,
 "nbformat_minor": 1
}
