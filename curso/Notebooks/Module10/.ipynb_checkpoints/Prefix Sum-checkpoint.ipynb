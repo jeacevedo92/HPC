{
 "cells": [
  {
   "cell_type": "markdown",
   "metadata": {},
   "source": [
    "# <span style=\"color:green\"> Objectives </span>\n",
    "\n",
    "- To master parallel scan (prefix sum) algorithms\n",
    "    - Frequently used for parallel work assignment and resource allocation\n",
    "    - A key primitive in many parallel algorithms to convert serial computation into parallel computation\n",
    "    - A foundational parallel computation pattern\n",
    "    - Work efficiency in parallel code/algorithms\n",
    "- Reading –Mark Harris, Parallel Prefix Sum with CUDA\n",
    "    - http://http.developer.nvidia.com/GPUGems3/gpugems3_ch39.html\n",
    "\n",
    "<hr style=\"height:2px\">"
   ]
  },
  {
   "cell_type": "markdown",
   "metadata": {},
   "source": [
    "# <span style=\"color:green\"> Inclusive Scan (Prefix-Sum) Definition </span>\n",
    "\n",
    "![alt tag](img/3.png)\n",
    "<hr style=\"height:2px\">"
   ]
  },
  {
   "cell_type": "markdown",
   "metadata": {},
   "source": [
    "# <span style=\"color:green\"> Taking Care of Boundaries (1 channel example) </span>\n",
    "\n",
    "- Assume that we have a 100-inch sandwich to feed 10 people\n",
    "- We know how much each person wants in inches\n",
    "    - [3 5 2 7 28 4 3 0 8 1]\n",
    "- How do we cut the sandwich quickly?\n",
    "- How much will be left?\n",
    "- Method 1: cut the sections sequentially: 3 inches first, 5 inches second, 2 inches third, etc.\n",
    "- Method 2: calculate prefix sum:\n",
    "    - [3, 8, 10, 17, 45, 49, 52, 52, 60, 61] (39 inches left)\n",
    "\n",
    "<hr style=\"height:2px\">"
   ]
  },
  {
   "cell_type": "markdown",
   "metadata": {},
   "source": [
    "# <span style=\"color:green\"> Typical Applications of Scan </span>\n",
    "\n",
    "- Scan is a simple and useful parallel building block\n",
    "    - Convert recurrences from sequential:\n",
    "    ```cpp\n",
    "    for(j=1;j<n;j++)\n",
    "        out[j] = out[j-1] + f(j);\n",
    "    ```\n",
    "    \n",
    "    - Into parallel:\n",
    "    ```cpp\n",
    "    forall(j) { temp[j] = f(j) };\n",
    "        scan(out, temp);\n",
    "    ```\n",
    "- Useful for many parallel algorithms:\n",
    "    - Radix sort\n",
    "    - Quicksort\n",
    "    - String comparison\n",
    "    - Lexical analysis\n",
    "    - Stream compaction\n",
    "    - Polynomial\n",
    "    - evaluation\n",
    "    - Solving recurrences\n",
    "    - Tree operations\n",
    "    - Histograms\n",
    "\n",
    "<hr style=\"height:2px\">"
   ]
  },
  {
   "cell_type": "markdown",
   "metadata": {},
   "source": [
    "# <span style=\"color:green\"> Other Applications </span>\n",
    "\n",
    "- Assigning camping spots\n",
    "- Assigning Farmer’s Market spaces\n",
    "- Allocating memory to parallel threads\n",
    "- Allocating memory buffer space for communication channels\n",
    "- ...\n",
    "\n",
    "<hr style=\"height:2px\">"
   ]
  },
  {
   "cell_type": "markdown",
   "metadata": {},
   "source": [
    "# <span style=\"color:green\"> An Inclusive Sequential Addition Scan </span>\n",
    "\n",
    "![alt tag](img/7.png)\n",
    "<hr style=\"height:2px\">"
   ]
  },
  {
   "cell_type": "markdown",
   "metadata": {},
   "source": [
    "# <span style=\"color:green\"> A Work Efficient C Implementation </span>\n",
    "\n",
    "```cpp\n",
    "y[0] = x[0];\n",
    "for (i = 1; i < Max_i; i++) y[i] = y [i-1] + x[i];\n",
    "```\n",
    "\n",
    "Computationally efficient:\n",
    "\n",
    "N additions needed for N elements - O(N)!\n",
    "Only slightly more expensive than sequential reduction.\n",
    "<hr style=\"height:2px\">"
   ]
  },
  {
   "cell_type": "markdown",
   "metadata": {},
   "source": [
    "# <span style=\"color:green\"> A Naïve Inclusive Parallel Scan </span>\n",
    "\n",
    "- Assign one thread to calculate each y element\n",
    "- Have every thread to add up all x elements needed for the y element\n",
    "\n",
    "```cpp\n",
    "y0 = x0\n",
    "y1 = x0 + x1\n",
    "y2 = x0 + x1 + x2\n",
    "```\n",
    "\n",
    "__“Parallel programming is easy as long as you do not care about\n",
    "performance.”__\n",
    "\n",
    "<hr style=\"height:2px\">"
   ]
  },
  {
   "cell_type": "markdown",
   "metadata": {},
   "source": [
    "# <span style=\"color:green\"> Taking Care of Boundaries (1 channel example) </span>\n",
    "\n",
    "![alt tag](img/10.png)\n",
    "<hr style=\"height:2px\">"
   ]
  },
  {
   "cell_type": "markdown",
   "metadata": {},
   "source": [
    "# <span style=\"color:green\"> Taking Care of Boundaries (1 channel example) </span>\n",
    "\n",
    "![alt tag](img/10.png)\n",
    "<hr style=\"height:2px\">"
   ]
  },
  {
   "cell_type": "markdown",
   "metadata": {},
   "source": [
    "# <span style=\"color:green\"> Taking Care of Boundaries (1 channel example) </span>\n",
    "\n",
    "![alt tag](img/10.png)\n",
    "<hr style=\"height:2px\">"
   ]
  },
  {
   "cell_type": "markdown",
   "metadata": {},
   "source": [
    "# <span style=\"color:green\"> Taking Care of Boundaries (1 channel example) </span>\n",
    "\n",
    "![alt tag](img/10.png)\n",
    "<hr style=\"height:2px\">"
   ]
  },
  {
   "cell_type": "markdown",
   "metadata": {},
   "source": [
    "# <span style=\"color:green\"> Taking Care of Boundaries (1 channel example) </span>\n",
    "\n",
    "![alt tag](img/10.png)\n",
    "<hr style=\"height:2px\">"
   ]
  },
  {
   "cell_type": "markdown",
   "metadata": {},
   "source": []
  },
  {
   "cell_type": "markdown",
   "metadata": {},
   "source": []
  },
  {
   "cell_type": "markdown",
   "metadata": {},
   "source": []
  }
 ],
 "metadata": {
  "kernelspec": {
   "display_name": "Python 3",
   "language": "python",
   "name": "python3"
  },
  "language_info": {
   "codemirror_mode": {
    "name": "ipython",
    "version": 3
   },
   "file_extension": ".py",
   "mimetype": "text/x-python",
   "name": "python",
   "nbconvert_exporter": "python",
   "pygments_lexer": "ipython3",
   "version": "3.5.2"
  }
 },
 "nbformat": 4,
 "nbformat_minor": 1
}
