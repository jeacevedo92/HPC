{
 "cells": [
  {
   "cell_type": "markdown",
   "metadata": {},
   "source": [
    "# <span style=\"color:green\"> Objective </span>\n",
    "\n",
    "- To learn to write and analyze a high-performance scan kernel\n",
    "    - Interleaved reduction trees\n",
    "    - Thread index to data mapping\n",
    "    - Barrier Synchronization\n",
    "    - Work efficiency analysis\n",
    "\n",
    "<hr style=\"height:2px\">"
   ]
  },
  {
   "cell_type": "markdown",
   "metadata": {},
   "source": [
    "# <span style=\"color:green\"> A Better Parallel Scan Algorithm </span>\n",
    "\n",
    "1. Read input from device global memory to shared memory\n",
    "2. Iterate log(n) times; stride from 1 to n-1: double stride each iteration\n",
    "\n",
    "![alt tag](img/3.png)\n",
    "\n",
    "\n",
    "\n",
    "<hr style=\"height:2px\">"
   ]
  },
  {
   "cell_type": "markdown",
   "metadata": {},
   "source": [
    "# <span style=\"color:green\"> A Better Parallel Scan Algorithm </span>\n",
    "\n",
    "1. Read input from device global memory to shared memory\n",
    "2. Iterate log(n) times; stride from 1 to n-1: double stride each iteration\n",
    "![alt tag](img/4.png)\n",
    "\n",
    "3. Write output from shared memory to device memory\n",
    "\n",
    "![alt tag](img/4.png)\n",
    "\n",
    "<hr style=\"height:2px\">"
   ]
  },
  {
   "cell_type": "markdown",
   "metadata": {},
   "source": [
    "# <span style=\"color:green\"> Handling Dependencies </span>\n",
    "\n",
    "- During every iteration, each thread can overwrite the input of another thread\n",
    "    - Barrier synchronization to ensure all inputs have been properly generated\n",
    "    - All threads secure input operand that can be overwritten by another thread\n",
    "    - Barrier synchronization is required to ensure that all threads have secured their inputs\n",
    "    - All threads perform addition and write output\n",
    "\n",
    "![alt tag](img/6.png)\n",
    "<hr style=\"height:2px\">"
   ]
  },
  {
   "cell_type": "markdown",
   "metadata": {},
   "source": [
    "# <span style=\"color:green\"> A Work-Inefficient Scan Kernel </span>\n",
    "\n",
    "```cpp\n",
    "__global__ void work_inefficient_scan_kernel(float *X, float *Y, int InputSize) {\n",
    "__shared__ float XY[SECTION_SIZE];\n",
    "int i = blockIdx.x * blockDim.x + threadIdx.x;\n",
    "if (i < InputSize) {XY[threadIdx.x] = X[i];}\n",
    "// the code below performs iterative scan on XY\n",
    "for (unsigned int stride = 1; stride <= threadIdx.x; stride *= 2) {\n",
    "    __syncthreads();\n",
    "    float in1 = XY[threadIdx.x - stride];\n",
    "    __syncthreads();\n",
    "    XY[threadIdx.x] += in1;\n",
    "}\n",
    "__ syncthreads();\n",
    "if (i < InputSize) {Y[i] = XY[threadIdx.x];}\n",
    "}\n",
    "```\n",
    "<hr style=\"height:2px\">"
   ]
  },
  {
   "cell_type": "markdown",
   "metadata": {},
   "source": [
    "<footer>\n",
    "<cite> GPU NVIDIA Teaching Kit - University of Illinois </cite>\n",
    "</footer>"
   ]
  }
 ],
 "metadata": {
  "kernelspec": {
   "display_name": "Python 3",
   "language": "python",
   "name": "python3"
  },
  "language_info": {
   "codemirror_mode": {
    "name": "ipython",
    "version": 3
   },
   "file_extension": ".py",
   "mimetype": "text/x-python",
   "name": "python",
   "nbconvert_exporter": "python",
   "pygments_lexer": "ipython3",
   "version": "3.5.2"
  }
 },
 "nbformat": 4,
 "nbformat_minor": 1
}
