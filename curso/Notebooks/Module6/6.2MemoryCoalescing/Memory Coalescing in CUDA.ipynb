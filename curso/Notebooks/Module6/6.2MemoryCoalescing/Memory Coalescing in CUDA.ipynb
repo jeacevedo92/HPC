{
 "cells": [
  {
   "cell_type": "markdown",
   "metadata": {},
   "source": [
    "# <span style=\"color:green\"> Objectives </span>\n",
    "\n",
    "- To learn that memory coalescing is important for effectively utilizing memory bandwidth in CUDA\n",
    "- Its origin in DRAM burst\n",
    "- Checking if a CUDA memory access is coalesced\n",
    "- Techniques for improving memory coalescing in CUDA code\n",
    "<hr style=\"height:2px\">"
   ]
  },
  {
   "cell_type": "markdown",
   "metadata": {},
   "source": [
    "# <span style=\"color:green\"> DRAM Burst – A System View </span>\n",
    "\n",
    "- Each address space is partitioned into burst sections\n",
    "  - Whenever a location is accessed, all other locations in the same section are also delivered to the processor\n",
    "- Basic example: a 16-byte address space, 4-byte burst sections\n",
    "  - In practice, we have at least 4GB address space, burst section sizes of 128-bytes or more\n",
    "\n",
    "![alt tag](img/3.png)\n",
    "<hr style=\"height:2px\">"
   ]
  },
  {
   "cell_type": "markdown",
   "metadata": {},
   "source": [
    "# <span style=\"color:green\"> Memory Coalescing </span>\n",
    "\n",
    "When all threads of a warp execute a load instruction, if all accessed\n",
    "locations fall into the same burst section, only one DRAM request\n",
    "will be made and the access is fully coalesced.\n",
    "\n",
    "![alt tag](img/4.png)\n",
    "<hr style=\"height:2px\">"
   ]
  },
  {
   "cell_type": "markdown",
   "metadata": {},
   "source": [
    "# <span style=\"color:green\"> Un-coalesced Accesses </span>\n",
    "\n",
    "- When the accessed locations spread across burst section boundaries:\n",
    "- Coalescing fails\n",
    "- Multiple DRAM requests are made\n",
    "- The access is not fully coalesced.\n",
    "- Some of the bytes accessed and transferred are not used by the threads\n",
    "\n",
    "![alt tag](img/5.png)\n",
    "<hr style=\"height:2px\">"
   ]
  },
  {
   "cell_type": "markdown",
   "metadata": {},
   "source": [
    "# <span style=\"color:green\"> How to judge if an access is coalesced? </span>\n",
    "\n",
    "- Accesses in a warp are to consecutive locations if the index in an array access is in the form of\n",
    "- ```A[(expression with terms independent of threadIdx.x) + threadIdx.x]; ```\n",
    "\n",
    "<hr style=\"height:2px\">"
   ]
  },
  {
   "cell_type": "markdown",
   "metadata": {},
   "source": [
    "# <span style=\"color:green\"> A 2D C Array in Linear Memory Space </span>\n",
    "\n",
    "![alt tag](img/7.png)\n",
    "<hr style=\"height:2px\">"
   ]
  },
  {
   "cell_type": "markdown",
   "metadata": {},
   "source": [
    "# <span style=\"color:green\"> Two Access Patterns of Basic Matrix Multiplication </span>\n",
    "\n",
    "![alt tag](img/8.png)\n",
    "<hr style=\"height:2px\">"
   ]
  },
  {
   "cell_type": "markdown",
   "metadata": {},
   "source": [
    "# <span style=\"color:green\"> B accesses are coalesced </span>\n",
    "\n",
    "![alt tag](img/9.png)\n",
    "<hr style=\"height:2px\">"
   ]
  },
  {
   "cell_type": "markdown",
   "metadata": {},
   "source": [
    "# <span style=\"color:green\"> A Accesses are Not Coalesced </span>\n",
    "\n",
    "![alt tag](img/10.png)\n",
    "<hr style=\"height:2px\">"
   ]
  },
  {
   "cell_type": "markdown",
   "metadata": {},
   "source": [
    "# <span style=\"color:green\"> Loading an Input Tile </span>\n",
    "\n",
    "![alt tag](img/11.png)\n",
    "<hr style=\"height:2px\">"
   ]
  },
  {
   "cell_type": "markdown",
   "metadata": {},
   "source": [
    "# <span style=\"color:green\"> Corner Turning </span>\n",
    "\n",
    "![alt tag](img/12.png)\n",
    "<hr style=\"height:2px\">"
   ]
  },
  {
   "cell_type": "markdown",
   "metadata": {},
   "source": [
    "<footer>\n",
    "<cite> GPU NVIDIA Teaching Kit - University of Illinois </cite>\n",
    "</footer>"
   ]
  }
 ],
 "metadata": {
  "kernelspec": {
   "display_name": "Python 3",
   "language": "python",
   "name": "python3"
  },
  "language_info": {
   "codemirror_mode": {
    "name": "ipython",
    "version": 3
   },
   "file_extension": ".py",
   "mimetype": "text/x-python",
   "name": "python",
   "nbconvert_exporter": "python",
   "pygments_lexer": "ipython3",
   "version": "3.5.2"
  }
 },
 "nbformat": 4,
 "nbformat_minor": 1
}
