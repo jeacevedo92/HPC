{
 "cells": [
  {
   "cell_type": "markdown",
   "metadata": {},
   "source": [
    "# <span style=\"color:green\">Objective</span>\n",
    "<div style=\"text-align:justify;font-size:20px\">\n",
    "<body>\n",
    "To learn to write a better reduction kernel\n",
    "<ul>\n",
    "<li>Resource efficiency analysis</li>\n",
    "<li>Improved thread to data mapping</li>\n",
    "<li>Reduced control divergence</li>\n",
    "</ul>\n",
    "</body>\n",
    "</div>\n",
    "<hr style=\"height:2px\">"
   ]
  },
  {
   "cell_type": "markdown",
   "metadata": {},
   "source": [
    "# <span style=\"color:green\">Some Observations on the naïve reduction kernel</span>\n",
    "\n",
    "<br></br>\n",
    "<div style=\"text-align:justify;font-size:20px\">\n",
    "        <ul>\n",
    "            <body>\n",
    "            \n",
    "            <li>In each iteration, two control flow paths will be sequentially\n",
    "traversed for each warp\n",
    "                <ul>\n",
    "                    <li>Threads that perform addition and threads that do not</li>\n",
    "                    <li>Threads that do not perform addition still consume execution resources</li>\n",
    "                </ul>\n",
    "            </li>\n",
    "            <li>Half or fewer of threads will be executing after the first step\n",
    "                <ul>\n",
    "                    <li>All odd-index threads are disabled after first step</li>\n",
    "                    <li>After the 5th step, entire warps in each block will fail the if test, poor resource utilization\n",
    "but no divergence\n",
    "                        <ul>\n",
    "                            <li>This can go on for a while, up to 6 more steps (stride = 32, 64, 128, 256, 512, 1024),\n",
    "where each active warp only has one productive thread until all warps in a block retire</li>\n",
    "                        </ul>\n",
    "                    </li>\n",
    "                </ul>\n",
    "            </li>\n",
    "            </body>\n",
    "        </ul>\n",
    "</div>\n",
    "\n",
    "<hr style=\"height:2px\">"
   ]
  },
  {
   "cell_type": "markdown",
   "metadata": {},
   "source": [
    "# <span style=\"color:green\">Thread Index Usage Matters</span>\n",
    "\n",
    "<br></br>\n",
    "<div style=\"text-align:justify;font-size:20px\">\n",
    "        <ul>\n",
    "            <body>\n",
    "            \n",
    "            <li>In some algorithms, one can shift the index usage to improve\n",
    "the divergence behavior\n",
    "                <ul>\n",
    "                    <li>Commutative and associative operators</li>\n",
    "                </ul>\n",
    "            </li>\n",
    "            <li>Always compact the partial sums into the front locations in the\n",
    "partialSum[ ] array</li>\n",
    "            <li>Keep the active threads consecutive</li>\n",
    "            </body>\n",
    "        </ul>\n",
    "</div>\n",
    "\n",
    "<hr style=\"height:2px\">"
   ]
  },
  {
   "cell_type": "markdown",
   "metadata": {},
   "source": [
    "# <span style=\"color:green\">An Example of 4 threads</span>\n",
    "\n",
    "<br></br>\n",
    "<span style=\"float:center;clear:center\">![alt tag](img/1.png)</span>\n",
    "\n",
    "\n",
    "\n",
    "\n",
    "\n",
    "<hr style=\"height:2px\">"
   ]
  },
  {
   "cell_type": "markdown",
   "metadata": {},
   "source": [
    "# <span style=\"color:green\">A Better Reduction Kernel</span>\n",
    "\n",
    "```C++\n",
    "for (unsigned int stride = blockDim.x; stride > 0; stride /= 2)\n",
    "{\n",
    "    __syncthreads();\n",
    "    if (t < stride)\n",
    "        partialSum[t] += partialSum[t+stride];\n",
    "}\n",
    "```\n",
    "\n",
    "\n",
    "\n",
    "\n",
    "\n",
    "<hr style=\"height:2px\">"
   ]
  },
  {
   "cell_type": "markdown",
   "metadata": {},
   "source": [
    "# <span style=\"color:green\">A Quick Analysis</span>\n",
    "\n",
    "<br></br>\n",
    "<div style=\"text-align:justify;font-size:20px\">\n",
    "        <ul>\n",
    "            <body>\n",
    "            \n",
    "            \n",
    "            <li>For a 1024 thread block\n",
    "                <ul>\n",
    "                    <li>No divergence in the first 5 steps\n",
    "                        <ul>\n",
    "                            <li>1024, 512, 256, 128, 64, 32 consecutive threads are active in each\n",
    "step</li>\n",
    "                            <li>All threads in each warp either all active or all inactive</li>\n",
    "                        </ul>\n",
    "                    </li>\n",
    "                    <li>The final 5 steps will still have divergence</li>\n",
    "                </ul>\n",
    "            </li>\n",
    "            </body>\n",
    "        </ul>\n",
    "</div>\n",
    "\n",
    "<hr style=\"height:2px\">"
   ]
  },
  {
   "cell_type": "markdown",
   "metadata": {},
   "source": [
    "<footer>\n",
    "<cite> GPU NVIDIA Teaching Kit - University of Illinois </cite>\n",
    "</footer>\n",
    "<hr style=\"height:2px\">"
   ]
  }
 ],
 "metadata": {
  "kernelspec": {
   "display_name": "Python 2",
   "language": "python",
   "name": "python2"
  },
  "language_info": {
   "codemirror_mode": {
    "name": "ipython",
    "version": 2
   },
   "file_extension": ".py",
   "mimetype": "text/x-python",
   "name": "python",
   "nbconvert_exporter": "python",
   "pygments_lexer": "ipython2",
   "version": "2.7.10"
  }
 },
 "nbformat": 4,
 "nbformat_minor": 1
}
