{
 "cells": [
  {
   "cell_type": "markdown",
   "metadata": {},
   "source": [
    "# <span style=\"color:green\">Objective</span>\n",
    "<div style=\"text-align:justify;font-size:20px\">\n",
    "<body>\n",
    "To learn to write a basic reduction kernel\n",
    "<ul>\n",
    "<li>Thread to data mapping</li>\n",
    "<li>Turning off threads</li>\n",
    "<li>Control divergence</li>\n",
    "</ul>\n",
    "</body>\n",
    "</div>\n",
    "<hr style=\"height:2px\">"
   ]
  },
  {
   "cell_type": "markdown",
   "metadata": {},
   "source": [
    "# <span style=\"color:green\">Parallel Sum Reduction</span>\n",
    "\n",
    "<br></br>\n",
    "<div style=\"text-align:justify;font-size:20px\">\n",
    "        <ul>\n",
    "            <body>\n",
    "            \n",
    "            <li>Parallel implementation\n",
    "                <ul>\n",
    "                    <li>Recursively halve # of threads, add two values per thread in each step</li>\n",
    "                    <li>Takes log(n) steps for n elements, requires n/2 threads</li>\n",
    "                </ul>\n",
    "            </li>\n",
    "            <li>Assume an in-place reduction using shared memory\n",
    "                <ul>\n",
    "                    <li>The original vector is in device global memory</li>\n",
    "                    <li>The shared memory is used to hold a partial sum vector</li>\n",
    "                    <li>Each step brings the partial sum vector closer to the sum</li>\n",
    "                    <li>The final sum will be in element 0 of the partial sum vector</li>\n",
    "                    <li>Reduces global memory traffic due to partial sum values</li>\n",
    "                    <li>Thread block size limits n to be less than or equal to 2,048</li>\n",
    "                </ul>\n",
    "            </li>\n",
    "            </body>\n",
    "        </ul>\n",
    "</div>\n",
    "\n",
    "<hr style=\"height:2px\">"
   ]
  },
  {
   "cell_type": "markdown",
   "metadata": {},
   "source": [
    "# <span style=\"color:green\">A Parallel Sum Reduction Example</span>\n",
    "\n",
    "<br></br>\n",
    "<span style=\"float:center;clear:center\">![alt tag](img/1.png)</span>\n",
    "<br></br>\n",
    "<br></br>\n",
    "<br></br>\n",
    "<br></br>\n",
    "<br></br>\n",
    "<br></br>\n",
    "<br></br>\n",
    "<br></br>\n",
    "<br></br>\n",
    "<br></br>\n",
    "<br></br>\n",
    "<br></br>\n",
    "<br></br>\n",
    "<br></br>\n",
    "<br></br>\n",
    "<br></br>\n",
    "<br></br>\n",
    "<br></br>\n",
    "<br></br>\n",
    "<br></br>\n",
    "\n",
    "\n",
    "<hr style=\"height:2px\">"
   ]
  }
 ],
 "metadata": {
  "kernelspec": {
   "display_name": "Python 2",
   "language": "python",
   "name": "python2"
  },
  "language_info": {
   "codemirror_mode": {
    "name": "ipython",
    "version": 2
   },
   "file_extension": ".py",
   "mimetype": "text/x-python",
   "name": "python",
   "nbconvert_exporter": "python",
   "pygments_lexer": "ipython2",
   "version": "2.7.10"
  }
 },
 "nbformat": 4,
 "nbformat_minor": 1
}
