{
 "cells": [
  {
   "cell_type": "markdown",
   "metadata": {},
   "source": [
    "# <span style=\"color:green\">Objective</span>\n",
    "<div style=\"text-align:justify;font-size:20px\">\n",
    "<body>\n",
    "To learn the parallel reduction pattern\n",
    "<ul>\n",
    "<li>An important class of parallel computation</li>\n",
    "<li>Work efficiency analysis</li>\n",
    "<li>Resource efficiency analysis</li>\n",
    "</ul>\n",
    "</body>\n",
    "</div>\n",
    "<hr style=\"height:2px\">"
   ]
  },
  {
   "cell_type": "markdown",
   "metadata": {},
   "source": [
    "# <span style=\"color:green\">Partition and Summarize</span>\n",
    "\n",
    "<br></br>\n",
    "<div style=\"text-align:justify;font-size:20px\">\n",
    "        <ul>\n",
    "            <body>\n",
    "            \n",
    "            <li>A commonly used strategy for processing large input\n",
    "data sets\n",
    "                <ul>\n",
    "                    <li>There is no required order of processing elements in a data set (associative and\n",
    "commutative)</li>\n",
    "                    <li>Partition the data set into smaller chunks</li>\n",
    "                    <li>Have each thread to process a chunk</li>\n",
    "                    <li>Use a reduction tree to summarize the results from each chunk into the final\n",
    "answer</li>\n",
    "                </ul>\n",
    "            </li>\n",
    "            <li>Google and Hadoop MapReduce frameworks support\n",
    "this strategy</li>\n",
    "            <li>We will focus on the reduction tree step for now</li>\n",
    "            </body>\n",
    "        </ul>\n",
    "</div>\n",
    "\n",
    "<hr style=\"height:2px\">"
   ]
  },
  {
   "cell_type": "markdown",
   "metadata": {},
   "source": [
    "# <span style=\"color:green\">Reduction enables other techniques</span>\n",
    "\n",
    "<br></br>\n",
    "<div style=\"text-align:justify;font-size:20px\">\n",
    "        <ul>\n",
    "            <body>\n",
    "            <li>Reduction is also needed to clean up after some\n",
    "commonly used parallelizing transformations</li>\n",
    "            <li>Privatization\n",
    "                <ul>\n",
    "                    <li>Multiple threads write into an output location</li>\n",
    "                    <li>Replicate the output location so that each thread has a private output\n",
    "location</li>\n",
    "                    <li>Use a reduction tree to combine the values of private locations into\n",
    "the original output location</li>\n",
    "                </ul>\n",
    "            </li>\n",
    "            </body>\n",
    "        </ul>\n",
    "</div>\n",
    "\n",
    "<hr style=\"height:2px\">"
   ]
  },
  {
   "cell_type": "markdown",
   "metadata": {},
   "source": [
    "# <span style=\"color:green\">What is a reduction computation?</span>\n",
    "\n",
    "<br></br>\n",
    "<div style=\"text-align:justify;font-size:20px\">\n",
    "        <ul>\n",
    "            <body>\n",
    "            <li>Summarize a set of input values into one value using a\n",
    "“reduction operation”\n",
    "                <ul>\n",
    "                    <li>Max</li>\n",
    "                    <li>Min</li>\n",
    "                    <li>Sum</li>\n",
    "                    <li>Product</li>\n",
    "                </ul>\n",
    "            </li>\n",
    "            <li>Often used with a user defined reduction operation\n",
    "function as long as the operation\n",
    "                <ul>\n",
    "                    <li>Max</li>\n",
    "                    <li>Min</li>\n",
    "                    <li>Sum</li>\n",
    "                    <li>Product</li>\n",
    "                </ul>\n",
    "            </li>\n",
    "            </body>\n",
    "        </ul>\n",
    "</div>\n",
    "\n",
    "<hr style=\"height:2px\">"
   ]
  }
 ],
 "metadata": {
  "kernelspec": {
   "display_name": "Python 2",
   "language": "python",
   "name": "python2"
  },
  "language_info": {
   "codemirror_mode": {
    "name": "ipython",
    "version": 2
   },
   "file_extension": ".py",
   "mimetype": "text/x-python",
   "name": "python",
   "nbconvert_exporter": "python",
   "pygments_lexer": "ipython2",
   "version": "2.7.10"
  }
 },
 "nbformat": 4,
 "nbformat_minor": 1
}
