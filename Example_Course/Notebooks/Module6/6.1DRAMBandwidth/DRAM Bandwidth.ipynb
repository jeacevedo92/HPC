{
 "cells": [
  {
   "cell_type": "markdown",
   "metadata": {},
   "source": [
    "# <span style=\"color:green\"> Objectives </span>\n",
    "\n",
    "To learn that memory bandwidth is a first-order performance factor in a massively parallel processor\n",
    "- DRAM bursts, banks, and channels\n",
    "- All concepts are also applicable to modern multicore processors\n",
    "<hr style=\"height:2px\">"
   ]
  },
  {
   "cell_type": "markdown",
   "metadata": {},
   "source": [
    "# <span style=\"color:green\"> Global Memory (DRAM) Bandwidth </span>\n",
    "\n",
    "![alt tag](img/3.png)\n",
    "<hr style=\"height:2px\">"
   ]
  },
  {
   "cell_type": "markdown",
   "metadata": {},
   "source": [
    "# <span style=\"color:green\"> DRAM Core Array Organization </span>\n",
    "\n",
    "- Each DRAM core array has about 16M bits\n",
    "- Each bit is stored in a tiny capacitor made of one transistor\n",
    "\n",
    "![alt tag](img/4.png)\n",
    "<hr style=\"height:2px\">"
   ]
  },
  {
   "cell_type": "markdown",
   "metadata": {},
   "source": [
    "# <span style=\"color:green\"> A very small (8x2-bit) DRAM Core Array </span>\n",
    "\n",
    "![alt tag](img/5.png)\n",
    "<hr style=\"height:2px\">"
   ]
  },
  {
   "cell_type": "markdown",
   "metadata": {},
   "source": [
    "# <span style=\"color:green\"> DRAM Core Arrays are Slow </span>\n",
    "\n",
    "![alt tag](img/6.png)\n",
    "<hr style=\"height:2px\">"
   ]
  },
  {
   "cell_type": "markdown",
   "metadata": {},
   "source": [
    "# <span style=\"color:green\"> DRAM Bursting </span>\n",
    "\n",
    "- For DDR{2,3} SDRAM cores clocked at 1/N speed of the interface:\n",
    "  - Load (N × interface width) of DRAM bits from the same row at once to an internal buffer, then transfer in N steps at interface speed\n",
    "  - DDR3/GDDR4: buffer width = 8X interface width\n",
    "\n",
    "![alt tag](img/7.png)\n",
    "<hr style=\"height:2px\">"
   ]
  },
  {
   "cell_type": "markdown",
   "metadata": {},
   "source": [
    "# <span style=\"color:green\"> DRAM Bursting Timing Example </span>\n",
    "\n",
    "Modern DRAM systems are designed to always be accessed\n",
    "in burst mode. Burst bytes are transferred to the processor\n",
    "but discarded when accesses are not to sequential locations.\n",
    "\n",
    "![alt tag](img/8.png)\n",
    "<hr style=\"height:2px\">"
   ]
  },
  {
   "cell_type": "markdown",
   "metadata": {},
   "source": [
    "# <span style=\"color:green\"> Multiple DRAM Banks </span>\n",
    "\n",
    "![alt tag](img/9.png)\n",
    "<hr style=\"height:2px\">"
   ]
  },
  {
   "cell_type": "markdown",
   "metadata": {},
   "source": [
    "# <span style=\"color:green\"> DRAM Bursting with Banking </span>\n",
    "\n",
    "![alt tag](img/10.png)\n",
    "<hr style=\"height:2px\">"
   ]
  },
  {
   "cell_type": "markdown",
   "metadata": {},
   "source": [
    "# <span style=\"color:green\"> GPU off-chip memory subsystem </span>\n",
    "\n",
    "- NVIDIA GTX280 GPU:\n",
    "- Peak global memory bandwidth = 141.7GB/s\n",
    "- Global memory (GDDR3) interface @ 1.1GHz\n",
    "- (Core speed @ 276Mhz)\n",
    "- For a typical 64-bit interface, we can sustain only about 17.6 GB/s (Recall DDR - 2 transfers per clock)\n",
    "- We need a lot more bandwidth (141.7 GB/s) – thus 8 memory channels\n",
    "\n",
    "<hr style=\"height:2px\">"
   ]
  },
  {
   "cell_type": "markdown",
   "metadata": {},
   "source": [
    "<footer>\n",
    "<cite> GPU NVIDIA Teaching Kit - University of Illinois </cite>\n",
    "</footer>"
   ]
  }
 ],
 "metadata": {
  "kernelspec": {
   "display_name": "Python 3",
   "language": "python",
   "name": "python3"
  },
  "language_info": {
   "codemirror_mode": {
    "name": "ipython",
    "version": 3
   },
   "file_extension": ".py",
   "mimetype": "text/x-python",
   "name": "python",
   "nbconvert_exporter": "python",
   "pygments_lexer": "ipython3",
   "version": "3.5.2"
  }
 },
 "nbformat": 4,
 "nbformat_minor": 1
}
