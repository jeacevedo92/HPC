{
 "cells": [
  {
   "cell_type": "markdown",
   "metadata": {},
   "source": [
    "# Objectives\n",
    "\n",
    "- To understand the importance and nature of scalability and portability in parallel programming\n",
    "<hr style=\"height:2px\">"
   ]
  },
  {
   "cell_type": "markdown",
   "metadata": {},
   "source": [
    "# Software Dominates System Cost\n",
    "\n",
    "- SW lines per chip increases at 2x/10 months\n",
    "- HW gates per chip increases at 2x/18 months\n",
    "- Future systems must minimize software redevelopment\n",
    "\n",
    "![alt tag](img/3.png)\n",
    "<hr style=\"height:2px\">"
   ]
  },
  {
   "cell_type": "markdown",
   "metadata": {},
   "source": [
    "# Keys to Software Cost Control\n",
    "\n",
    "### Scalability\n",
    "<img src=\"img/4.png\">\n",
    "  \n",
    "  \n",
    "- The same application runs efficiently on new generations of cores\n",
    "<img src=\"img/5.png\">\n",
    "  \n",
    "  \n",
    "- The same application runs efficiently on more of the same cores\n",
    "<img src=\"img/6.png\">\n",
    "\n",
    "#### More on Scalability\n",
    "- Performance growth with HW generations\n",
    "  - Increasing number of compute units (cores)\n",
    "  - Increasing number of threads\n",
    "  - Increasing vector length\n",
    "  - Increasing pipeline depth\n",
    "  - Increasing DRAM burst size\n",
    "  - Increasing number of DRAM channels\n",
    "  - Increasing data movement latency\n",
    "  \n",
    "### Portability\n",
    "\n",
    "- The same application runs efficiently on different types of cores\n",
    "<img src=\"img/8.png\">\n",
    "\n",
    "\n",
    "- The same application runs efficiently on systems with different organizations and interfaces\n",
    "<img src=\"img/9.png\">\n",
    "\n",
    "#### More on Portability\n",
    "- Portability across many different HW types\n",
    "  - Across ISAs (Instruction Set Architectures) - X86 vs. ARM, etc.\n",
    "  - Latency oriented CPUs vs. throughput oriented GPUs\n",
    "  - Across parallelism models - VLIW vs. SIMD vs. threading\n",
    "  - Across memory models - Shared memory vs. distributed memory\n",
    "<hr style=\"height:2px\">"
   ]
  },
  {
   "cell_type": "markdown",
   "metadata": {},
   "source": [
    "<footer>\n",
    "<cite> GPU NVIDIA Teaching Kit - University of Illinois </cite>\n",
    "</footer>"
   ]
  }
 ],
 "metadata": {
  "kernelspec": {
   "display_name": "Bash",
   "language": "bash",
   "name": "bash"
  },
  "language_info": {
   "codemirror_mode": "shell",
   "file_extension": ".sh",
   "mimetype": "text/x-sh",
   "name": "bash"
  }
 },
 "nbformat": 4,
 "nbformat_minor": 0
}
