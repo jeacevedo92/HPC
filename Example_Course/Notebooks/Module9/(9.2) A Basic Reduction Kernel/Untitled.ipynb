{
 "cells": [
  {
   "cell_type": "markdown",
   "metadata": {},
   "source": [
    "# <span style=\"color:green\">Objective</span>\n",
    "<div style=\"text-align:justify;font-size:20px\">\n",
    "<body>\n",
    "To learn to write a basic reduction kernel\n",
    "<ul>\n",
    "<li>Thread to data mapping</li>\n",
    "<li>Turning off threads</li>\n",
    "<li>Control divergence</li>\n",
    "</ul>\n",
    "</body>\n",
    "</div>\n",
    "<hr style=\"height:2px\">"
   ]
  },
  {
   "cell_type": "markdown",
   "metadata": {},
   "source": [
    "# <span style=\"color:green\">Parallel Sum Reduction</span>\n",
    "\n",
    "<br></br>\n",
    "<div style=\"text-align:justify;font-size:20px\">\n",
    "        <ul>\n",
    "            <body>\n",
    "            \n",
    "            <li>Parallel implementation\n",
    "                <ul>\n",
    "                    <li>Recursively halve # of threads, add two values per thread in each step</li>\n",
    "                    <li>Takes log(n) steps for n elements, requires n/2 threads</li>\n",
    "                </ul>\n",
    "            </li>\n",
    "            <li>Assume an in-place reduction using shared memory\n",
    "                <ul>\n",
    "                    <li>The original vector is in device global memory</li>\n",
    "                    <li>The shared memory is used to hold a partial sum vector</li>\n",
    "                    <li>Each step brings the partial sum vector closer to the sum</li>\n",
    "                    <li>The final sum will be in element 0 of the partial sum vector</li>\n",
    "                    <li>Reduces global memory traffic due to partial sum values</li>\n",
    "                    <li>Thread block size limits n to be less than or equal to 2,048</li>\n",
    "                </ul>\n",
    "            </li>\n",
    "            </body>\n",
    "        </ul>\n",
    "</div>\n",
    "\n",
    "<hr style=\"height:2px\">"
   ]
  },
  {
   "cell_type": "markdown",
   "metadata": {},
   "source": [
    "# <span style=\"color:green\">A Parallel Sum Reduction Example</span>\n",
    "\n",
    "<br></br>\n",
    "<span style=\"float:center;clear:center\">![alt tag](img/1.png)</span>\n",
    "\n",
    "\n",
    "\n",
    "\n",
    "\n",
    "<hr style=\"height:2px\">"
   ]
  },
  {
   "cell_type": "markdown",
   "metadata": {},
   "source": [
    "# <span style=\"color:green\">A Naive Thread to Data Mapping</span>\n",
    "\n",
    "<br></br>\n",
    "<div style=\"text-align:justify;font-size:20px\">\n",
    "        <body>\n",
    "        <ul>\n",
    "            <li>Each thread is responsible for an even-index location of the partial sum\n",
    "vector (location of responsibility)</li>\n",
    "            <li>After each step, half of the threads are no longer needed</li>\n",
    "            <li>One of the inputs is always from the location of responsibility</li>\n",
    "            <li>In each step, one of the inputs comes from an increasing distance away</li>\n",
    "        </ul>\n",
    "        </body>\n",
    "</div>\n",
    "\n",
    "<hr style=\"height:2px\">"
   ]
  },
  {
   "cell_type": "markdown",
   "metadata": {},
   "source": [
    "# <span style=\"color:green\">A Simple Thread Block Design</span>\n",
    "\n",
    "\n",
    "<br></br>\n",
    "<div style=\"text-align:justify;font-size:20px\">\n",
    "        <body>\n",
    "        <ul>\n",
    "                    <li>Each thread block takes 2*BlockDim.x input elements</li>\n",
    "                    <li>Each thread loads 2 elements into shared memory</li>\n",
    "        </ul>\n",
    "        </body>\n",
    "</div>\n",
    "```C++\n",
    "__shared__ float partialSum[2*BLOCK_SIZE];\n",
    "\n",
    "unsigned int t = threadIdx.x;\n",
    "unsigned int start = 2*blockIdx.x*blockDim.x;\n",
    "partialSum[t] = input[start + t];\n",
    "partialSum[blockDim+t] = input[start + blockDim.x+t];\n",
    "```\n",
    "\n",
    "<hr style=\"height:2px\">"
   ]
  },
  {
   "cell_type": "markdown",
   "metadata": {},
   "source": [
    "# <span style=\"color:green\">The Reduction Steps</span>\n",
    "\n",
    "\n",
    "\n",
    "```C++\n",
    "for (unsigned int stride = 1; stride <= blockDim.x; stride *= 2)\n",
    "{\n",
    "    __syncthreads();\n",
    "    if (t % stride == 0)\n",
    "        partialSum[2*t]+= partialSum[2*t+stride];\n",
    "}\n",
    "```\n",
    "<br></br>\n",
    "<div style=\"text-align:center;font-size:20px\">\n",
    "        <body>\n",
    "            <p><strong>Why do we need __syncthreads()?</strong></p>\n",
    "        </body>\n",
    "</div>\n",
    "\n",
    "\n",
    "\n",
    "<hr style=\"height:2px\">"
   ]
  },
  {
   "cell_type": "markdown",
   "metadata": {},
   "source": [
    "# <span style=\"color:green\">Barrier Synchronization</span>\n",
    "\n",
    "\n",
    "<br></br>\n",
    "<div style=\"text-align:justify;font-size:20px\">\n",
    "        <body>\n",
    "        <ul>\n",
    "                    <li>__syncthreads() is needed to ensure that all elements of each\n",
    "version of partial sums have been generated before we proceed\n",
    "to the next step</li>\n",
    "        </ul>\n",
    "        </body>\n",
    "</div>\n",
    "\n",
    "\n",
    "<hr style=\"height:2px\">"
   ]
  },
  {
   "cell_type": "markdown",
   "metadata": {},
   "source": [
    "# <span style=\"color:green\">Back to the Global Picture</span>\n",
    "\n",
    "<br></br>\n",
    "<div style=\"text-align:justify;font-size:20px\">\n",
    "        <body>\n",
    "        <ul>\n",
    "            <li>At the end of the kernel, Thread 0 in each thread block\n",
    "writes the sum of the thread block in partialSum[0] into a\n",
    "vector indexed by the blockIdx.x</li>\n",
    "            <li>There can be a large number of such sums if the original\n",
    "vector is very large\n",
    "                <ul>\n",
    "                    <li>The host code may iterate and launch another kernel</li>\n",
    "                </ul>\n",
    "            </li>\n",
    "            <li>If there are only a small number of sums, the host can\n",
    "simply transfer the data back and add them together</li>\n",
    "        </ul>\n",
    "        </body>\n",
    "</div>\n",
    "\n",
    "<hr style=\"height:2px\">"
   ]
  },
  {
   "cell_type": "markdown",
   "metadata": {},
   "source": [
    "<footer>\n",
    "<cite> GPU NVIDIA Teaching Kit - University of Illinois </cite>\n",
    "</footer>\n",
    "<hr style=\"height:2px\">"
   ]
  }
 ],
 "metadata": {
  "kernelspec": {
   "display_name": "Python 2",
   "language": "python",
   "name": "python2"
  },
  "language_info": {
   "codemirror_mode": {
    "name": "ipython",
    "version": 2
   },
   "file_extension": ".py",
   "mimetype": "text/x-python",
   "name": "python",
   "nbconvert_exporter": "python",
   "pygments_lexer": "ipython2",
   "version": "2.7.10"
  }
 },
 "nbformat": 4,
 "nbformat_minor": 1
}
