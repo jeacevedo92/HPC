{
 "cells": [
  {
   "cell_type": "markdown",
   "metadata": {},
   "source": [
    "# <span style=\"color:green\">Objective</span>\n",
    "<h2>\n",
    "To understand the motivation and ideas for tiled parallel algorithms.\n",
    "<ul>\n",
    "<li> Reducing the limiting effect of memory bandwidth on parallel kernel performance. </li>\n",
    "<li> Tiled algorithms and barrier synchronization.</li>\n",
    "</ul>\n",
    "</h2>\n",
    "<hr style=\"height:2px\">"
   ]
  },
  {
   "cell_type": "markdown",
   "metadata": {},
   "source": [
    "# <span style=\"color:green\">Global Memory Access Pattern of the Basic Matrix Multiplication Kernel</span>\n",
    "\n",
    "\n",
    "\n",
    "\n",
    "<span style=\"float:center;clear:center\">![alt tag](img/1.png)</span>\n",
    "\n",
    "\n",
    "<hr style=\"height:2px\">"
   ]
  },
  {
   "cell_type": "markdown",
   "metadata": {},
   "source": [
    "# <span style=\"color:green\">Tiling/Blocking - Basic Idea</span>\n",
    "\n",
    "\n",
    "\n",
    "\n",
    "<span style=\"float:center;clear:center\">![alt tag](img/2.png)</span>\n",
    "<div style =\"text-align:justify\">\n",
    "<h1>\n",
    "<ul>\n",
    "    <li>Divide the global memory content into tiles</li>\n",
    "    <li> Focus the computation of threads on one or a small number of tiles at each point in time</li>\n",
    "<ul>\n",
    "</h1>\n",
    "</div>\n",
    "\n",
    "\n",
    "<hr style=\"height:2px\">"
   ]
  },
  {
   "cell_type": "markdown",
   "metadata": {},
   "source": [
    "# <span style=\"color:green\">Basic Concept of Tilinge</span>\n",
    "\n",
    "<br></br>\n",
    "<div style=\"text-align:justify\">\n",
    "    <h2>In a congested traffic system, significant reduction of vehicles\n",
    "can greatly improve the delay seen by all vehicles</h2>\n",
    "        <ul>\n",
    "            <h2>\n",
    "            <li>Carpooling for commuters</li>\n",
    "            <li>Tiling for global memory accesses\n",
    "                <ul>\n",
    "                    <li>drivers = threads accessing their memory data operands</li>\n",
    "                    <li>cars = memory access requests</li>\n",
    "                </ul>\n",
    "            </li>\n",
    "            </h2>\n",
    "        </ul>\n",
    "</div>\n",
    "<br></br>\n",
    "<span style=\"float:center;clear:center\">![alt tag](img/4.png)</span>\n",
    "<br></br>\n",
    "<br></br>\n",
    "<hr style=\"height:2px\">"
   ]
  },
  {
   "cell_type": "markdown",
   "metadata": {},
   "source": [
    "# <span style=\"color:green\">Some Computations are More Challenging to Tile</span>\n",
    "\n",
    "<br></br>\n",
    "<div style=\"text-align:justify\">\n",
    "        <ul>\n",
    "            <h2>\n",
    "            <li>Some carpools may be easier than others\n",
    "                <ul>\n",
    "                    <li>Car pool participants need to have similar work schedule</li>\n",
    "                    <li>Some vehicles may be more suitable for carpooling</li>\n",
    "                </ul>\n",
    "            </li>\n",
    "            <li>Similar challenges exist in tiling</li>\n",
    "            </h2>\n",
    "        </ul>\n",
    "</div>\n",
    "<br></br>\n",
    "<span style=\"float:center;clear:center\">![alt tag](img/5.png)</span>\n",
    "<br></br>\n",
    "<br></br>\n",
    "<hr style=\"height:2px\">"
   ]
  },
  {
   "cell_type": "markdown",
   "metadata": {},
   "source": [
    "# <span style=\"color:green\">Carpools need synchronization.</span>\n",
    "\n",
    "<br></br>\n",
    "<div style=\"text-align:justify\">\n",
    "        <ul>\n",
    "            <h2>\n",
    "            <li>Good: when people have similar schedule</li>\n",
    "            </h2>\n",
    "        </ul>\n",
    "</div>\n",
    "<br></br>\n",
    "<span style=\"float:center;clear:center\">![alt tag](img/6.png)</span>\n",
    "<br></br>\n",
    "<br></br>\n",
    "<hr style=\"height:2px\">"
   ]
  },
  {
   "cell_type": "markdown",
   "metadata": {},
   "source": [
    "# <span style=\"color:green\">Carpools need synchronization.</span>\n",
    "\n",
    "<br></br>\n",
    "<div style=\"text-align:justify\">\n",
    "        <ul>\n",
    "            <h2>\n",
    "            <li>Bad: when people have very different schedule</li>\n",
    "            </h2>\n",
    "        </ul>\n",
    "</div>\n",
    "<br></br>\n",
    "<span style=\"float:center;clear:center\">![alt tag](img/7.png)</span>\n",
    "<br></br>\n",
    "<br></br>\n",
    "<hr style=\"height:2px\">"
   ]
  },
  {
   "cell_type": "markdown",
   "metadata": {},
   "source": [
    "# <span style=\"color:green\">Same with Tiling.</span>\n",
    "\n",
    "<br></br>\n",
    "<div style=\"text-align:justify\">\n",
    "        <ul>\n",
    "            <h2>\n",
    "            <li>Good: when threads have similar access timing</li>\n",
    "            </h2>\n",
    "        </ul>\n",
    "</div>\n",
    "<br></br>\n",
    "<span style=\"float:center;clear:center\">![alt tag](img/8.png)</span>\n",
    "<br></br>\n",
    "<div style=\"text-align:justify\">\n",
    "        <ul>\n",
    "            <h2>\n",
    "            <li>Bad: when threads have very different timing</li>\n",
    "            </h2>\n",
    "        </ul>\n",
    "</div>\n",
    "<br></br>\n",
    "<hr style=\"height:2px\">"
   ]
  },
  {
   "cell_type": "markdown",
   "metadata": {},
   "source": [
    "# <span style=\"color:green\">Barrier Synchronization for Tiling</span>\n",
    "\n",
    "\n",
    "\n",
    "\n",
    "<span style=\"float:center;clear:center\">![alt tag](img/9.png)</span>\n",
    "\n",
    "\n",
    "<hr style=\"height:2px\">"
   ]
  },
  {
   "cell_type": "markdown",
   "metadata": {},
   "source": [
    "# <span style=\"color:green\">Carpools need synchronization.</span>\n",
    "\n",
    "<br></br>\n",
    "<div style=\"text-align:justify\">\n",
    "        <ul>\n",
    "            <h2>\n",
    "            <li>Identify a tile of global memory contents that are accessed by\n",
    "multiple threads</li>\n",
    "            <li>Load the tile from global memory into on-chip memory</li>\n",
    "            <li>Use barrier synchronization to make sure that all threads are ready\n",
    "to start the phase</li>\n",
    "            <li>Have the multiple threads to access their data from the on-chip\n",
    "memory</li>\n",
    "            <li>Use barrier synchronization to make sure that all threads have\n",
    "completed the current phase</li>\n",
    "            <li>Move on to the next tile</li>\n",
    "            </h2>\n",
    "        </ul>\n",
    "</div>\n",
    "\n",
    "<hr style=\"height:2px\">"
   ]
  },
  {
   "cell_type": "markdown",
   "metadata": {},
   "source": [
    "<footer>\n",
    "<cite> GPU NVIDIA Teaching Kit - University of Illinois </cite>\n",
    "</footer>\n",
    "<hr style=\"height:2px\">"
   ]
  }
 ],
 "metadata": {
  "kernelspec": {
   "display_name": "Python 2",
   "language": "python",
   "name": "python2"
  },
  "language_info": {
   "codemirror_mode": {
    "name": "ipython",
    "version": 2
   },
   "file_extension": ".py",
   "mimetype": "text/x-python",
   "name": "python",
   "nbconvert_exporter": "python",
   "pygments_lexer": "ipython2",
   "version": "2.7.6"
  }
 },
 "nbformat": 4,
 "nbformat_minor": 1
}
