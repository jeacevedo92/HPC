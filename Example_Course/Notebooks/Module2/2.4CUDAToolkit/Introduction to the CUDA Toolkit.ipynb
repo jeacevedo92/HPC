{
 "cells": [
  {
   "cell_type": "markdown",
   "metadata": {},
   "source": [
    "# Objective\n",
    "\n",
    "- To become familiar with some valuable tools and resources from the CUDA Toolkit\n",
    "  - Compiler flags\n",
    "  - Debuggers\n",
    "  - Profilers\n",
    "\n",
    "<hr style=\"height:2px\">"
   ]
  },
  {
   "cell_type": "markdown",
   "metadata": {},
   "source": [
    "# GPU Programming Languages\n",
    "\n",
    "![alt tag](img/3.png)\n",
    "<hr style=\"height:2px\">"
   ]
  },
  {
   "cell_type": "markdown",
   "metadata": {},
   "source": [
    "# CUDA - C\n",
    "\n",
    "![alt tag](img/4.png)\n",
    "<hr style=\"height:2px\">"
   ]
  },
  {
   "cell_type": "markdown",
   "metadata": {},
   "source": [
    "# NVCC Compiler\n",
    "\n",
    "- NVIDIA provides a CUDA-C compiler\n",
    "  - nvcc\n",
    "- NVCC compiles device code then forwards code on to the host compiler (e.g. g++)\n",
    "- Can be used to compile & link host only applications\n",
    "\n",
    "<hr style=\"height:2px\">"
   ]
  },
  {
   "cell_type": "markdown",
   "metadata": {},
   "source": [
    "# Example 1: Hello World\n",
    "\n",
    "```cpp\n",
    "\n",
    "int main() {\n",
    "  printf(\"Hello World!\\n\");\n",
    "  return 0;\n",
    "}\n",
    "\n",
    "```\n",
    "\n",
    "![alt tag](img/6.png)\n",
    "<hr style=\"height:2px\">"
   ]
  },
  {
   "cell_type": "markdown",
   "metadata": {},
   "source": [
    "# CUDA Example 1: Hello World\n",
    "\n",
    "```cpp\n",
    "\n",
    "__global__ void mykernel(void) {}\n",
    "\n",
    "int main(void) {\n",
    "  mykernel<<<1,1>>>();\n",
    "  printf(\"Hello World!\\n\");\n",
    "  return 0;\n",
    "}\n",
    "\n",
    "```\n",
    "\n",
    "![alt tag](img/7.png)\n",
    "<hr style=\"height:2px\">"
   ]
  },
  {
   "cell_type": "markdown",
   "metadata": {},
   "source": [
    "# CUDA Example 1: Build Considerations\n",
    "\n",
    "- Build failed\n",
    "  - Nvcc only parses .cu files for CUDA\n",
    "- Fixes:\n",
    "  - Rename main.cc to main.cu\n",
    "  OR\n",
    "  - Treat all input files as .cu files using: nvcc –x cu\n",
    "\n",
    "![alt tag](img/8.png)\n",
    "<hr style=\"height:2px\">"
   ]
  },
  {
   "cell_type": "markdown",
   "metadata": {},
   "source": [
    "# Hello World! with Device Code\n",
    "\n",
    "```cpp\n",
    "\n",
    "__global__ void mykernel(void) {}\n",
    "\n",
    "int main(void) {\n",
    "  mykernel<<<1,1>>>();\n",
    "  printf(\"Hello World!\\n\");\n",
    "  return 0;\n",
    "}\n",
    "\n",
    "```\n",
    "#### Output:\n",
    "\n",
    "```shell\n",
    "\n",
    "nvcc main.cu\n",
    "./a.out\n",
    "Hello World!\n",
    "\n",
    "```\n",
    "\n",
    "### mykernel(does nothing, somewhat anticlimactic!)\n",
    "\n",
    "<hr style=\"height:2px\">"
   ]
  },
  {
   "cell_type": "markdown",
   "metadata": {},
   "source": [
    "# Developer Tools - Debuggers\n",
    "\n",
    "![alt tag](img/10.png)\n",
    "\n",
    "##### https://developer.nvidia.com/debugging-solutions\n",
    "\n",
    "<hr style=\"height:2px\">"
   ]
  },
  {
   "cell_type": "markdown",
   "metadata": {},
   "source": [
    "# Compiler Flags\n",
    "\n",
    "- Remember there are two compilers being used\n",
    "  - NVCC: Device code\n",
    "  - Host Compiler: C/C++ code\n",
    "- NVCC supports some host compiler flags\n",
    "  - If flag is unsupported, use –Xcompiler to forward to host\n",
    "    - e.g. –Xcompiler –fopenmp\n",
    "- Debugging Flags\n",
    "  - -g: Include host debugging symbols\n",
    "  - -G: Include device debugging symbols\n",
    "  - -lineinfo: Include line information with symbols\n",
    "\n",
    "<hr style=\"height:2px\">"
   ]
  },
  {
   "cell_type": "markdown",
   "metadata": {},
   "source": [
    "# CUDA-MEMCHECK\n",
    "\n",
    "- Memory debugging tool\n",
    "  - No recompilation necessary: %> cuda-memcheck ./exe\n",
    "  \n",
    "  \n",
    "- Can detect the following errors\n",
    "  - Memory leaks\n",
    "  - Memory errors (OOB, misaligned access, illegal instruction, etc)\n",
    "  - Race conditions\n",
    "  - Illegal Barriers\n",
    "  - Uninitialized Memory\n",
    "  \n",
    "  \n",
    "- For line numbers use the following compiler flags:\n",
    "  - -Xcompiler -rdynamic -lineinfo\n",
    "  \n",
    "##### http://docs.nvidia.com/cuda/cuda-memcheck\n",
    "\n",
    "<hr style=\"height:2px\">"
   ]
  },
  {
   "cell_type": "markdown",
   "metadata": {},
   "source": [
    "# Example 2: CUDA-MEMCHECK\n",
    "\n",
    "- cuda-gdb is an extension of GDB\n",
    "  - Provides seamless debugging of CUDA and CPU code\n",
    "\n",
    "\n",
    "- Works on Linux and Macintosh\n",
    "  - For a Windows debugger use NSIGHT Visual Studio Edition\n",
    "\n",
    "##### http://docs.nvidia.com/cuda/cuda-gdb\n",
    "\n",
    "<hr style=\"height:2px\">"
   ]
  },
  {
   "cell_type": "markdown",
   "metadata": {},
   "source": [
    "# Example 3: cuda-gdb\n",
    "\n",
    "![alt tag](img/15.png)\n",
    "<hr style=\"height:2px\">"
   ]
  },
  {
   "cell_type": "markdown",
   "metadata": {},
   "source": [
    "# Developer Tools - Profilers\n",
    "\n",
    "![alt tag](img/16.png)\n",
    "\n",
    "##### https://developer.nvidia.com/performance-analysis-tools\n",
    "\n",
    "<hr style=\"height:2px\">"
   ]
  },
  {
   "cell_type": "markdown",
   "metadata": {},
   "source": [
    "# NVPROF\n",
    "\n",
    "Command Line Profiler:\n",
    "\n",
    "- Compute time in each kernel\n",
    "- Compute memory transfer time\n",
    "- Collect metrics and events\n",
    "- Support complex process hierarchy's\n",
    "- Collect profiles for NVIDIA Visual Profiler\n",
    "- No need to recompile\n",
    "\n",
    "<hr style=\"height:2px\">"
   ]
  },
  {
   "cell_type": "markdown",
   "metadata": {},
   "source": [
    "# Example 4: nvprof\n",
    "\n",
    "![alt tag](img/18.png)\n",
    "<hr style=\"height:2px\">"
   ]
  },
  {
   "cell_type": "markdown",
   "metadata": {},
   "source": [
    "# NVIDIA’s Visual Profiler (NVVP)\n",
    "\n",
    "![alt tag](img/19.png)\n",
    "<hr style=\"height:2px\">"
   ]
  },
  {
   "cell_type": "markdown",
   "metadata": {},
   "source": [
    "# Example 4: NVVP\n",
    "\n",
    "![alt tag](img/20.png)\n",
    "\n",
    "![alt tag](img/21.png)\n",
    "\n",
    "###### Note:\n",
    "- If kernel order is non-deterministic you can only load the timeline or the metrics but not both.\n",
    "- If you load just metrics the timeline looks odd but metrics are correct.\n",
    "\n",
    "### Let’s now generate the same data within NVVP\n",
    "\n",
    "![alt tag](img/22.png)\n",
    "\n",
    "<hr style=\"height:2px\">"
   ]
  },
  {
   "cell_type": "markdown",
   "metadata": {},
   "source": [
    "# NVTX\n",
    "\n",
    "- Our current tools only profile API calls on the host\n",
    "  - What if we want to understand better what the host is doing?\n",
    "\n",
    "\n",
    "- The NVTX library allows us to annotate profiles with ranges\n",
    "  - Add: #include <nvToolsExt.h>\n",
    "  - Link with: -lnvToolsExt\n",
    "\n",
    "\n",
    "- Mark the start of a range\n",
    "  - nvtxRangePushA(“description”);\n",
    "\n",
    "\n",
    "- Mark the end of a range\n",
    "  - nvtxRangePop();\n",
    "\n",
    "\n",
    "- Ranges are allowed to overlap \n",
    "\n",
    "##### http://devblogs.nvidia.com/parallelforall/cuda-pro-tip-generate-custom-application-profile-timelines-nvtx/\n",
    "<hr style=\"height:2px\">"
   ]
  },
  {
   "cell_type": "markdown",
   "metadata": {},
   "source": [
    "# NVTX Profile\n",
    "\n",
    "![alt tag](img/24.png)\n",
    "<hr style=\"height:2px\">"
   ]
  },
  {
   "cell_type": "markdown",
   "metadata": {},
   "source": [
    "# NSIGHT\n",
    "\n",
    "- CUDA enabled Integrated Development Environment\n",
    "  - Source code editor: syntax highlighting, code refactoring, etc\n",
    "  - Build Manger\n",
    "  - Visual Debugger\n",
    "  - Visual Profiler\n",
    "\n",
    "\n",
    "- Linux/Macintosh\n",
    "  - Editor = Eclipse\n",
    "  - Debugger = cuda-gdb with a visual wrapper\n",
    "  - Profiler = NVVP\n",
    "\n",
    "\n",
    "- Windows\n",
    "  - Integrates directly into Visual Studio\n",
    "  - Profiler is NSIGHT VSE\n",
    "\n",
    "<hr style=\"height:2px\">"
   ]
  },
  {
   "cell_type": "markdown",
   "metadata": {},
   "source": [
    "# Example 4: NSIGHT\n",
    "\n",
    "![alt tag](img/26.png)\n",
    "<hr style=\"height:2px\">"
   ]
  },
  {
   "cell_type": "markdown",
   "metadata": {},
   "source": [
    "# Profiler Summary\n",
    "\n",
    "- Many profile tools are available\n",
    "\n",
    "\n",
    "- NVIDIA Provided\n",
    "  - NVPROF: Command Line\n",
    "  - NVVP: Visual profiler\n",
    "  - NSIGHT: IDE (Visual Studio and Eclipse)\n",
    "  \n",
    "\n",
    "- 3rd Party\n",
    "  - TAU\n",
    "  - VAMPIR\n",
    "  \n",
    "\n",
    "<hr style=\"height:2px\">"
   ]
  },
  {
   "cell_type": "markdown",
   "metadata": {},
   "source": [
    "# Optimization\n",
    "\n",
    "![alt tag](img/28.png)\n",
    "<hr style=\"height:2px\">"
   ]
  },
  {
   "cell_type": "markdown",
   "metadata": {},
   "source": [
    "# Assess\n",
    "\n",
    "![alt tag](img/29.png)\n",
    "\n",
    "- Profile the code, find the hotspot(s)\n",
    "- Focus your attention where it will give the most benefit\n",
    "\n",
    "<hr style=\"height:2px\">"
   ]
  },
  {
   "cell_type": "markdown",
   "metadata": {},
   "source": [
    "# Parallelize\n",
    "\n",
    "![alt tag](img/30.png)\n",
    "<hr style=\"height:2px\">"
   ]
  },
  {
   "cell_type": "markdown",
   "metadata": {},
   "source": [
    "# Optimize\n",
    "\n",
    "![alt tag](img/31.png)\n",
    "<hr style=\"height:2px\">"
   ]
  },
  {
   "cell_type": "markdown",
   "metadata": {},
   "source": [
    "# Bottleneck Analysis\n",
    "\n",
    "![alt tag](img/32.png)\n",
    "<hr style=\"height:2px\">"
   ]
  },
  {
   "cell_type": "markdown",
   "metadata": {},
   "source": [
    "# Performance Analysis\n",
    "\n",
    "![alt tag](img/33.png)\n",
    "<hr style=\"height:2px\">"
   ]
  },
  {
   "cell_type": "markdown",
   "metadata": {},
   "source": [
    "<footer>\n",
    "<cite> GPU NVIDIA Teaching Kit - University of Illinois </cite>\n",
    "</footer>"
   ]
  }
 ],
 "metadata": {
  "kernelspec": {
   "display_name": "Python 2",
   "language": "python",
   "name": "python2"
  },
  "language_info": {
   "codemirror_mode": {
    "name": "ipython",
    "version": 2
   },
   "file_extension": ".py",
   "mimetype": "text/x-python",
   "name": "python",
   "nbconvert_exporter": "python",
   "pygments_lexer": "ipython2",
   "version": "2.7.6"
  }
 },
 "nbformat": 4,
 "nbformat_minor": 1
}
