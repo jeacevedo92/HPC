{
 "cells": [
  {
   "cell_type": "markdown",
   "metadata": {},
   "source": [
    "# <span style=\"color:green\"> To learn more about parallel scan </span>\n",
    "\n",
    "- To learn more about parallel scan\n",
    "    - Analysis of the work efficient kernel\n",
    "    - Exclusive scan\n",
    "    - Handling very large input vectors\n",
    "\n",
    "\n",
    "<hr style=\"height:2px\">"
   ]
  },
  {
   "cell_type": "markdown",
   "metadata": {},
   "source": [
    "# <span style=\"color:green\"> Work Analysis of the Work Efficient Kernel </span>\n",
    "\n",
    "- The work efficient kernel executes log(n) parallel iterations in the reduction step\n",
    "    - The iterations do n/2, n/4,..1 adds\n",
    "    - Total adds: (n-1) -> O(n) work\n",
    "\n",
    "- It executes log(n)-1 parallel iterations in the post-reduction reverse step\n",
    "    - The iterations do 2-1, 4-1, .... n/2-1 adds\n",
    "    - Total adds: (n-2) – (log(n)-1) -> O(n) work\n",
    "\n",
    "- Both phases perform up to no more than 2x(n-1) adds\n",
    "- The total number of adds is no more than twice of that done in the efficient sequential algorithm\n",
    "    - The benefit of parallelism can easily overcome the 2X work when there is sufficient hardware\n",
    "\n",
    "\n",
    "![alt tag](img/3.png)\n",
    "<hr style=\"height:2px\">"
   ]
  },
  {
   "cell_type": "markdown",
   "metadata": {},
   "source": [
    "# <span style=\"color:green\"> Some Tradeoffs </span>\n",
    "\n",
    "- The work efficient scan kernel is normally more desirable\n",
    "    - Better Energy efficiency\n",
    "    - Less execution resource requirement\n",
    "- However, the work inefficient kernel could be better for absolute performance due to its single-phase nature (forward phase only)\n",
    "    - There is sufficient execution resource\n",
    "\n",
    "<hr style=\"height:2px\">"
   ]
  },
  {
   "cell_type": "markdown",
   "metadata": {},
   "source": [
    "# <span style=\"color:green\"> Handling Large Input Vectors </span>\n",
    "\n",
    "- Build on the work efficient scan kernel\n",
    "- Have each section of 2*blockDim.x elements assigned to a block\n",
    "    - Perform parallel scan on each section\n",
    "- Have each block write the sum of its section into a Sum[] array indexed by blockIdx.x\n",
    "- Run the scan kernel on the Sum[] array\n",
    "- Add the scanned Sum[] array values to all the elements of corresponding sections\n",
    "- Adaptation of work inefficient kernel is similar\n",
    "\n",
    "<hr style=\"height:2px\">"
   ]
  },
  {
   "cell_type": "markdown",
   "metadata": {},
   "source": [
    "# <span style=\"color:green\"> Overall Flow of Complete Scan </span>\n",
    "\n",
    "![alt tag](img/6.png)\n",
    "<hr style=\"height:2px\">"
   ]
  },
  {
   "cell_type": "markdown",
   "metadata": {},
   "source": [
    "# <span style=\"color:green\"> Exclusive Scan Definition </span>\n",
    "\n",
    "![alt tag](img/7.png)\n",
    "<hr style=\"height:2px\">"
   ]
  },
  {
   "cell_type": "markdown",
   "metadata": {},
   "source": [
    "# <span style=\"color:green\"> Why Use Exclusive Scan? </span>\n",
    "\n",
    "- To find the beginning address of allocated buffers\n",
    "- Inclusive and exclusive scans can be easily derived from each other; it is a matter of convenience\n",
    "\n",
    "![alt tag](img/8.png)\n",
    "<hr style=\"height:2px\">"
   ]
  },
  {
   "cell_type": "markdown",
   "metadata": {},
   "source": [
    "# <span style=\"color:green\"> A Simple Exclusive Scan Kernel </span>\n",
    "\n",
    "- Adapt an inclusive, work inefficient scan kernel\n",
    "- Block 0:\n",
    "    - Thread 0 loads 0 into XY[0]\n",
    "    - Other threads load X[threadIdx.x-1] into XY[threadIdx.x]\n",
    "- All other blocks:\n",
    "    - All thread load X[blockIdx.x*blockDim.x+threadIdx.x-1] into XY[threadIdex.x]\n",
    "- Similar adaption for work efficient scan kernel but ensure that each thread loads two elements\n",
    "    - Only one zero should be loaded\n",
    "    - All elements should be shifted to the right by only one position\n",
    "\n",
    "__Read the Harris article (Parallel Prefix Sum with CUDA) for a more intellectually interesting approach to exclusive scan kernel implementation.__\n",
    "\n",
    "<hr style=\"height:2px\">"
   ]
  },
  {
   "cell_type": "markdown",
   "metadata": {},
   "source": [
    "<footer>\n",
    "<cite> GPU NVIDIA Teaching Kit - University of Illinois </cite>\n",
    "</footer>"
   ]
  }
 ],
 "metadata": {
  "kernelspec": {
   "display_name": "Python 3",
   "language": "python",
   "name": "python3"
  },
  "language_info": {
   "codemirror_mode": {
    "name": "ipython",
    "version": 3
   },
   "file_extension": ".py",
   "mimetype": "text/x-python",
   "name": "python",
   "nbconvert_exporter": "python",
   "pygments_lexer": "ipython3",
   "version": "3.5.2"
  }
 },
 "nbformat": 4,
 "nbformat_minor": 1
}
