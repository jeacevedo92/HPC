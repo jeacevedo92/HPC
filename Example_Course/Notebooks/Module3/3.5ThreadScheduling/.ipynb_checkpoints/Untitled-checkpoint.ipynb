{
 "cells": [
  {
   "cell_type": "markdown",
   "metadata": {},
   "source": [
    "# <span style=\"color:green\">Objective</span>\n",
    "<h2>\n",
    "To learn how a CUDA kernel utilizes hardware execution resources\n",
    "<ul>\n",
    "<li> Assigning thread blocks to execution resources </li>\n",
    "<li> Capacity constrains of execution resources</li>\n",
    "<li> Zero-overhead thread scheduling</li>\n",
    "</ul>\n",
    "</h2>\n",
    "<hr style=\"height:2px\">"
   ]
  },
  {
   "cell_type": "markdown",
   "metadata": {},
   "source": [
    "# <span style=\"color:green\">Transparent Scalability</span>\n",
    "\n",
    "\n",
    "\n",
    "\n",
    "<span style=\"float:center;clear:center\">![alt tag](img/1.png)</span>\n",
    "<div style =\"text-align:justify\">\n",
    "<h1>\n",
    "<ul>\n",
    "    <li>Each block can execute in any order relative to others.</li>\n",
    "    <li> Hardware is free to assign blocks to any processor at any time\n",
    "        <ul>\n",
    "            <li>A kernel scales to any number of parallel processors</li>\n",
    "        </ul>\n",
    "     </li>\n",
    "<ul>\n",
    "</h1>\n",
    "</div>\n",
    "\n",
    "\n",
    "<hr style=\"height:2px\">"
   ]
  },
  {
   "cell_type": "markdown",
   "metadata": {},
   "source": [
    "# <span style=\"color:green\">Example: Executing Thread Blocks</span>\n",
    "\n",
    "\n",
    "\n",
    "\n",
    "<span style=\"float:right;clear:right\">![alt tag](img/2.png)</span>\n",
    "<br></br>\n",
    "<br></br>\n",
    "<div style =\"text-align:justify\">\n",
    "<h1>\n",
    "<ul>\n",
    "    <li>Threads are assigned to <span style=\"color:orange\">Streaming\n",
    "Multiprocessors (SM)</span> in block granularity.\n",
    "        <ul>\n",
    "            <li>Up to <strong>8<strong> blocks to each SM as resource allows.</li>\n",
    "            <li>Fermi SM can take up to <strong>1536</strong> threads.\n",
    "                <ul>\n",
    "                    <li>Could be 256 (threads/block) * 6 blocks</li>\n",
    "                    <li>Or 512 (threads/block) * 3 blocks, etc.</li>\n",
    "                </ul>\n",
    "            </li>\n",
    "        </ul>\n",
    "    </li>\n",
    "    <li>SM maintains thread/block idx #s</li>\n",
    "    <li>SM manages/schedules thread execution</li>\n",
    "<ul>\n",
    "</h1>\n",
    "</div>\n",
    "\n",
    "<br></br>\n",
    "<br></br>\n",
    "<br></br>\n",
    "\n",
    "<hr style=\"height:2px\">"
   ]
  },
  {
   "cell_type": "markdown",
   "metadata": {},
   "source": [
    "# <span style=\"color:green\">The Von-Neumann Model</span>\n",
    "\n",
    "\n",
    "\n",
    "\n",
    "<span style=\"float:center;clear:center\">![alt tag](img/3.png)</span>\n",
    "\n",
    "\n",
    "\n",
    "<hr style=\"height:2px\">"
   ]
  },
  {
   "cell_type": "markdown",
   "metadata": {},
   "source": [
    "# <span style=\"color:green\">The Von-Neumann Model with SIMD units</span>\n",
    "\n",
    "\n",
    "\n",
    "\n",
    "<span style=\"float:center;clear:center\">![alt tag](img/4.png)</span>\n",
    "\n",
    "\n",
    "\n",
    "<hr style=\"height:2px\">"
   ]
  },
  {
   "cell_type": "markdown",
   "metadata": {},
   "source": [
    "# <span style=\"color:green\">Warps as Scheduling Units</span>\n",
    "<br></br>\n",
    "<div style=\"text-align:justify\">\n",
    "    <h2>\n",
    "        <ul>\n",
    "            <li>Each Block is executed as 32-thread Warps.\n",
    "                <ul>\n",
    "                    <li>An implementation decision, not part of the\n",
    "CUDA programming model.</li>\n",
    "                    <li>Warps are scheduling units in SM</li>\n",
    "                    <li>Threads in a warp execute in SIMD</li>\n",
    "                    <li>Future GPUs may have different number of\n",
    "threads in each warp</li>\n",
    "                </ul>\n",
    "            </li>\n",
    "        </ul>\n",
    "    </h2>\n",
    "</div>\n",
    "\n",
    "<hr style=\"height:2px\">"
   ]
  },
  {
   "cell_type": "markdown",
   "metadata": {},
   "source": [
    "# <span style=\"color:green\">Warp Example</span>\n",
    "\n",
    "<br></br>\n",
    "<div style=\"text-align:justify\">\n",
    "    <h2>If 3 blocks are assigned to an SM and each block has 256 threads,\n",
    "how many Warps are there in an SM?</h2>\n",
    "        <ul>\n",
    "            <h3>\n",
    "            <li>Each Block is divided into 256/32 = 8 Warps</li>\n",
    "            <li>There are 8 * 3 = 24 Warps</li>\n",
    "            </h3>\n",
    "        </ul>\n",
    "</div>\n",
    "<br></br>\n",
    "<span style=\"float:center;clear:center\">![alt tag](img/5.png)</span>\n",
    "<br></br>\n",
    "<br></br>\n",
    "<hr style=\"height:2px\">"
   ]
  },
  {
   "cell_type": "markdown",
   "metadata": {},
   "source": [
    "# <span style=\"color:green\">Example: Thread Scheduling (Cont.)</span>\n",
    "<br></br>\n",
    "<div style=\"text-align:justify\">\n",
    "    <h2>\n",
    "        <ul>\n",
    "            <li>SM implements zero-overhead warp scheduling.\n",
    "                <ul>\n",
    "                    <li>Warps whose next instruction has its operands ready for consumption are eligible\n",
    "for execution.</li>\n",
    "                    <li>Eligible Warps are selected for execution based on a prioritized scheduling policy.</li>\n",
    "                    <li>All threads in a warp execute the same instruction when selected</li>\n",
    "                </ul>\n",
    "            </li>\n",
    "        </ul>\n",
    "    </h2>\n",
    "</div>\n",
    "\n",
    "<hr style=\"height:2px\">"
   ]
  },
  {
   "cell_type": "markdown",
   "metadata": {},
   "source": [
    "# <span style=\"color:green\">Block Granularity Considerations</span>\n",
    "<br></br>\n",
    "<div style=\"text-align:justify\">\n",
    "    <h2>\n",
    "        <ul>\n",
    "            <li>For Matrix Multiplication using multiple blocks, should I use 8X8, 16X16 or 32X32 blocks for Fermi?\n",
    "                <ul>\n",
    "                    <li>For <span style=\"color:blue\">8X8</span>, we have <span style=\"color:blue\">64 threads</span> per Block. Since each SM\n",
    "can take up to <span style=\"color:blue\">1536 threads</span>, which translates to <span style=\"color:blue\">24\n",
    "Blocks</span>. However, each SM can only take up to <span style=\"color:blue\">8 Blocks</span>,\n",
    "only <span style=\"color:blue\">512 threads</span> will go into each SM!</li>\n",
    "                    <li>For <span style=\"color:blue\">16X16</span>, we have <span style=\"color:blue\">256 threads</span> per Block. Since each\n",
    "SM can take up to <span style=\"color:blue\">1536 threads</span>, it can take up to <span style=\"color:blue\">6\n",
    "Blocks</span> and achieve full capacity unless other resource\n",
    "considerations overrule.</li>\n",
    "                    <li>For <span style=\"color:blue\">32X32</span>, we would have <span style=\"color:blue\">1024 threads</span> per Block. Only\n",
    "one block can fit into an SM for Fermi. Using only <span style=\"color:blue\">2/3 of\n",
    "the thread capacity</span> of an SM.</li>\n",
    "                </ul>\n",
    "            </li>\n",
    "        </ul>\n",
    "    </h2>\n",
    "</div>\n",
    "\n",
    "<hr style=\"height:2px\">"
   ]
  }
 ],
 "metadata": {
  "kernelspec": {
   "display_name": "Python 2",
   "language": "python",
   "name": "python2"
  },
  "language_info": {
   "codemirror_mode": {
    "name": "ipython",
    "version": 2
   },
   "file_extension": ".py",
   "mimetype": "text/x-python",
   "name": "python",
   "nbconvert_exporter": "python",
   "pygments_lexer": "ipython2",
   "version": "2.7.6"
  }
 },
 "nbformat": 4,
 "nbformat_minor": 1
}
