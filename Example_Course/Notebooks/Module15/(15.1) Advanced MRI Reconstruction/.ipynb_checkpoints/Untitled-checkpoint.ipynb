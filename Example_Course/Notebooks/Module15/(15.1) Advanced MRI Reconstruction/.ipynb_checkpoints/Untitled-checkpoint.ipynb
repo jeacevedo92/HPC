{
 "cells": [
  {
   "cell_type": "markdown",
   "metadata": {},
   "source": [
    "# <span style=\"color:green\">Objective</span>\n",
    "<div style=\"text-align:justify;font-size:20px\">\n",
    "<body>\n",
    "To learn how to apply parallel programming techniques to an\n",
    "application\n",
    "<ul>\n",
    "<li>Determining parallelism structure</li>\n",
    "<li>Loop transformations</li>\n",
    "<li>Memory layout considerations</li>\n",
    "<li>Validation</li>\n",
    "</ul>\n",
    "</body>\n",
    "</div>\n",
    "<hr style=\"height:2px\">"
   ]
  },
  {
   "cell_type": "markdown",
   "metadata": {},
   "source": [
    "# <span style=\"color:green\">Non-Cartiesian MRI Scan</span>\n",
    "\n",
    "\n",
    "<br></br>\n",
    "<div style=\"text-align:justify\">\n",
    "\n",
    "        <br></br>\n",
    "        <span style=\"float:center;clear:center\">![alt tag](img/1.png)</span>\n",
    "\n",
    "</div>\n",
    "\n",
    "<hr style=\"height:2px\">"
   ]
  },
  {
   "cell_type": "markdown",
   "metadata": {},
   "source": [
    "# <span style=\"color:green\">Non-Cartesian Scan</span>\n",
    "\n",
    "\n",
    "<br></br>\n",
    "<div style=\"text-align:justify\">\n",
    "\n",
    "        <br></br>\n",
    "        <span style=\"float:center;clear:center\">![alt tag](img/2.png)</span>\n",
    "\n",
    "</div>\n",
    "\n",
    "<hr style=\"height:2px\">"
   ]
  },
  {
   "cell_type": "markdown",
   "metadata": {},
   "source": [
    "# <span style=\"color:green\">An Iterative Solver Based Approach to Image Reconstruction</span>\n",
    "\n",
    "\n",
    "<br></br>\n",
    "<div style=\"text-align:justify\">\n",
    "\n",
    "        <br></br>\n",
    "        <span style=\"float:center;clear:center\">![alt tag](img/3.png)</span>\n",
    "\n",
    "</div>\n",
    "\n",
    "<hr style=\"height:2px\">"
   ]
  },
  {
   "cell_type": "markdown",
   "metadata": {},
   "source": [
    "# <span style=\"color:green\">Computation of Q and FHD</span>\n",
    "\n",
    "\n",
    "<br></br>\n",
    "<div style=\"text-align:justify\">\n",
    "\n",
    "        <br></br>\n",
    "        <span style=\"float:center;clear:center\">![alt tag](img/4.png)</span>\n",
    "\n",
    "</div>\n",
    "\n",
    "<hr style=\"height:2px\">"
   ]
  },
  {
   "cell_type": "markdown",
   "metadata": {},
   "source": [
    "# <span style=\"color:green\">First Version of the FHD Kernel.</span>\n",
    "\n",
    "\n",
    "<br></br>\n",
    "<div style=\"text-align:justify\">\n",
    "\n",
    "        <br></br>\n",
    "        <span style=\"float:center;clear:center\">![alt tag](img/5.png)</span>\n",
    "\n",
    "</div>\n",
    "\n",
    "<hr style=\"height:2px\">"
   ]
  }
 ],
 "metadata": {
  "kernelspec": {
   "display_name": "Python 2",
   "language": "python",
   "name": "python2"
  },
  "language_info": {
   "codemirror_mode": {
    "name": "ipython",
    "version": 2
   },
   "file_extension": ".py",
   "mimetype": "text/x-python",
   "name": "python",
   "nbconvert_exporter": "python",
   "pygments_lexer": "ipython2",
   "version": "2.7.6"
  }
 },
 "nbformat": 4,
 "nbformat_minor": 1
}
