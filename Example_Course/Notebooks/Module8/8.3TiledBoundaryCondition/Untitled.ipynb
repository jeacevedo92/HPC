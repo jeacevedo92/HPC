{
 "cells": [
  {
   "cell_type": "markdown",
   "metadata": {},
   "source": [
    "# <span style=\"color:green\"> Objective </span>\n",
    "\n",
    "- To learn to write a 2D convolution kernel\n",
    "  - 2D Image data types and API functions\n",
    "  - Using constant caching\n",
    "  - Input tiles vs. output tiles in 2D\n",
    "  - Thread to data index mapping\n",
    "  - Handling boundary conditions\n",
    "\n",
    "<hr style=\"height:2px\">"
   ]
  },
  {
   "cell_type": "markdown",
   "metadata": {},
   "source": [
    "# <span style=\"color:green\"> Corner Turning </span>\n",
    "\n",
    "- It is sometimes desirable to pad each row of a 2D matrix to multiples of DRAM bursts\n",
    "\n",
    "    - So each row starts at the DRAM burst boundary\n",
    "    - Effectively adding columns\n",
    "    - This is usually done automatically by matrix allocation function\n",
    "    - Pitch can be different for different hardware\n",
    "\n",
    "\n",
    "- Example: a 3X3 matrix padded into a 3X4 matrix\n",
    "    - Height is 3\n",
    "    - Width is 3\n",
    "    - Channels is 1 (See MP Description)\n",
    "    - Pitch is 4\n",
    "\n",
    "![alt tag](img/3.png)\n",
    "<hr style=\"height:2px\">"
   ]
  },
  {
   "cell_type": "markdown",
   "metadata": {},
   "source": [
    "# <span style=\"color:green\"> Row-Major Layout with Pitch </span>\n",
    "\n",
    "```cpp\n",
    "// Image Matrix Structure declaration\n",
    "//\n",
    "typedef struct {\n",
    "int width;\n",
    "int height;\n",
    "int pitch;\n",
    "int channels;\n",
    "float* data;\n",
    "} * wbImage_t;\n",
    "\n",
    "```\n",
    "\n",
    "#### This type will only be used in the host code of the MP\n",
    "\n",
    "<hr style=\"height:2px\">"
   ]
  },
  {
   "cell_type": "markdown",
   "metadata": {},
   "source": [
    "# <span style=\"color:green\"> wbImage_t API Function for Your Lab </span>\n",
    "\n",
    "```cpp\n",
    "\n",
    "wbImage_t wbImage_new(int height, int width, int channels)\n",
    "wbImage_t wbImport(char * File);\n",
    "\n",
    "void wbImage_delete(wbImage_t img)\n",
    "\n",
    "int wbImage_getWidth(wbImage_t img)\n",
    "int wbImage_getHeight(wbImage_t img)\n",
    "int wbImage_getChannels(wbImage_t img)\n",
    "int wbImage_getPitch(wbImage_t img)\n",
    "\n",
    "float *wbImage_getData(wbImage_t img)\n",
    "\n",
    "```\n",
    "\n",
    "For simplicity, the pitch of all matrices are set to be\n",
    "width * channels (no padding) for our labs.\n",
    "The use of all API functions has been done in the provided host code.\n",
    "\n",
    "<hr style=\"height:2px\">"
   ]
  },
  {
   "cell_type": "markdown",
   "metadata": {},
   "source": [
    "# <span style=\"color:green\"> Setting Block Size </span>\n",
    "\n",
    "```cpp\n",
    "\n",
    "#define O_TILE_WIDTH 12\n",
    "#define BLOCK_WIDTH (O_TILE_WIDTH + 4)\n",
    "dim3 dimBlock(BLOCK_WIDTH,BLOCK_WIDTH);\n",
    "dim3 dimGrid((wbImage_getWidth(N)-1)/O_TILE_WIDTH+1,(wbImage_getHeight(N)-1)/O_TILE_WIDTH+1, 1)\n",
    "\n",
    "```\n",
    "<hr style=\"height:2px\">"
   ]
  },
  {
   "cell_type": "markdown",
   "metadata": {},
   "source": [
    "# <span style=\"color:green\"> Using constant memory and caching for Mask </span>\n",
    "\n",
    "- Mask is used by all threads but not modified in the convolution kernel\n",
    "    - All threads in a warp access the same locations at each point in time\n",
    "- CUDA devices provide constant memory whose contents are aggressively cached\n",
    "    - Cached values are broadcast to all threads in a warp\n",
    "    - Effectively magnifies memory bandwidth without consuming shared memory\n",
    "- Use of const ```__restrict__``` qualifiers for the mask parameter informs the compiler that it is eligible for  constant caching, for example:\n",
    "\n",
    "```cpp\n",
    "__global__ void convolution_2D_kernel(float *P,\n",
    "float *N, height, width, channels, const float __restrict__ *M) {\n",
    "\n",
    "```\n",
    "\n",
    "<hr style=\"height:2px\">"
   ]
  },
  {
   "cell_type": "markdown",
   "metadata": {},
   "source": [
    "# <span style=\"color:green\"> Shifting from output coordinates to input coordinate </span>\n",
    "\n",
    "```cpp\n",
    "\n",
    "int tx = threadIdx.x;\n",
    "int ty = threadIdx.y;\n",
    "int row_o = blockIdx.y*O_TILE_WIDTH + ty;\n",
    "int col_o = .x*O_TILE_WIDTH + tx;\n",
    "int row_i = row_o - 2;\n",
    "int col_i = col_o - 2;\n",
    "\n",
    "```\n",
    "![alt tag](img/9.png)\n",
    "<hr style=\"height:2px\">"
   ]
  },
  {
   "cell_type": "markdown",
   "metadata": {},
   "source": [
    "# <span style=\"color:green\"> Taking Care of Boundaries (1 channel example) </span>\n",
    "\n",
    "![alt tag](img/10.png)\n",
    "<hr style=\"height:2px\">"
   ]
  },
  {
   "cell_type": "markdown",
   "metadata": {},
   "source": [
    "# <span style=\"color:green\"> Some threads do not participate in calculating output. (1 channel example) </span>\n",
    "\n",
    "```cpp\n",
    "float output = 0.0f;\n",
    "if(ty < O_TILE_WIDTH && tx < O_TILE_WIDTH){\n",
    "    for(i = 0; i < MASK_WIDTH; i++) {\n",
    "        for(j = 0; j < MASK_WIDTH; j++) {\n",
    "            output += M[i][j] * Ns[i+ty][j+tx];\n",
    "        }\n",
    "    }\n",
    "}\n",
    "```\n",
    "<hr style=\"height:2px\">"
   ]
  },
  {
   "cell_type": "markdown",
   "metadata": {},
   "source": [
    "# <span style=\"color:green\"> Some threads do not write output (1 channel example) </span>\n",
    "\n",
    "```cpp\n",
    "if(row_o < height && col_o < width)\n",
    "data[row_o*width + col_o] = output;\n",
    "```\n",
    "<hr style=\"height:2px\">"
   ]
  },
  {
   "cell_type": "markdown",
   "metadata": {},
   "source": [
    "<footer>\n",
    "<cite> GPU NVIDIA Teaching Kit - University of Illinois </cite>\n",
    "</footer>"
   ]
  }
 ],
 "metadata": {
  "kernelspec": {
   "display_name": "Python 3",
   "language": "python",
   "name": "python3"
  },
  "language_info": {
   "codemirror_mode": {
    "name": "ipython",
    "version": 3
   },
   "file_extension": ".py",
   "mimetype": "text/x-python",
   "name": "python",
   "nbconvert_exporter": "python",
   "pygments_lexer": "ipython3",
   "version": "3.5.2"
  }
 },
 "nbformat": 4,
 "nbformat_minor": 1
}
