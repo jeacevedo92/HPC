{
 "cells": [
  {
   "cell_type": "markdown",
   "metadata": {},
   "source": [
    "# <span style=\"color:green\"> Objective </span>\n",
    "\n",
    "- To learn about tiled convolution algorithms\n",
    "    - Some intricate aspects of tiling algorithms\n",
    "    - Output tiles versus input tiles\n",
    "\n",
    "<hr style=\"height:2px\">"
   ]
  },
  {
   "cell_type": "markdown",
   "metadata": {},
   "source": [
    "# <span style=\"color:green\"> Tiling Opportunity Convolution </span>\n",
    "\n",
    "- Calculation of adjacent output elements involve shared input elements\n",
    "    - E.g., N[2] is used in calculation of P[0], P[1], P[2]. P[3 and P[5] assuming a 1D convolution Mask_Width of width 5\n",
    "- We can load all the input elements required by all threads in a block into the shared memory to reduce global memory accesses\n",
    "\n",
    "![alt tag](img/3.png)\n",
    "<hr style=\"height:2px\">"
   ]
  },
  {
   "cell_type": "markdown",
   "metadata": {},
   "source": [
    "# <span style=\"color:green\"> Input Data Needs </span>\n",
    "\n",
    "- Assume that we want to have each block to calculate T output elements\n",
    "    - T + Mask_Width -1 input elements are needed to calculate T output elements\n",
    "    - T + Mask_Width -1 is usually not a multiple of T, except for small T values\n",
    "    - T is usually significantly larger than Mask_Width\n",
    "\n",
    "![alt tag](img/4.png)\n",
    "<hr style=\"height:2px\">"
   ]
  },
  {
   "cell_type": "markdown",
   "metadata": {},
   "source": [
    "# <span style=\"color:green\"> Definition – Output tile </span>\n",
    "\n",
    "![alt tag](img/5.png)\n",
    "\n",
    "### Each thread block calculates an output tile\n",
    "### Each output tile width is O_TILE_WIDTH\n",
    "### For each thread,\n",
    "### O_TILE_WIDTH is 4 in this example\n",
    "\n",
    "<hr style=\"height:2px\">"
   ]
  },
  {
   "cell_type": "markdown",
   "metadata": {},
   "source": [
    "# <span style=\"color:green\"> Definition - Input Tiles </span>\n",
    "\n",
    "![alt tag](img/6.png)\n",
    "\n",
    "### Each input tile has all values needed to calculate the corresponding output tile.\n",
    "\n",
    "<hr style=\"height:2px\">"
   ]
  },
  {
   "cell_type": "markdown",
   "metadata": {},
   "source": [
    "# <span style=\"color:green\"> Two Design Options </span>\n",
    "\n",
    "- Design 1: The size of each thread block matches the size of an output tile\n",
    "    - All threads participate in calculating output elements\n",
    "    - blockDim.x would be 4 in our example\n",
    "    - Some threads need to load more than one input element into the shared memory\n",
    "- Design 2: The size of each thread block matches the size of an input tile\n",
    "    - Some threads will not participate in calculating output elements\n",
    "    - blockDim.x would be 8 in our example\n",
    "    - Each thread loads one input element into the shared memory\n",
    "    \n",
    "#### We will present Design 2 and leave Design 1 as an exercise.\n",
    "<hr style=\"height:2px\">"
   ]
  },
  {
   "cell_type": "markdown",
   "metadata": {},
   "source": [
    "# <span style=\"color:green\"> Thread to Input and Output Data Mapping </span>\n",
    "\n",
    "![alt tag](img/8.png)\n",
    "<hr style=\"height:2px\">"
   ]
  },
  {
   "cell_type": "markdown",
   "metadata": {},
   "source": [
    "# <span style=\"color:green\"> All Threads Participate in Loading Input Tiles </span>\n",
    "\n",
    "![alt tag](img/9.png)\n",
    "\n",
    "<hr style=\"height:2px\">"
   ]
  },
  {
   "cell_type": "markdown",
   "metadata": {},
   "source": [
    "# <span style=\"color:green\"> Some threads do not participate in calculating output </span>\n",
    "\n",
    "![alt tag](img/10.png)\n",
    "\n",
    "- #### index_o = blockIdx.x*O_TILE_WIDTH + threadIdx.x\n",
    "- #### Only Threads 0 through O_TILE_WIDTH-1 participate in calculation of output.\n",
    "\n",
    "<hr style=\"height:2px\">"
   ]
  },
  {
   "cell_type": "markdown",
   "metadata": {},
   "source": [
    "# <span style=\"color:green\"> Setting Block Size </span>\n",
    "\n",
    "![alt tag](img/11.png)\n",
    "<hr style=\"height:2px\">"
   ]
  },
  {
   "cell_type": "markdown",
   "metadata": {},
   "source": [
    "# <span style=\"color:green\"> Shared Memory Data Reuse </span>\n",
    "\n",
    "![alt tag](img/11.png)\n",
    "<hr style=\"height:2px\">"
   ]
  },
  {
   "cell_type": "markdown",
   "metadata": {},
   "source": [
    "# <span style=\"color:green\"> Ghost Cells </span>\n",
    "\n",
    "![alt tag](img/12.png)\n",
    "<hr style=\"height:2px\">"
   ]
  },
  {
   "cell_type": "markdown",
   "metadata": {},
   "source": [
    "# <span style=\"color:green\"> Loading an Input Tile </span>\n",
    "\n",
    "![alt tag](img/13.png)\n",
    "<hr style=\"height:2px\">"
   ]
  },
  {
   "cell_type": "markdown",
   "metadata": {},
   "source": [
    "<footer>\n",
    "<cite> GPU NVIDIA Teaching Kit - University of Illinois </cite>\n",
    "</footer>"
   ]
  }
 ],
 "metadata": {
  "kernelspec": {
   "display_name": "Python 3",
   "language": "python",
   "name": "python3"
  },
  "language_info": {
   "codemirror_mode": {
    "name": "ipython",
    "version": 3
   },
   "file_extension": ".py",
   "mimetype": "text/x-python",
   "name": "python",
   "nbconvert_exporter": "python",
   "pygments_lexer": "ipython3",
   "version": "3.5.2"
  }
 },
 "nbformat": 4,
 "nbformat_minor": 1
}
