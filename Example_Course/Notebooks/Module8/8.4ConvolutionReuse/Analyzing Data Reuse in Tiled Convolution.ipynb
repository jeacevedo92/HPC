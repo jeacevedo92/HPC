{
 "cells": [
  {
   "cell_type": "markdown",
   "metadata": {},
   "source": [
    "# <span style=\"color:green\"> Objectives </span>\n",
    "\n",
    "- To learn to analyze the cost and benefit of tiled parallel convolution algorithms\n",
    "- More complex reuse pattern than matrix multiplication\n",
    "- Less uniform access patterns\n",
    "\n",
    "<hr style=\"height:2px\">"
   ]
  },
  {
   "cell_type": "markdown",
   "metadata": {},
   "source": [
    "# <span style=\"color:green\"> An 8-element Convolution Tile </span>\n",
    "\n",
    "![alt tag](img/3.png)\n",
    "<hr style=\"height:2px\">"
   ]
  },
  {
   "cell_type": "markdown",
   "metadata": {},
   "source": [
    "# <span style=\"color:green\"> Each output P element uses 5 N elements </span>\n",
    "\n",
    "![alt tag](img/4.png)\n",
    "<hr style=\"height:2px\">"
   ]
  },
  {
   "cell_type": "markdown",
   "metadata": {},
   "source": [
    "# <span style=\"color:green\"> A simple way to calculate tiling benefit </span>\n",
    "\n",
    "- (8+5-1)=12 elements loaded\n",
    "- 8*5 global memory accesses replaced by shared memory accesses\n",
    "- This gives a bandwidth reduction of 40/12=3.3\n",
    "\n",
    "![alt tag](img/7.png)\n",
    "<hr style=\"height:2px\">"
   ]
  },
  {
   "cell_type": "markdown",
   "metadata": {},
   "source": [
    "# <span style=\"color:green\"> In General, for 1D TILED CONVOLUTION </span>\n",
    "\n",
    "- ```O_TILE_WIDTH+MASK_WIDTH -1``` elements loaded for each input tile\n",
    "- ```O_TILE_WIDTH*MASK_WIDTH``` global memory accesses replaced by shared memory accesses\n",
    "- This gives a reduction factor of ```(O_TILE_WIDTH*MASK_WIDTH)/(O_TILE_WIDTH+MASK_WIDTH-1)```\n",
    "\n",
    "\n",
    "#### This ignores ghost elements in edge tiles.\n",
    "\n",
    "<hr style=\"height:2px\">"
   ]
  },
  {
   "cell_type": "markdown",
   "metadata": {},
   "source": [
    "# <span style=\"color:green\"> Another Way to Look at Reuse </span>\n",
    "\n",
    "![alt tag](img/7.png)\n",
    "\n",
    "\n",
    "![alt tag](img/8.png)\n",
    "<hr style=\"height:2px\">"
   ]
  },
  {
   "cell_type": "markdown",
   "metadata": {},
   "source": [
    "# <span style=\"color:green\"> In General, for 1D </span>\n",
    "\n",
    "![alt tag](img/9.png)\n",
    "<hr style=\"height:2px\">"
   ]
  },
  {
   "cell_type": "markdown",
   "metadata": {},
   "source": [
    "# <span style=\"color:green\"> Examples of Bandwidth Reduction for 1D </span>\n",
    "\n",
    "#### The reduction ratio is: ```MASK_WIDTH * (O_TILE_WIDTH)/(O_TILE_WIDTH+MASK_WIDTH-1) ```\n",
    "\n",
    "![alt tag](img/10.png)\n",
    "<hr style=\"height:2px\">"
   ]
  },
  {
   "cell_type": "markdown",
   "metadata": {},
   "source": [
    "# <span style=\"color:green\"> For 2D Convolution Tiles </span>\n",
    "\n",
    "![alt tag](img/11.png)\n",
    "<hr style=\"height:2px\">"
   ]
  },
  {
   "cell_type": "markdown",
   "metadata": {},
   "source": [
    "# <span style=\"color:green\"> Bandwidth Reduction for 2D </span>\n",
    "\n",
    "![alt tag](img/12.png)\n",
    "<hr style=\"height:2px\">"
   ]
  },
  {
   "cell_type": "markdown",
   "metadata": {},
   "source": [
    "<footer>\n",
    "<cite> GPU NVIDIA Teaching Kit - University of Illinois </cite>\n",
    "</footer>"
   ]
  }
 ],
 "metadata": {
  "kernelspec": {
   "display_name": "Python 3",
   "language": "python",
   "name": "python3"
  },
  "language_info": {
   "codemirror_mode": {
    "name": "ipython",
    "version": 3
   },
   "file_extension": ".py",
   "mimetype": "text/x-python",
   "name": "python",
   "nbconvert_exporter": "python",
   "pygments_lexer": "ipython3",
   "version": "3.5.2"
  }
 },
 "nbformat": 4,
 "nbformat_minor": 1
}
