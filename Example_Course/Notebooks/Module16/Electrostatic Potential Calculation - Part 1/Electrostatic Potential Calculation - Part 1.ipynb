{
 "cells": [
  {
   "cell_type": "markdown",
   "metadata": {},
   "source": [
    "# <span style=\"color:green\"> Objective </span>\n",
    "\n",
    "- To learn how to apply parallel programming techniques to an application\n",
    "    - Thread coarsening for more work efficiency\n",
    "    - Data structure padding for reduced divergence\n",
    "    - Memory access locality and pre-computation techniques\n",
    "\n",
    "\n",
    "<hr style=\"height:2px\">"
   ]
  },
  {
   "cell_type": "markdown",
   "metadata": {},
   "source": [
    "# <span style=\"color:green\"> VMD </span>\n",
    "\n",
    "- Visual Molecular Dynamics\n",
    "    - Visualizing, animating, and analyzing bio-molecular systems\n",
    "    - More than 200,000 users as of 2012\n",
    "    - Batch (movie making) vs. interactive mode\n",
    "    - Run on laptops, desktops, clusters, supercomputers\n",
    "\n",
    "![alt tag](img/3.png)\n",
    "<hr style=\"height:2px\">"
   ]
  },
  {
   "cell_type": "markdown",
   "metadata": {},
   "source": [
    "# <span style=\"color:green\"> Electrostatic Potential Map </span>\n",
    "\n",
    "- Calculate initial electrostatic potential map around the simulated structure considering the contributions of all atoms\n",
    "    - Most time consuming, focus of our example.\n",
    "\n",
    "![alt tag](img/4.png)\n",
    "<hr style=\"height:2px\">"
   ]
  },
  {
   "cell_type": "markdown",
   "metadata": {},
   "source": [
    "# <span style=\"color:green\"> Electrostatic Potential Calculation </span>\n",
    "\n",
    "- The contribution of atom[i] to the electrostatic potential at lattice[j] is potential[j] = atom[i].charge / rij.\n",
    "- In the Direct Coulomb Summation method, the total potential at lattice point j is the sum of contributions from all atoms in the system.\n",
    "\n",
    "\n",
    "<hr style=\"height:2px\">"
   ]
  },
  {
   "cell_type": "markdown",
   "metadata": {},
   "source": [
    "# <span style=\"color:green\"> Overview of Direct Coulomb Summation (DCS) Algorithm </span>\n",
    "\n",
    "- One way to compute the electrostatic potentials on a grid,ideally suited for the GPU\n",
    "    - All atoms affect all map lattice points, most accurate\n",
    "- For each lattice point, sum potential contributions for all atoms in the simulated structure:\n",
    "    - potential += charge[i] / (distance to atom[i])\n",
    "- Approximation-based methods such as cut-off summation can achieve much higher performance at the cost of some numerical accuracy and flexibility\n",
    "\n",
    "\n",
    "<hr style=\"height:2px\">"
   ]
  },
  {
   "cell_type": "markdown",
   "metadata": {},
   "source": [
    "# <span style=\"color:green\"> Direct Coulomb Summation (DCS) Algorithm Detail </span>\n",
    "\n",
    "- At each lattice point, sum potential contributions for all atoms in the simulated structure:\n",
    "    - potential[j] += charge[i] / (distance to atom[i])\n",
    "\n",
    "![alt tag](img/7.png)\n",
    "<hr style=\"height:2px\">"
   ]
  },
  {
   "cell_type": "markdown",
   "metadata": {},
   "source": [
    "# <span style=\"color:green\"> Irregular Input vs. Regular Output </span>\n",
    "\n",
    "- Atoms come from modeled molecular structures, solvent (water) and ions\n",
    "    - Irregular by necessity\n",
    "- Energy grid models the electrostatic potential value at regularly spaced points\n",
    "    - Regular by design\n",
    "\n",
    "![alt tag](img/8.png)\n",
    "<hr style=\"height:2px\">"
   ]
  },
  {
   "cell_type": "markdown",
   "metadata": {},
   "source": [
    "# <span style=\"color:green\"> Summary of Sequential C Version </span>\n",
    "\n",
    "- Algorithm is input oriented\n",
    "    - For each input atom, calculate its contribution to all grid points in an x-y slice\n",
    "- Output (energy grid) is regular\n",
    "    - Simple linear mapping between grid point indices and modeled physical coordinates\n",
    "- Input (atom) is irregular\n",
    "    - Modeled x,y,z coordinate of each atom needs to be stored in the atom array\n",
    "- The algorithm is efficient in performing minimal calculations on distances, coordinates, etc.\n",
    "\n",
    "<hr style=\"height:2px\">"
   ]
  },
  {
   "cell_type": "markdown",
   "metadata": {},
   "source": [
    "# <span style=\"color:green\"> An Intuitive Sequential C Version </span>\n",
    "\n",
    "```cpp\n",
    "\n",
    "void cenergy (float *energygrid, dim3 grid, float gridspacing, float z,\n",
    "const float * atoms, int numatoms) {\n",
    "    int I, j, n;\n",
    "    int k = z / gridspacing;\n",
    "    int automarrdim = numatoms * 4;\n",
    "    for (j=0; j<grid.y; j++) {\n",
    "        float y = gridspacing * (float) j;\n",
    "        for (i=0; i<grid.x; i++) {\n",
    "            float x = gridspacing * (float) I;\n",
    "            float energy = 0.0f;\n",
    "            for (n=0; n<automarrdim; n+=4) {\n",
    "                float dx = x – atoms [n ];\n",
    "                float dy = y – atomas[n+1];\n",
    "                float dz = z – atoms[n+2];\n",
    "                energy += atomas[c+3]/sqrtf(dx * dx + dz * dz);\n",
    "            }\n",
    "            energygrid[grid.x * grid.y * k + grid.x * j + i= = energy;\n",
    "        }\n",
    "    }\n",
    "}\n",
    "\n",
    "```\n",
    "\n",
    "#### The grid parameter gives the number of grid points in each dimension of the lattice.\n",
    "\n",
    "<hr style=\"height:2px\">"
   ]
  },
  {
   "cell_type": "markdown",
   "metadata": {},
   "source": [
    "# <span style=\"color:green\"> A More Optimized Sequential C Version </span>\n",
    "\n",
    "```cpp\n",
    "\n",
    "void cenergy(float *energygrid, dim3 grid, float gridspacing, float z, const float\n",
    "*atoms, int numatoms) {\n",
    "    int atomarrdim = numatoms * 4; //x,y,z, and charge info for each atom\n",
    "    int grid_slice_offset = (grid.x*grid.y*z) / gridspacing;\n",
    "    for (int n=0; n<atomarrdim; n+=4) { // INPUT ORIENTED\n",
    "        // calculate potential contribution of each atom\n",
    "        float dz = z - atoms[n+2]; // all grid points in a slice have the same z value\n",
    "        float dz2 = dz*dz;\n",
    "        float charge = atoms[n+3];\n",
    "        for (int j=0; j<grid.y; j++) {\n",
    "            float y = gridspacing * (float) j;\n",
    "            float dy = y - atoms[n+1]; // all grid points in a row have the same y value\n",
    "            float dy2 = dy*dy;\n",
    "            int grid_row_offset = grid_slice_offset+ grid.x*j;\n",
    "            for (int i=0; i<grid.x; i++) {\n",
    "                float x = gridspacing * (float) i;\n",
    "                float dx = x - atoms[n];\n",
    "                energygrid[grid_row_offset + i] += charge / sqrtf(dx*dx + dy2+ dz2);\n",
    "            }\n",
    "        }\n",
    "    }\n",
    "}\n",
    "\n",
    "\n",
    "```\n",
    "\n",
    "<hr style=\"height:2px\">"
   ]
  },
  {
   "cell_type": "markdown",
   "metadata": {},
   "source": [
    "# <span style=\"color:green\"> An More Optimized Sequential C Version </span>\n",
    "\n",
    "```cpp\n",
    "\n",
    "void cenergy(float *energygrid, dim3 grid, float gridspacing, float z, const float\n",
    "*atoms, int numatoms) {\n",
    "    int grid_slice_offset = (grid.x*grid.y*z) / gridspacing;\n",
    "    int atomarrdim = numatoms * 4; //x,y,z, and charge info for each atom\n",
    "    for (int n=0; n<atomarrdim; n+=4) {\n",
    "        // calculate potential contribution of each atom\n",
    "        float dz = z - atoms[n+2]; // all grid points in a slice have the same z value\n",
    "        float dz2 = dz*dz;\n",
    "        float charge = atoms[n+3];\n",
    "        for (int j=0; j<grid.y; j++) {\n",
    "            float y = gridspacing * (float) j;\n",
    "            float dy = y - atoms[n+1]; // all grid points in a row have the same y value\n",
    "            float dy2 = dy*dy;\n",
    "            int grid_row_offset = grid_slice_offset+ grid.x*j;\n",
    "            for (int i=0; i<grid.x; i++) {\n",
    "                float x = gridspacing * (float) i;\n",
    "                float dx = x - atoms[n];\n",
    "                energygrid[grid_row_offset + i] += charge / sqrtf(dx*dx + dy2+ dz2);\n",
    "            }\n",
    "        }\n",
    "    }\n",
    "}\n",
    "\n",
    "```\n",
    "\n",
    "<hr style=\"height:2px\">"
   ]
  },
  {
   "cell_type": "markdown",
   "metadata": {},
   "source": [
    "# <span style=\"color:green\"> A More Optimized Sequential C Version </span>\n",
    "\n",
    "```cpp\n",
    "\n",
    "void cenergy(float *energygrid, dim3 grid, float gridspacing, float z, const float\n",
    "*atoms, int numatoms) {\n",
    "    int grid_slice_offset = (grid.x*grid.y*z) / gridspacing; //Pay attention here\n",
    "    int atomarrdim = numatoms * 4; //x,y,z, and charge info for each atom\n",
    "    for (int n=0; n<atomarrdim; n+=4) {\n",
    "        // calculate potential contribution of each atom\n",
    "        float dz = z - atoms[n+2]; // all grid points in a slice have the same z value\n",
    "        float dz2 = dz*dz;\n",
    "        float charge = atoms[n+3];\n",
    "        for (int j=0; j<grid.y; j++) {\n",
    "            float y = gridspacing * (float) j;\n",
    "            float dy = y - atoms[n+1]; // all grid points in a row have the same y value\n",
    "            float dy2 = dy*dy;\n",
    "            int grid_row_offset = grid_slice_offset+ grid.x*j;\n",
    "            for (int i=0; i<grid.x; i++) {\n",
    "                float x = gridspacing * (float) i;\n",
    "                float dx = x - atoms[n];\n",
    "                energygrid[grid_row_offset + i] += charge / sqrtf(dx*dx + dy2+ dz2);\n",
    "            }\n",
    "        }\n",
    "    }\n",
    "}\n",
    "\n",
    "```\n",
    "<hr style=\"height:2px\">"
   ]
  },
  {
   "cell_type": "markdown",
   "metadata": {},
   "source": [
    "# <span style=\"color:green\"> An Intuitive Sequential C Version </span>\n",
    "\n",
    "```cpp\n",
    "\n",
    "void cenergy(float *energygrid, dim3 grid, float gridspacing, float z, const float\n",
    "*atoms, int numatoms) {\n",
    "    int grid_slice_offset = (grid.x*grid.y*z) / gridspacing;\n",
    "    int atomarrdim = numatoms * 4; //x,y,z, and charge info for each atom\n",
    "    for (int n=0; n<atomarrdim; n+=4) {\n",
    "        // calculate potential contribution of each atom\n",
    "        float dz = z - atoms[n+2]; // all grid points in a slice have the same z value\n",
    "        float dz2 = dz*dz;\n",
    "        float charge = atoms[n+3];\n",
    "        for (int j=0; j<grid.y; j++) {\n",
    "            float y = gridspacing * (float) j;\n",
    "            float dy = y - atoms[n+1]; // all grid points in a row have the same y value\n",
    "            float dy2 = dy*dy;\n",
    "            int grid_row_offset = grid_slice_offset+ grid.x*j;\n",
    "            for (int i=0; i<grid.x; i++) {\n",
    "                float x = gridspacing * (float) i;\n",
    "                float dx = x - atoms[n\n",
    "            ];\n",
    "            energygrid[grid_row_offset + i] += charge / sqrtf(dx*dx + dy2+ dz2);\n",
    "            }\n",
    "        }\n",
    "    }\n",
    "}\n",
    "\n",
    "```\n",
    "\n",
    "<hr style=\"height:2px\">"
   ]
  },
  {
   "cell_type": "markdown",
   "metadata": {},
   "source": [
    "# <span style=\"color:green\"> CUDA DCS Implementation Overview </span>\n",
    "\n",
    "- Allocate and initialize potential map memory on host CPU\n",
    "- Allocate potential map slice buffer on GPU\n",
    "- Preprocess atom coordinates and charges\n",
    "- Loop over potential map slices:\n",
    "    - Copy potential map slice from host to GPU\n",
    "    - Loop over groups of atoms:\n",
    "        - Copy atom data to GPU\n",
    "        - Run CUDA Kernel on atoms and potential map slice on GPU\n",
    "    - Copy potential map slice from GPU to host\n",
    "- Free resources\n",
    "\n",
    "<hr style=\"height:2px\">"
   ]
  },
  {
   "cell_type": "markdown",
   "metadata": {},
   "source": [
    "# <span style=\"color:green\"> Straightforward CUDA Parallelization </span>\n",
    "\n",
    "- Use each thread to compute the contribution of an atom to all grid points in the current slice\n",
    "    - Scatter parallelization\n",
    "- Kernel code largely correspond to intuitive CPU version with outer loop stripped\n",
    "    - Each thread corresponds to an outer loop iteration of CPU version\n",
    "    - numatoms used in kernel launch configuration host code\n",
    "\n",
    "![alt tag](img/3.png)\n",
    "<hr style=\"height:2px\">"
   ]
  },
  {
   "cell_type": "markdown",
   "metadata": {},
   "source": [
    "# <span style=\"color:green\"> A Very Slow DCS Scatter Kernel! </span>\n",
    "\n",
    "```cpp\n",
    "\n",
    "void __global__ cenergy(float *energygrid, float *atoms, dim3 grid, float gridspacing,\n",
    "float z) {\n",
    "    int n = (blockIdx.x * blockDim .x + threadIdx.x) * 4;\n",
    "    float dz = z - atoms[n+2]; // all grid points in a slice have the same z value\n",
    "    float dz2 = dz*dz;\n",
    "    int grid_slice_offset = (grid.x*grid.y*z) / gridspacing;\n",
    "    float charge = atoms[n+3]; // Needs to be calculated by every thread\n",
    "        for (int j=0; j<grid.y; j++) {\n",
    "            float y = gridspacing * (float) j;\n",
    "            float dy = y - atoms[n+1]; // all grid points in a row have the same y value\n",
    "            float dy2 = dy*dy;\n",
    "            int grid_row_offset = grid_slice_offset+ grid.x*j;\n",
    "            for (int i=0; i<grid.x; i++) {\n",
    "                float x = gridspacing * (float) i;\n",
    "                float dx = x - atoms[n];\n",
    "                energygrid[grid_row_offset + i] += charge / sqrtf(dx*dx + dy2+ dz2));\n",
    "            }\n",
    "        }\n",
    "    }\n",
    "}\n",
    "\n",
    "```\n",
    "\n",
    "<hr style=\"height:2px\">"
   ]
  },
  {
   "cell_type": "markdown",
   "metadata": {},
   "source": [
    "# <span style=\"color:green\"> A Very Slow DCS Scatter Kernel! </span>\n",
    "\n",
    "```cpp\n",
    "\n",
    "void __global__ cenergy(float *energygrid, float *atoms, dim3\n",
    "grid, float gridspacing, float z) {\n",
    "    int n = (blockIdx.x * blockDim .x + threadIdx.x) *4;\n",
    "    float dz = z - atoms[n+2]; // all grid points in a slice have\n",
    "    the same z value\n",
    "    float dz2 = dz*dz;\n",
    "    int grid_slice_offset = (grid.x*grid.y*z) / gridspacing;\n",
    "    float charge = atoms[n+3];\n",
    "    for (int j=0; j<grid.y; j++) {\n",
    "        float y = gridspacing * (float) j;\n",
    "        float dy = y - atoms[n+1]; // all grid points in a row have the same y value\n",
    "        float dy2 = dy*dy;\n",
    "        int grid_row_offset = grid_slice_offset+ grid.x*j;\n",
    "        for (int i=0; i<grid.x; i++) {\n",
    "            Needs to be done as\n",
    "            float x = gridspacing * (float) i;\n",
    "            an atomic operation\n",
    "            float dx = x - atoms[n];\n",
    "            energygrid[grid_row_offset + i] += charge / sqrtf(dx*dx+ dy2+ dz2)); // Needs to be done as an atomic operation\n",
    "        }\n",
    "    }\n",
    "}\n",
    "\n",
    "```\n",
    "\n",
    "<hr style=\"height:2px\">"
   ]
  },
  {
   "cell_type": "markdown",
   "metadata": {},
   "source": [
    "# <span style=\"color:green\"> Scatter Parallelization </span>\n",
    "\n",
    "![alt tag](img/19.png)\n",
    "<hr style=\"height:2px\">"
   ]
  },
  {
   "cell_type": "markdown",
   "metadata": {},
   "source": [
    "# <span style=\"color:green\"> Why is scatter parallelization often used rather than gather? </span>\n",
    "\n",
    "- In practice, each in element does not have significant effect on all out elements\n",
    "- Output tends to be much more regular than input\n",
    "    - Input usually comes as sparse data structure, where coordinates are part of the data\n",
    "    - One needs to look at the input data to see if an input is relevant to an output value\n",
    "    - Output is usually a regular, grid\n",
    "    - Given an input value, one can easily find output via index calculation\n",
    "\n",
    "<hr style=\"height:2px\">"
   ]
  },
  {
   "cell_type": "markdown",
   "metadata": {},
   "source": [
    "# <span style=\"color:green\"> Challenges in Gather Parallelization </span>\n",
    "\n",
    "- Regularize input elements so that it is easier to find all in elements that affects an out element\n",
    "    - Input Binning (ECE598HK)\n",
    "- Can be even more challenging if data is non-uniformly distributed\n",
    "    - Cut-off Binning for Non-Uniform Data (ECE598HK)\n",
    "- For this lecture, we assume that all in elements affect all out elements\n",
    "\n",
    "<hr style=\"height:2px\">"
   ]
  },
  {
   "cell_type": "markdown",
   "metadata": {},
   "source": [
    "# <span style=\"color:green\"> Pros and Cons of the Scatter Kernel </span>\n",
    "\n",
    "- Pros\n",
    "    - Follows closely the simple CPU version\n",
    "    - Good for software engineering and code maintenance\n",
    "    - Preserves computation efficiency (coordinates, distances, offsets) of sequential code\n",
    "- Cons\n",
    "    - The atomic add serializes the execution, very slow!\n",
    "    - Not even worth trying this.\n",
    "\n",
    "<hr style=\"height:2px\">"
   ]
  },
  {
   "cell_type": "markdown",
   "metadata": {},
   "source": [
    "<footer>\n",
    "<cite> GPU NVIDIA Teaching Kit - University of Illinois </cite>\n",
    "</footer>"
   ]
  }
 ],
 "metadata": {
  "kernelspec": {
   "display_name": "Python 3",
   "language": "python",
   "name": "python3"
  },
  "language_info": {
   "codemirror_mode": {
    "name": "ipython",
    "version": 3
   },
   "file_extension": ".py",
   "mimetype": "text/x-python",
   "name": "python",
   "nbconvert_exporter": "python",
   "pygments_lexer": "ipython3",
   "version": "3.5.2"
  }
 },
 "nbformat": 4,
 "nbformat_minor": 1
}
