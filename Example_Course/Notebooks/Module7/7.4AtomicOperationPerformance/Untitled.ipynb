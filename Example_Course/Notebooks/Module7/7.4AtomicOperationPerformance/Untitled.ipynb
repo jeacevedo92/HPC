{
 "cells": [
  {
   "cell_type": "markdown",
   "metadata": {},
   "source": [
    "# <span style=\"color:green\">Objective</span>\n",
    "<div style=\"text-align:justify;font-size:20px\">\n",
    "<body>\n",
    "To learn about the main performance considerations of atomic\n",
    "operations\n",
    "<ul>\n",
    "<li>Latency and throughput of atomic operations</li>\n",
    "<li>Atomic operations on global memory</li>\n",
    "<li>Atomic operations on shared L2 cache</li>\n",
    "<li>Atomic operations on shared memory</li>\n",
    "</ul>\n",
    "</body>\n",
    "</div>\n",
    "<hr style=\"height:2px\">"
   ]
  },
  {
   "cell_type": "markdown",
   "metadata": {},
   "source": [
    "# <span style=\"color:green\">Atomic Operations on Global Memory (DRAM)</span>\n",
    "<div style=\"text-align:justify;font-size:25px\">\n",
    "\n",
    "<body>\n",
    "<ul>\n",
    "<li>An atomic operation on a\n",
    "DRAM location starts with a\n",
    "read, which has a latency of\n",
    "a few hundred cycles</li>\n",
    "<li>The atomic operation ends\n",
    "with a write to the same\n",
    "location, with a latency of a\n",
    "few hundred cycles</li>\n",
    "<li>During this whole time, no\n",
    "one else can access the\n",
    "location</li>\n",
    "</ul>\n",
    "</body>\n",
    "<br></br>\n",
    "        <span style=\"float:center;clear:center\">![alt tag](img/1.png)</span>\n",
    "</div>\n",
    "<hr style=\"height:2px\">"
   ]
  },
  {
   "cell_type": "markdown",
   "metadata": {},
   "source": [
    "# <span style=\"color:green\">Atomic Operations on DRAM</span>\n",
    "<div style=\"text-align:justify;font-size:20px\">\n",
    "\n",
    "<body>\n",
    "<ul>\n",
    "<li>Each Read-Modify-Write has two full memory access delays\n",
    "    <ul>\n",
    "        <li>All atomic operations on the same variable (DRAM location) are serialized</li>\n",
    "    </ul>\n",
    "</li>\n",
    "</ul>\n",
    "</body>\n",
    "<br></br>\n",
    "        <span style=\"float:center;clear:center\">![alt tag](img/2.png)</span>\n",
    "</div>\n",
    "<hr style=\"height:2px\">"
   ]
  },
  {
   "cell_type": "markdown",
   "metadata": {},
   "source": [
    "# <span style=\"color:green\">Latency determines throughput</span>\n",
    "<div style=\"text-align:justify;font-size:25px\">\n",
    "\n",
    "<body>\n",
    "<ul>\n",
    "<li>Throughput of atomic operations on the same DRAM location is the\n",
    "rate at which the application can execute an atomic operation.</li>\n",
    "<li>The rate for atomic operation on a particular location is limited by the\n",
    "total latency of the read-modify-write sequence, typically more than\n",
    "1000 cycles for global memory (DRAM) locations.</li>\n",
    "<li>This means that if many threads attempt to do atomic operation on\n",
    "the same location (contention), the memory throughput is reduced to\n",
    "&lt; 1/1000 of the peak bandwidth of one memory channel!</li>\n",
    "</ul>\n",
    "</body>\n",
    "</div>\n",
    "<hr style=\"height:2px\">"
   ]
  },
  {
   "cell_type": "markdown",
   "metadata": {},
   "source": [
    "# <span style=\"color:green\">You may have a similar experience in supermarket checkout</span>\n",
    "<div style=\"text-align:justify;font-size:25px\">\n",
    "<br></br>\n",
    "<body>\n",
    "<ul>\n",
    "<li>Some customers realize that they missed an item after they started\n",
    "to check out</li>\n",
    "<br></br>\n",
    "<li>They run to the isle and get the item while the line waits\n",
    "<br></br>\n",
    "    <ul>\n",
    "        <li>The rate of checkout is drasticaly reduced due to the long latency of running to the\n",
    "isle and back.</li>\n",
    "    </ul>\n",
    "</li>\n",
    "<br></br>\n",
    "<li>Imagine a store where every customer starts the check out before\n",
    "they even fetch any of the items\n",
    "    <br></br>\n",
    "    <ul>\n",
    "        <li>The rate of the checkout will be 1 / (entire shopping time of each customer)</li>\n",
    "    </ul\n",
    "</li>\n",
    "</ul>\n",
    "</body>\n",
    "</div>\n",
    "<hr style=\"height:2px\">"
   ]
  },
  {
   "cell_type": "markdown",
   "metadata": {},
   "source": [
    "# <span style=\"color:green\">Hardware Improvements</span>\n",
    "<div style=\"text-align:justify;font-size:25px\">\n",
    "\n",
    "<body>\n",
    "<ul>\n",
    "<li>Atomic operations on Fermi L2 cache\n",
    "    <ul>\n",
    "        <li>Medium latency, about 1/10 of the DRAM latency</li>\n",
    "        <li>Shared among all blocks</li>\n",
    "        <li>“Free improvement” on Global Memory atomics</li>\n",
    "    </ul>\n",
    "</li>\n",
    "</ul>\n",
    "</body>\n",
    "<br></br>\n",
    "        <span style=\"float:center;clear:center\">![alt tag](img/3.png)</span>\n",
    "</div>\n",
    "<hr style=\"height:2px\">"
   ]
  },
  {
   "cell_type": "markdown",
   "metadata": {},
   "source": [
    "# <span style=\"color:green\">Hardware Improvements</span>\n",
    "<div style=\"text-align:justify;font-size:25px\">\n",
    "\n",
    "<body>\n",
    "<ul>\n",
    "<li>Atomic operations on Shared Memory\n",
    "    <ul>\n",
    "        <li>Very short latency</li>\n",
    "        <li>Private to each thread block</li>\n",
    "        <li>Need algorithm work by programmers (more later)</li>\n",
    "    </ul>\n",
    "</li>\n",
    "</ul>\n",
    "</body>\n",
    "<br></br>\n",
    "        <span style=\"float:center;clear:center\">![alt tag](img/4.png)</span>\n",
    "</div>\n",
    "<hr style=\"height:2px\">"
   ]
  },
  {
   "cell_type": "markdown",
   "metadata": {},
   "source": []
  }
 ],
 "metadata": {
  "kernelspec": {
   "display_name": "Python 2",
   "language": "python",
   "name": "python2"
  },
  "language_info": {
   "codemirror_mode": {
    "name": "ipython",
    "version": 2
   },
   "file_extension": ".py",
   "mimetype": "text/x-python",
   "name": "python",
   "nbconvert_exporter": "python",
   "pygments_lexer": "ipython2",
   "version": "2.7.6"
  }
 },
 "nbformat": 4,
 "nbformat_minor": 1
}
