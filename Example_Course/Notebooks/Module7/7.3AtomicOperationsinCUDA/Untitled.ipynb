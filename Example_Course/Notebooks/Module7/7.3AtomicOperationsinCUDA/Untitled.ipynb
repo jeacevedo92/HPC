{
 "cells": [
  {
   "cell_type": "markdown",
   "metadata": {},
   "source": [
    "# <span style=\"color:green\">Objective</span>\n",
    "<div style=\"text-align:justify;font-size:20px\">\n",
    "<body>\n",
    "To learn to use atomic operations in parallel programming\n",
    "<ul>\n",
    "<li>Atomic operation concepts</li>\n",
    "<li>Types of atomic operations in CUDA</li>\n",
    "<li>Intrinsic functions</li>\n",
    "<li>A basic histogram kernel</li>\n",
    "</ul>\n",
    "</body>\n",
    "</div>\n",
    "<hr style=\"height:2px\">"
   ]
  },
  {
   "cell_type": "markdown",
   "metadata": {},
   "source": [
    "# <span style=\"color:green\">Data Race Without Atomic Operations</span>\n",
    "\n",
    "\n",
    "<br></br>\n",
    "<div style=\"text-align:justify\">\n",
    "\n",
    "        <br></br>\n",
    "        <span style=\"float:center;clear:center\">![alt tag](img/1.png)</span>\n",
    "\n",
    "</div>\n",
    "\n",
    "<hr style=\"height:2px\">"
   ]
  },
  {
   "cell_type": "markdown",
   "metadata": {},
   "source": [
    "# <span style=\"color:green\">Key Concepts of Atomic Operations</span>\n",
    "\n",
    "<br></br>\n",
    "<div style=\"text-align:justify;font-size:20px\">\n",
    "        <ul>\n",
    "            <body>\n",
    "            <li>A read-modify-write operation performed by a single hardware\n",
    "instruction on a memory location address\n",
    "                <ul>\n",
    "                    <li>Read the old value, calculate a new value, and write the new value to the\n",
    "location</li>\n",
    "                </ul>\n",
    "            </li>\n",
    "            <li>The hardware ensures that no other threads can perform another\n",
    "read-modify-write operation on the same location until the current\n",
    "atomic operation is complete\n",
    "                <ul>\n",
    "                    <li>Any other threads that attempt to perform an atomic operation on the\n",
    "same location will typically be held in a queue</li>\n",
    "                    <li>All threads perform their atomic operations <strong>serially</strong> on the same location</li>\n",
    "                </ul>\n",
    "            </li>\n",
    "            </body>\n",
    "        </ul>\n",
    "</div>\n",
    "\n",
    "<hr style=\"height:2px\">"
   ]
  },
  {
   "cell_type": "markdown",
   "metadata": {},
   "source": [
    "# <span style=\"color:green\">Atomic Operations in CUDA</span>\n",
    "\n",
    "<br></br>\n",
    "<div style=\"text-align:justify;font-size:20px\">\n",
    "        <ul>\n",
    "            <body>\n",
    "            <li>Performed by calling functions that are translated into single instructions\n",
    "(a.k.a. intrinsic functions or intrinsics)\n",
    "                <ul>\n",
    "                    <li>Atomic add, sub, inc, dec, min, max, exch (exchange), CAS (compare\n",
    "and swap)</li>\n",
    "                    <li>Read CUDA C programming Guide 4.0 or later for details</li>\n",
    "                </ul>\n",
    "            </li>\n",
    "            <li>Atomic Add\n",
    "                <ul>\n",
    "                    ```int atomicAdd(int* address, int val);```\n",
    "                    <li>reads the 32-bit word <strong>old</strong> from the location pointed to by <strong>address</strong> in global or shared memory, computes (<strong>old + val</strong>), and stores the\n",
    "result back to memory at the same address. The function returns\n",
    "<strong>old</strong>.</li>\n",
    "                </ul>\n",
    "            </li>\n",
    "            </body>\n",
    "        </ul>\n",
    "</div>\n",
    "\n",
    "<hr style=\"height:2px\">"
   ]
  },
  {
   "cell_type": "markdown",
   "metadata": {},
   "source": [
    "# <span style=\"color:green\">More Atomic Adds in CUDA</span>\n",
    "\n",
    "<br></br>\n",
    "<div style=\"text-align:justify;font-size:18px\">\n",
    "        <ul>\n",
    "            <body>\n",
    "            <li>Unsigned 32-bit integer atomic add\n",
    "                <br></br>\n",
    "                ```unsigned int atomicAdd(unsigned int* address, unsigned int val);```\n",
    "            </li>\n",
    "            <br></br>\n",
    "            <li>Unsigned 64-bit integer atomic add\n",
    "                <br></br>\n",
    "              ```unsigned long long int atomicAdd(unsigned long long int* address, unsigned long long int val);```\n",
    "            </li>\n",
    "            <br></br>\n",
    "            <li>Single-precision floating-point atomic add (capability > 2.0)\n",
    "                <br></br>\n",
    "                ```float atomicAdd(float* address, float val);```\n",
    "            </li>\n",
    "            \n",
    "            </body>\n",
    "        </ul>\n",
    "</div>\n",
    "\n",
    "<hr style=\"height:2px\">"
   ]
  },
  {
   "cell_type": "markdown",
   "metadata": {},
   "source": [
    "# <span style=\"color:green\">A Basic Text Histogram Kernel</span>\n",
    "\n",
    "\n",
    "<br></br>\n",
    "<div style=\"text-align:justify;font-size:20px\">\n",
    "        <ul>\n",
    "            <body>\n",
    "                    <li>The kernel receives a pointer to the input buffer of byte values</li>\n",
    "                    <br></br>\n",
    "                    <li>Each thread process the input in a strided pattern</li>\n",
    "            </body>\n",
    "        </ul>\n",
    "        <br></br>\n",
    "        <span style=\"float:center;clear:center\">![alt tag](img/2.png)</span>\n",
    "\n",
    "</div>\n",
    "\n",
    "<hr style=\"height:2px\">"
   ]
  },
  {
   "cell_type": "markdown",
   "metadata": {},
   "source": [
    "# <span style=\"color:green\">A Basic Histogram Kernel (cont.)</span>\n",
    "\n",
    "\n",
    "<br></br>\n",
    "<div style=\"text-align:justify;font-size:20px\">\n",
    "        <ul>\n",
    "            <body>\n",
    "                    <li>The kernel receives a pointer to the input buffer of byte values</li>\n",
    "                    <br></br>\n",
    "                    <li>Each thread process the input in a strided pattern</li>\n",
    "            </body>\n",
    "        </ul>\n",
    "        <br></br>\n",
    "        <span style=\"float:center;clear:center\">![alt tag](img/3.png)</span>\n",
    "\n",
    "</div>\n",
    "\n",
    "<hr style=\"height:2px\">"
   ]
  },
  {
   "cell_type": "markdown",
   "metadata": {},
   "source": [
    "<footer>\n",
    "<cite> GPU NVIDIA Teaching Kit - University of Illinois </cite>\n",
    "</footer>\n",
    "<hr style=\"height:2px\">"
   ]
  }
 ],
 "metadata": {
  "kernelspec": {
   "display_name": "Python 2",
   "language": "python",
   "name": "python2"
  },
  "language_info": {
   "codemirror_mode": {
    "name": "ipython",
    "version": 2
   },
   "file_extension": ".py",
   "mimetype": "text/x-python",
   "name": "python",
   "nbconvert_exporter": "python",
   "pygments_lexer": "ipython2",
   "version": "2.7.6"
  }
 },
 "nbformat": 4,
 "nbformat_minor": 1
}
